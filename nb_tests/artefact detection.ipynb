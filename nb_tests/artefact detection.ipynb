{
 "cells": [
  {
   "cell_type": "code",
   "execution_count": 5,
   "id": "a7db6981-c9b5-4b44-a112-0ef6973333d4",
   "metadata": {},
   "outputs": [],
   "source": [
    "#import libraries and modules\n",
    "from operator import index\n",
    "import mne\n",
    "import numpy as np\n",
    "import scipy\n",
    "from scipy import stats\n",
    "import matplotlib.pyplot as plt\n",
    "import seaborn as sns\n",
    "import pandas as  pd\n",
    "import mne_bids\n",
    "import string\n",
    "import os\n",
    "from os.path import join\n",
    "from bids import BIDSLayout\n",
    "import csv"
   ]
  },
  {
   "cell_type": "code",
   "execution_count": 6,
   "id": "72bf6c5b-2342-41a9-a9d4-91f1c230b8bc",
   "metadata": {},
   "outputs": [],
   "source": [
    "#read the files with mne Bids\n",
    "def read_BIDS_data(PATH_RUN, BIDS_PATH):\n",
    "    \"\"\"Given a run path and bids data path, read the respective data\n",
    "    Parameters\n",
    "    ----------\n",
    "    PATH_RUN : string\n",
    "    BIDS_PATH : string\n",
    "    Returns\n",
    "    -------\n",
    "    raw_arr : mne.io.RawArray\n",
    "    raw_arr_data : np.ndarray\n",
    "    fs : int\n",
    "    line_noise : int\n",
    "    \"\"\"\n",
    "    entities = mne_bids.get_entities_from_fname(PATH_RUN)\n",
    "\n",
    "    bids_path = mne_bids.BIDSPath(\n",
    "            subject=entities[\"subject\"],\n",
    "            session=entities[\"session\"],\n",
    "            task=entities[\"task\"],\n",
    "            run=entities[\"run\"],\n",
    "            acquisition=entities[\"acquisition\"],\n",
    "            datatype=\"ieeg\",\n",
    "            root=BIDS_PATH,\n",
    "                            )\n",
    "\n",
    "    raw_arr = mne_bids.read_raw_bids(bids_path)\n",
    "    return (\n",
    "        raw_arr,\n",
    "        raw_arr.get_data(),\n",
    "        int(np.ceil(raw_arr.info[\"sfreq\"])),\n",
    "        int(raw_arr.info[\"line_freq\"]),),\n"
   ]
  },
  {
   "cell_type": "code",
   "execution_count": 7,
   "id": "79a43b28-f213-448c-b110-895a3253b62b",
   "metadata": {},
   "outputs": [],
   "source": [
    "PATH_BIDS = r'/Users/alidzaye/rawdata'\n",
    "PATH_RUN = r'/Users/alidzaye/rawdata/sub-003/ses-EphysMedOff01/ieeg/sub-003_ses-EphysMedOff01_task-Rest_acq-StimOff_run-01_ieeg.vhdr'"
   ]
  },
  {
   "cell_type": "code",
   "execution_count": 8,
   "id": "ef7338ce-7d04-44c3-b022-6f4a5ca3e324",
   "metadata": {},
   "outputs": [
    {
     "name": "stdout",
     "output_type": "stream",
     "text": [
      "Extracting parameters from /Users/alidzaye/rawdata/sub-003/ses-EphysMedOff01/ieeg/sub-003_ses-EphysMedOff01_task-Rest_acq-StimOff_run-01_ieeg.vhdr...\n",
      "Setting channel info structure...\n",
      "Reading channel info from /Users/alidzaye/rawdata/sub-003/ses-EphysMedOff01/ieeg/sub-003_ses-EphysMedOff01_task-Rest_acq-StimOff_run-01_channels.tsv.\n",
      "Reading in coordinate system frame Other: None.\n",
      "Reading electrode coords from /Users/alidzaye/rawdata/sub-003/ses-EphysMedOff01/ieeg/sub-003_ses-EphysMedOff01_space-MNI152NLin2009bAsym_electrodes.tsv.\n"
     ]
    },
    {
     "name": "stderr",
     "output_type": "stream",
     "text": [
      "<ipython-input-6-cf59c558113f>:27: RuntimeWarning: Did not find any events.tsv associated with sub-003_ses-EphysMedOff01_task-Rest_acq-StimOff_run-01.\n",
      "\n",
      "The search_str was \"/Users/alidzaye/rawdata/sub-003/**/sub-003_ses-EphysMedOff01*events.tsv\"\n",
      "  raw_arr = mne_bids.read_raw_bids(bids_path)\n",
      "<ipython-input-6-cf59c558113f>:27: RuntimeWarning: Defaulting coordinate frame to unknown from coordinate system input Other\n",
      "  raw_arr = mne_bids.read_raw_bids(bids_path)\n",
      "<ipython-input-6-cf59c558113f>:27: RuntimeWarning: Fiducial point nasion not found, assuming identity unknown to head transformation\n",
      "  raw_arr = mne_bids.read_raw_bids(bids_path)\n",
      "<ipython-input-6-cf59c558113f>:27: RuntimeWarning: DigMontage is only a subset of info. There are 2 channel positions not present in the DigMontage. The required channels are:\n",
      "\n",
      "['EEG_Cz_TM', 'EEG_Fz_TM'].\n",
      "\n",
      "Consider using inst.set_channel_types if these are not EEG channels, or use the on_missing parameter if the channel positions are allowed to be unknown in your analyses.\n",
      "  raw_arr = mne_bids.read_raw_bids(bids_path)\n"
     ]
    },
    {
     "name": "stdout",
     "output_type": "stream",
     "text": [
      "The read in electrodes file is: \n",
      " [('name', ['ECOG_L_1_SMC_AT', 'ECOG_L_2_SMC_AT', 'ECOG_L_3_SMC_AT', 'ECOG_L_4_SMC_AT', 'ECOG_L_5_SMC_AT', 'ECOG_L_6_SMC_AT', 'LFP_R_1_STN_MT', 'LFP_R_2_STN_MT', 'LFP_R_3_STN_MT', 'LFP_R_4_STN_MT', 'LFP_L_1_STN_MT', 'LFP_L_2_STN_MT', 'LFP_L_3_STN_MT', 'LFP_L_4_STN_MT']), ('x', ['-23.5', '-25.5', '-27.5', '-28.0', '-28.0', '-28.0', '12.3329', '13.2073', '14.0552', '14.8684', '-10.4793', '-11.157', '-11.798', '-12.4066']), ('y', ['-53.0', '-42.5', '-32.0', '-22.0', '-10.5', '0.5', '-14.1452', '-13.2389', '-12.3317', '-11.4021', '-15.6278', '-14.5562', '-13.483', '-12.3907']), ('z', ['72.5', '72.5', '72.0', '71.0', '68.0', '63.5', '-9.19623', '-7.32322', '-5.43968', '-3.54888', '-8.22072', '-6.39784', '-4.56256', '-2.70754']), ('size', ['12.57', '12.57', '12.57', '12.57', '12.57', '12.57', '6.0', '6.0', '6.0', '6.0', '6.0', '6.0', '6.0', '6.0'])]\n"
     ]
    },
    {
     "ename": "ValueError",
     "evalue": "not enough values to unpack (expected 4, got 1)",
     "output_type": "error",
     "traceback": [
      "\u001b[0;31m---------------------------------------------------------------------------\u001b[0m",
      "\u001b[0;31mValueError\u001b[0m                                Traceback (most recent call last)",
      "\u001b[0;32m<ipython-input-8-f61af10dfceb>\u001b[0m in \u001b[0;36m<module>\u001b[0;34m\u001b[0m\n\u001b[0;32m----> 1\u001b[0;31m \u001b[0mraw\u001b[0m\u001b[0;34m,\u001b[0m \u001b[0mdat\u001b[0m\u001b[0;34m,\u001b[0m \u001b[0msfreq\u001b[0m\u001b[0;34m,\u001b[0m \u001b[0mline_freq\u001b[0m \u001b[0;34m=\u001b[0m \u001b[0mread_BIDS_data\u001b[0m\u001b[0;34m(\u001b[0m\u001b[0mPATH_RUN\u001b[0m\u001b[0;34m,\u001b[0m \u001b[0mPATH_BIDS\u001b[0m\u001b[0;34m)\u001b[0m\u001b[0;34m\u001b[0m\u001b[0;34m\u001b[0m\u001b[0m\n\u001b[0m",
      "\u001b[0;31mValueError\u001b[0m: not enough values to unpack (expected 4, got 1)"
     ]
    }
   ],
   "source": [
    "raw, dat, sfreq, line_freq = read_BIDS_data(PATH_RUN, PATH_BIDS)"
   ]
  },
  {
   "cell_type": "code",
   "execution_count": null,
   "id": "50d4e1c6-13fd-4709-82bb-778a28fb9396",
   "metadata": {},
   "outputs": [],
   "source": []
  },
  {
   "cell_type": "code",
   "execution_count": null,
   "id": "f7ff97ea-8580-4a36-8d79-2966b673059b",
   "metadata": {},
   "outputs": [],
   "source": []
  },
  {
   "cell_type": "code",
   "execution_count": null,
   "id": "6d034ba9-b3d8-4275-95be-00b163081f1d",
   "metadata": {},
   "outputs": [],
   "source": []
  },
  {
   "cell_type": "code",
   "execution_count": null,
   "id": "e4b5ccf3-d7b8-48fd-a4e3-1ee79f525239",
   "metadata": {},
   "outputs": [],
   "source": []
  },
  {
   "cell_type": "code",
   "execution_count": null,
   "id": "801830be-4eb3-4fdf-b44f-ac8d38e356ca",
   "metadata": {},
   "outputs": [],
   "source": []
  },
  {
   "cell_type": "code",
   "execution_count": null,
   "id": "eea995aa-6913-4d17-9de4-342aa424d9c8",
   "metadata": {},
   "outputs": [],
   "source": []
  },
  {
   "cell_type": "code",
   "execution_count": null,
   "id": "6b5a867c-dc62-4ce9-af93-9975e176c21f",
   "metadata": {},
   "outputs": [],
   "source": []
  },
  {
   "cell_type": "code",
   "execution_count": null,
   "id": "237452cd-46b4-464c-919c-c7e444a11231",
   "metadata": {},
   "outputs": [],
   "source": []
  }
 ],
 "metadata": {
  "kernelspec": {
   "display_name": "mne",
   "language": "python",
   "name": "mne"
  },
  "language_info": {
   "codemirror_mode": {
    "name": "ipython",
    "version": 3
   },
   "file_extension": ".py",
   "mimetype": "text/x-python",
   "name": "python",
   "nbconvert_exporter": "python",
   "pygments_lexer": "ipython3",
   "version": "3.9.4"
  }
 },
 "nbformat": 4,
 "nbformat_minor": 5
}
