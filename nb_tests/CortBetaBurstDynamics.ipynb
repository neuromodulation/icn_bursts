{
 "cells": [
  {
   "cell_type": "markdown",
   "id": "06555a2e-1728-41cf-a795-089565e90092",
   "metadata": {},
   "source": [
    "## Cortical beta burst dynamics (beta power vs burst duration)\n",
    "### Preprocessing"
   ]
  },
  {
   "cell_type": "code",
   "execution_count": 1,
   "id": "6e700526-3081-4388-a817-a0cf29b47867",
   "metadata": {},
   "outputs": [],
   "source": [
    "#import libraries and modules\n",
    "import mne\n",
    "import numpy as np\n",
    "import scipy\n",
    "from scipy import stats\n",
    "import matplotlib.pyplot as plt\n",
    "import seaborn as sns\n",
    "import pandas as  pd\n",
    "import string\n",
    "sns.set(style=\"white\", font_scale=1)"
   ]
  },
  {
   "cell_type": "code",
   "execution_count": 2,
   "id": "96433908-06b9-49ed-8f96-6391300cbded",
   "metadata": {
    "tags": []
   },
   "outputs": [
    {
     "name": "stdout",
     "output_type": "stream",
     "text": [
      "Extracting parameters from /Users/alidzaye/Charité - Universitätsmedizin Berlin/Interventional Cognitive Neuromodulation - Data/BIDS_Berlin_ECOG_LFP/rawdata/sub-003/ses-EphysMedOff01/ieeg/sub-003_ses-EphysMedOff01_task-Rest_acq-StimOff_run-01_ieeg.vhdr...\n",
      "Setting channel info structure...\n",
      "<Info | 7 non-empty values\n",
      " bads: []\n",
      " ch_names: LFP_R_1_STN_MT, LFP_R_2_STN_MT, LFP_R_3_STN_MT, LFP_R_4_STN_MT, ...\n",
      " chs: 20 EEG\n",
      " custom_ref_applied: False\n",
      " highpass: 0.0 Hz\n",
      " lowpass: 2048.0 Hz\n",
      " meas_date: unspecified\n",
      " nchan: 20\n",
      " projs: []\n",
      " sfreq: 4096.0 Hz\n",
      ">\n",
      "Extracting parameters from /Users/alidzaye/Charité - Universitätsmedizin Berlin/Interventional Cognitive Neuromodulation - Data/BIDS_Berlin_ECOG_LFP/rawdata/sub-003/ses-EphysMedOn01/ieeg/sub-003_ses-EphysMedOn01_task-Rest_acq-StimOff_run-01_ieeg.vhdr...\n",
      "Setting channel info structure...\n",
      "<Info | 7 non-empty values\n",
      " bads: []\n",
      " ch_names: LFP_R_1_STN_MT, LFP_R_2_STN_MT, LFP_R_3_STN_MT, LFP_R_4_STN_MT, ...\n",
      " chs: 14 EEG\n",
      " custom_ref_applied: False\n",
      " highpass: 0.0 Hz\n",
      " lowpass: 2048.0 Hz\n",
      " meas_date: unspecified\n",
      " nchan: 14\n",
      " projs: []\n",
      " sfreq: 4096.0 Hz\n",
      ">\n"
     ]
    }
   ],
   "source": [
    "# import data Medication OFF\n",
    "raw = mne.io.read_raw(r'/Users/alidzaye/Charité - Universitätsmedizin Berlin/Interventional Cognitive Neuromodulation - Data/BIDS_Berlin_ECOG_LFP/rawdata/sub-003/ses-EphysMedOff01/ieeg/sub-003_ses-EphysMedOff01_task-Rest_acq-StimOff_run-01_ieeg.vhdr')\n",
    "print(raw.info)\n",
    "\n",
    "# Medication ON\n",
    "raw_on = mne.io.read_raw(r'/Users/alidzaye/Charité - Universitätsmedizin Berlin/Interventional Cognitive Neuromodulation - Data/BIDS_Berlin_ECOG_LFP/rawdata/sub-003/ses-EphysMedOn01/ieeg/sub-003_ses-EphysMedOn01_task-Rest_acq-StimOff_run-01_ieeg.vhdr')\n",
    "print(raw_on.info)"
   ]
  },
  {
   "cell_type": "code",
   "execution_count": 64,
   "id": "c8750331-aa52-440a-be20-ced9d5183eee",
   "metadata": {},
   "outputs": [],
   "source": [
    "# pick ecog channels\n",
    "raw_ecog = raw.copy().pick_channels(raw.ch_names[10:16])\n",
    "raw_ecog_on = raw_on.copy().pick_channels(raw_on.ch_names[8:15])"
   ]
  },
  {
   "cell_type": "code",
   "execution_count": 8,
   "id": "7301a2b5-dfc0-41d8-af51-eae246ddf37c",
   "metadata": {},
   "outputs": [
    {
     "data": {
      "text/html": [
       "\n",
       "\n",
       "<table class=\"table table-hover\">\n",
       "    <tr>\n",
       "        <th>Measurement date</th>\n",
       "<td>Unknown</td>\n",
       "    </tr>\n",
       "    <tr>\n",
       "        <th>Experimenter</th>\n",
       "<td>Unknown</td>\n",
       "    </tr>\n",
       "        <th>Participant</th>\n",
       "<td>Unknown</td>\n",
       "    </tr>\n",
       "    <tr>\n",
       "        <th>Digitized points</th>\n",
       "        <td>Not available</td>\n",
       "    </tr>\n",
       "    <tr>\n",
       "        <th>Good channels</th>\n",
       "        <td>0 magnetometer, 0 gradiometer,\n",
       "            and 0 EEG channels</td>\n",
       "    </tr>\n",
       "    <tr>\n",
       "        <th>Bad channels</th>\n",
       "        <td></td>\n",
       "        \n",
       "    </tr>\n",
       "    <tr>\n",
       "        <th>EOG channels</th>\n",
       "        <td>Not available</td>\n",
       "    </tr>\n",
       "    <tr>\n",
       "        <th>ECG channels</th>\n",
       "        <td>Not available</td>\n",
       "    <tr>\n",
       "        <th>Sampling frequency</th>\n",
       "        <td>4096.00 Hz</td>\n",
       "    </tr>\n",
       "    <tr>\n",
       "        <th>Highpass</th>\n",
       "        <td>0.00 Hz</td>\n",
       "    </tr>\n",
       "     <tr>\n",
       "        <th>Lowpass</th>\n",
       "        <td>2048.00 Hz</td>\n",
       "    </tr>\n",
       "\n",
       "    <tr>\n",
       "        <th>Filenames</th>\n",
       "        <td>sub-003_ses-EphysMedOn01_task-Rest_acq-StimOff_run-01_ieeg.eeg</td>\n",
       "    </tr>\n",
       "    <tr>\n",
       "        <th>Duration</th>\n",
       "        <td>00:07:02 (HH:MM:SS)</td>\n",
       "    </tr>\n",
       "</table>\n"
      ],
      "text/plain": [
       "<RawBrainVision | sub-003_ses-EphysMedOn01_task-Rest_acq-StimOff_run-01_ieeg.eeg, 6 x 1729554 (422.3 s), ~11 kB, data not loaded>"
      ]
     },
     "execution_count": 8,
     "metadata": {},
     "output_type": "execute_result"
    }
   ],
   "source": [
    "# switch channel type into ECoG \n",
    "#raw_ecog.set_channel_types({ch: 'ecog' for ch in raw.ch_names if 'ECOG' in ch})\n",
    "#raw_ecog_on.set_channel_types({ch: 'ecog' for ch in raw_on.ch_names if 'ECOG' in ch})"
   ]
  },
  {
   "cell_type": "code",
   "execution_count": 9,
   "id": "d1c14c2a-6b86-4f2b-99b5-4d9271792f48",
   "metadata": {},
   "outputs": [
    {
     "name": "stdout",
     "output_type": "stream",
     "text": [
      "Reading 0 ... 2536497  =      0.000 ...   619.262 secs...\n",
      "ECoG channel type selected for re-referencing\n",
      "Creating RawArray with float64 data, n_channels=5, n_times=2536498\n",
      "    Range : 0 ... 2536497 =      0.000 ...   619.262 secs\n",
      "Ready.\n",
      "Added the following bipolar channels:\n",
      "ECOG_L_1_SMC_BI, ECOG_L_2_SMC_BI, ECOG_L_3_SMC_BI, ECOG_L_4_SMC_BI, ECOG_L_5_SMC_BI\n",
      "Reading 0 ... 1729553  =      0.000 ...   422.254 secs...\n",
      "ECoG channel type selected for re-referencing\n",
      "Creating RawArray with float64 data, n_channels=5, n_times=1729554\n",
      "    Range : 0 ... 1729553 =      0.000 ...   422.254 secs\n",
      "Ready.\n",
      "Added the following bipolar channels:\n",
      "ECOG_L_1_SMC_BI, ECOG_L_2_SMC_BI, ECOG_L_3_SMC_BI, ECOG_L_4_SMC_BI, ECOG_L_5_SMC_BI\n"
     ]
    }
   ],
   "source": [
    "# bipolar re-reference\n",
    "new_ch_names = ['ECOG_L_1_SMC_BI',\n",
    "               'ECOG_L_2_SMC_BI',\n",
    "               'ECOG_L_3_SMC_BI',\n",
    "               'ECOG_L_4_SMC_BI',\n",
    "              'ECOG_L_5_SMC_BI']\n",
    "anode = raw_ecog.ch_names[0:5]\n",
    "cathode = raw_ecog.ch_names[1:6]\n",
    "raw_ecog_bi = mne.set_bipolar_reference(raw_ecog.load_data(), anode=anode,\n",
    "                                        cathode=cathode, ch_name=new_ch_names )\n",
    "\n",
    "anode_on = raw_ecog_on.ch_names[0:5]\n",
    "cathode_on = raw_ecog_on.ch_names[1:6]\n",
    "raw_ecog_bi_on = mne.set_bipolar_reference(raw_ecog_on.load_data(), anode=anode_on,\n",
    "                                        cathode=cathode_on, ch_name=new_ch_names )"
   ]
  },
  {
   "cell_type": "code",
   "execution_count": 10,
   "id": "1a0cb56f-c6ce-4080-975b-4e736db49e04",
   "metadata": {
    "tags": []
   },
   "outputs": [
    {
     "name": "stdout",
     "output_type": "stream",
     "text": [
      "Filtering raw data in 1 contiguous segment\n",
      "Setting up high-pass filter at 3 Hz\n",
      "\n",
      "FIR filter parameters\n",
      "---------------------\n",
      "Designing a one-pass, zero-phase, non-causal highpass filter:\n",
      "- Windowed time-domain design (firwin) method\n",
      "- Hamming window with 0.0194 passband ripple and 53 dB stopband attenuation\n",
      "- Lower passband edge: 3.00\n",
      "- Lower transition bandwidth: 2.00 Hz (-6 dB cutoff frequency: 2.00 Hz)\n",
      "- Filter length: 6759 samples (1.650 sec)\n",
      "\n",
      "Filtering raw data in 1 contiguous segment\n",
      "Setting up low-pass filter at 2.5e+02 Hz\n",
      "\n",
      "FIR filter parameters\n",
      "---------------------\n",
      "Designing a one-pass, zero-phase, non-causal lowpass filter:\n",
      "- Windowed time-domain design (firwin) method\n",
      "- Hamming window with 0.0194 passband ripple and 53 dB stopband attenuation\n",
      "- Upper passband edge: 250.00 Hz\n",
      "- Upper transition bandwidth: 62.50 Hz (-6 dB cutoff frequency: 281.25 Hz)\n",
      "- Filter length: 217 samples (0.053 sec)\n",
      "\n",
      "Setting up band-stop filter\n",
      "\n",
      "FIR filter parameters\n",
      "---------------------\n",
      "Designing a one-pass, zero-phase, non-causal bandstop filter:\n",
      "- Windowed time-domain design (firwin) method\n",
      "- Hamming window with 0.0194 passband ripple and 53 dB stopband attenuation\n",
      "- Lower transition bandwidth: 0.50 Hz\n",
      "- Upper transition bandwidth: 0.50 Hz\n",
      "- Filter length: 27035 samples (6.600 sec)\n",
      "\n",
      "Filtering raw data in 1 contiguous segment\n",
      "Setting up high-pass filter at 3 Hz\n",
      "\n",
      "FIR filter parameters\n",
      "---------------------\n",
      "Designing a one-pass, zero-phase, non-causal highpass filter:\n",
      "- Windowed time-domain design (firwin) method\n",
      "- Hamming window with 0.0194 passband ripple and 53 dB stopband attenuation\n",
      "- Lower passband edge: 3.00\n",
      "- Lower transition bandwidth: 2.00 Hz (-6 dB cutoff frequency: 2.00 Hz)\n",
      "- Filter length: 6759 samples (1.650 sec)\n",
      "\n",
      "Filtering raw data in 1 contiguous segment\n",
      "Setting up low-pass filter at 2.5e+02 Hz\n",
      "\n",
      "FIR filter parameters\n",
      "---------------------\n",
      "Designing a one-pass, zero-phase, non-causal lowpass filter:\n",
      "- Windowed time-domain design (firwin) method\n",
      "- Hamming window with 0.0194 passband ripple and 53 dB stopband attenuation\n",
      "- Upper passband edge: 250.00 Hz\n",
      "- Upper transition bandwidth: 62.50 Hz (-6 dB cutoff frequency: 281.25 Hz)\n",
      "- Filter length: 217 samples (0.053 sec)\n",
      "\n",
      "Setting up band-stop filter\n",
      "\n",
      "FIR filter parameters\n",
      "---------------------\n",
      "Designing a one-pass, zero-phase, non-causal bandstop filter:\n",
      "- Windowed time-domain design (firwin) method\n",
      "- Hamming window with 0.0194 passband ripple and 53 dB stopband attenuation\n",
      "- Lower transition bandwidth: 0.50 Hz\n",
      "- Upper transition bandwidth: 0.50 Hz\n",
      "- Filter length: 27035 samples (6.600 sec)\n",
      "\n"
     ]
    }
   ],
   "source": [
    "# Filtering (HP 3, NF 50,251,50, LP 250)\n",
    "raw_ecog_hi = raw_ecog_bi.copy().filter(3, None,)\n",
    "raw_ecog_hi_lo = raw_ecog_hi.copy().filter(None, 250)\n",
    "raw_ecog_hi_lo_nf = raw_ecog_hi_lo.copy().notch_filter(np.arange(50,251,50), filter_length=\"auto\", phase='zero')\n",
    "\n",
    "raw_ecog_hi_on = raw_ecog_bi_on.copy().filter(3, None,)\n",
    "raw_ecog_hi_lo_on = raw_ecog_hi_on.copy().filter(None, 250)\n",
    "raw_ecog_hi_lo_nf_on = raw_ecog_hi_lo_on.copy().notch_filter(np.arange(50,251,50), filter_length=\"auto\", phase='zero')"
   ]
  },
  {
   "cell_type": "markdown",
   "id": "e3796f1e-edff-4df0-aa5f-a20b543c540c",
   "metadata": {},
   "source": [
    "### Artefact Detection"
   ]
  },
  {
   "cell_type": "code",
   "execution_count": 11,
   "id": "52ff67dc-2513-4720-a9fd-2c662c770a22",
   "metadata": {
    "tags": []
   },
   "outputs": [],
   "source": [
    "# plot filtered ecog channels for annotiations\n",
    "%matplotlib qt\n",
    "raw_ecog_hi_lo_nf.plot(scalings='auto', highpass=3, lowpass=95, decim='auto')"
   ]
  },
  {
   "cell_type": "code",
   "execution_count": null,
   "id": "56f13496-82c1-4137-9312-023517e9e266",
   "metadata": {},
   "outputs": [],
   "source": [
    "raw_ecog_hi_lo_nf.annotations"
   ]
  },
  {
   "cell_type": "code",
   "execution_count": null,
   "id": "b3d2f6c7-0af9-4ce9-9199-8442a10dadf3",
   "metadata": {},
   "outputs": [],
   "source": [
    "raw_ecog_hi_lo_nf.annotations.save('run.txt', overwrite=True)"
   ]
  },
  {
   "cell_type": "code",
   "execution_count": null,
   "id": "b403ee91-2e91-48a6-a32e-002691a2c51d",
   "metadata": {},
   "outputs": [],
   "source": []
  },
  {
   "cell_type": "code",
   "execution_count": null,
   "id": "2bdfa840-4bcd-4782-831b-4c87e6407c6b",
   "metadata": {},
   "outputs": [],
   "source": []
  },
  {
   "cell_type": "code",
   "execution_count": null,
   "id": "66291a68-67c2-4aea-8af7-4c18a6aca1a1",
   "metadata": {},
   "outputs": [],
   "source": []
  },
  {
   "cell_type": "code",
   "execution_count": null,
   "id": "0fe51b4d-1640-4ede-bd92-bb769e099d69",
   "metadata": {},
   "outputs": [],
   "source": []
  },
  {
   "cell_type": "code",
   "execution_count": null,
   "id": "77fbc2be-5d2a-418f-b329-6920b65b36b7",
   "metadata": {},
   "outputs": [],
   "source": []
  },
  {
   "cell_type": "code",
   "execution_count": null,
   "id": "9328fe9e-8b20-4f82-9a82-b2d60a665dcc",
   "metadata": {},
   "outputs": [],
   "source": []
  },
  {
   "cell_type": "code",
   "execution_count": 12,
   "id": "6614d4b2-613b-4d6e-b4a8-0e2eb9dd8676",
   "metadata": {},
   "outputs": [],
   "source": [
    "#raw_ecog_hi_lo_nf_on.plot(scalings='auto', highpass=3, lowpass=95, decim='auto')"
   ]
  },
  {
   "cell_type": "code",
   "execution_count": 13,
   "id": "135e0d5b-b8f7-4aca-9796-20681a90e785",
   "metadata": {
    "tags": []
   },
   "outputs": [],
   "source": [
    "#Cropping the last bit of data to ignore artefacts at the end\n",
    "raw_ecog_cropped = raw_ecog_hi_lo_nf.copy().crop(tmax=618)\n",
    "raw_ecog_cropped_on = raw_ecog_hi_lo_nf_on.copy().crop(tmax=420)"
   ]
  },
  {
   "cell_type": "code",
   "execution_count": 14,
   "id": "0441471c-5c2d-43aa-8357-5e4407ecefbe",
   "metadata": {},
   "outputs": [],
   "source": [
    "#Downsample Data to 250Hz for faster processing\n",
    "raw_ecog_dow = raw_ecog_cropped.copy().resample(250)\n",
    "raw_ecog_dow_on = raw_ecog_cropped_on.copy().resample(250)"
   ]
  },
  {
   "cell_type": "code",
   "execution_count": 15,
   "id": "2835757b-1bec-49d7-a399-9dccfab8e414",
   "metadata": {
    "tags": []
   },
   "outputs": [
    {
     "name": "stdout",
     "output_type": "stream",
     "text": [
      "(5, 154500)\n"
     ]
    }
   ],
   "source": [
    "# get the data with the function\n",
    "signal = raw_ecog_dow.copy().get_data()\n",
    "signal_on = raw_ecog_dow_on.copy().get_data()\n",
    "print(signal.shape)"
   ]
  },
  {
   "cell_type": "code",
   "execution_count": 16,
   "id": "d8f74ab2-38f3-4e48-8663-9f6d17b51399",
   "metadata": {},
   "outputs": [
    {
     "name": "stdout",
     "output_type": "stream",
     "text": [
      "[[ 0.00738791  0.21930132  0.315697   ... -1.84930798  0.49409292\n",
      "   0.22580868]\n",
      " [-0.02928701 -0.05977788  0.63190585 ...  1.39914355 -0.18708758\n",
      "  -0.12265251]\n",
      " [ 0.0205305  -0.18472876 -1.42770698 ... -1.63299962  0.776301\n",
      "   1.24031433]\n",
      " [ 0.06941612  1.27686861  2.43283879 ... -0.30369502 -0.10111857\n",
      "   0.22116871]\n",
      " [-0.0724597  -1.23678535 -2.12180955 ... -0.28349491 -0.58660712\n",
      "  -0.50319248]]\n"
     ]
    }
   ],
   "source": [
    "#z-score the data\n",
    "stand_raw_ecog = stats.zscore(signal, axis=1)\n",
    "stand_raw_ecog_on = stats.zscore(signal_on, axis=1)\n",
    "print(stand_raw_ecog)"
   ]
  },
  {
   "cell_type": "code",
   "execution_count": 17,
   "id": "4e58377f-7cf3-474b-9787-e868a295c511",
   "metadata": {},
   "outputs": [
    {
     "data": {
      "text/plain": [
       "(5, 99, 154500)"
      ]
     },
     "execution_count": 17,
     "metadata": {},
     "output_type": "execute_result"
    }
   ],
   "source": [
    "#Time Frequency estimation\n",
    "freqs = np.arange(1,100)\n",
    "power = mne.decoding.TimeFrequency(freqs, sfreq=250, method='morlet', n_cycles=10, output='power', )\n",
    "run_TF = power.transform(stand_raw_ecog)\n",
    "run_TF_on = power.transform(stand_raw_ecog_on)\n",
    "run_TF.shape"
   ]
  },
  {
   "cell_type": "markdown",
   "id": "fe1c2db4-2fb9-4558-a1b6-7d875f6ece19",
   "metadata": {},
   "source": [
    "### Beta bands of the ecog channels: low beta(13-20Hz), high beta (20-35Hz), full beta (13-35Hz)"
   ]
  },
  {
   "cell_type": "code",
   "execution_count": 18,
   "id": "ce4dbe0d-a7cd-4d74-9e13-bd44df4e3409",
   "metadata": {},
   "outputs": [
    {
     "data": {
      "text/plain": [
       "(23, 154500)"
      ]
     },
     "execution_count": 18,
     "metadata": {},
     "output_type": "execute_result"
    }
   ],
   "source": [
    "low_beta_1 = run_TF[0, 12:20,:]\n",
    "high_beta_1 = run_TF[0, 19:35,:]\n",
    "full_beta_1 = run_TF[0, 12:35,:]\n",
    "\n",
    "low_beta_2 = run_TF[1, 12:20,:]\n",
    "high_beta_2 = run_TF[1, 19:35,:]\n",
    "full_beta_2 = run_TF[1, 12:35,:]\n",
    "\n",
    "low_beta_3 = run_TF[2, 12:20,:]\n",
    "high_beta_3 = run_TF[2, 19:35,:]\n",
    "full_beta_3 = run_TF[2, 12:35,:]\n",
    "\n",
    "low_beta_4 = run_TF[3, 12:20,:]\n",
    "high_beta_4 = run_TF[3, 19:35,:]\n",
    "full_beta_4 = run_TF[3, 12:35,:]\n",
    "\n",
    "low_beta_5 = run_TF[4, 12:20,:]\n",
    "high_beta_5 = run_TF[4, 19:35,:]\n",
    "full_beta_5 = run_TF[4, 12:35,:]\n",
    "\n",
    "#ON\n",
    "low_beta_1_on = run_TF_on[0, 12:20,:]\n",
    "high_beta_1_on = run_TF_on[0, 19:35,:]\n",
    "full_beta_1_on = run_TF_on[0, 12:35,:]\n",
    "\n",
    "low_beta_2_on = run_TF_on[1, 12:20,:]\n",
    "high_beta_2_on = run_TF_on[1, 19:35,:]\n",
    "full_beta_2_on = run_TF_on[1, 12:35,:]\n",
    "\n",
    "low_beta_3_on = run_TF_on[2, 12:20,:]\n",
    "high_beta_3_on = run_TF_on[2, 19:35,:]\n",
    "full_beta_3_on = run_TF_on[2, 12:35,:]\n",
    "\n",
    "low_beta_4_on = run_TF_on[3, 12:20,:]\n",
    "high_beta_4_on = run_TF_on[3, 19:35,:]\n",
    "full_beta_4_on = run_TF_on[3, 12:35,:]\n",
    "\n",
    "\n",
    "low_beta_5_on = run_TF_on[4, 12:20,:]\n",
    "high_beta_5_on = run_TF_on[4, 19:35,:]\n",
    "full_beta_5_on = run_TF_on[4, 12:35,:]\n",
    "\n",
    "full_beta_4.shape"
   ]
  },
  {
   "cell_type": "markdown",
   "id": "f1ff22b5-e956-43f7-8191-138e573f859b",
   "metadata": {},
   "source": [
    "### Averaging power in all beta bands "
   ]
  },
  {
   "cell_type": "code",
   "execution_count": 19,
   "id": "f0e1f63a-28e1-4597-a0e4-56363bf38efe",
   "metadata": {},
   "outputs": [
    {
     "data": {
      "text/plain": [
       "(154500,)"
      ]
     },
     "execution_count": 19,
     "metadata": {},
     "output_type": "execute_result"
    }
   ],
   "source": [
    "low_beta_1_averp = np.mean(low_beta_1, axis=0)\n",
    "high_beta_1_averp = np.mean(high_beta_1, axis=0)\n",
    "full_beta_1_averp = np.mean(full_beta_1, axis=0)\n",
    "\n",
    "low_beta_2_averp = np.mean(low_beta_2, axis=0)\n",
    "high_beta_2_averp = np.mean(high_beta_2, axis=0)\n",
    "full_beta_2_averp = np.mean(full_beta_2, axis=0)\n",
    "\n",
    "low_beta_3_averp = np.mean(low_beta_3, axis=0)\n",
    "high_beta_3_averp = np.mean(high_beta_3, axis=0)\n",
    "full_beta_3_averp = np.mean(full_beta_3, axis=0)\n",
    "\n",
    "low_beta_4_averp = np.mean(low_beta_4, axis=0)\n",
    "high_beta_4_averp = np.mean(high_beta_4, axis=0)\n",
    "full_beta_4_averp = np.mean(full_beta_4, axis=0)\n",
    "\n",
    "low_beta_5_averp = np.mean(low_beta_5, axis=0)\n",
    "high_beta_5_averp = np.mean(high_beta_5, axis=0)\n",
    "full_beta_5_averp = np.mean(full_beta_5, axis=0)\n",
    "\n",
    "#ON\n",
    "low_beta_1_averp_on = np.mean(low_beta_1_on, axis=0)\n",
    "high_beta_1_averp_on = np.mean(high_beta_1_on, axis=0)\n",
    "full_beta_1_averp_on = np.mean(full_beta_1_on, axis=0)\n",
    "\n",
    "low_beta_2_averp_on = np.mean(low_beta_2_on, axis=0)\n",
    "high_beta_2_averp_on = np.mean(high_beta_2_on, axis=0)\n",
    "full_beta_2_averp_on = np.mean(full_beta_2_on, axis=0)\n",
    "\n",
    "low_beta_3_averp_on = np.mean(low_beta_3_on, axis=0)\n",
    "high_beta_3_averp_on = np.mean(high_beta_3_on, axis=0)\n",
    "full_beta_3_averp_on = np.mean(full_beta_3_on, axis=0)\n",
    "\n",
    "low_beta_4_averp_on = np.mean(low_beta_4_on, axis=0)\n",
    "high_beta_4_averp_on = np.mean(high_beta_4_on, axis=0)\n",
    "full_beta_4_averp_on = np.mean(full_beta_4_on, axis=0)\n",
    "\n",
    "low_beta_5_averp_on = np.mean(low_beta_5_on, axis=0)\n",
    "high_beta_5_averp_on = np.mean(high_beta_5_on, axis=0)\n",
    "full_beta_5_averp_on = np.mean(full_beta_5_on, axis=0)\n",
    "\n",
    "full_beta_4_averp.shape"
   ]
  },
  {
   "cell_type": "markdown",
   "id": "d4772fde-9499-48ed-b10e-bf1f79918dc1",
   "metadata": {},
   "source": [
    "### Z-Scored averaged beta traces"
   ]
  },
  {
   "cell_type": "code",
   "execution_count": 20,
   "id": "958c8937-a183-43a5-ba99-b7401457ff70",
   "metadata": {},
   "outputs": [],
   "source": [
    "low_beta_1_averp_norm = stats.zscore(low_beta_1_averp, axis=0)\n",
    "high_beta_1_averp_norm = stats.zscore(high_beta_1_averp, axis=0)\n",
    "full_beta_1_averp_norm = stats.zscore(high_beta_1_averp, axis=0)\n",
    "\n",
    "low_beta_2_averp_norm = stats.zscore(low_beta_2_averp, axis=0)\n",
    "high_beta_2_averp_norm = stats.zscore(high_beta_2_averp, axis=0)\n",
    "full_beta_2_averp_norm = stats.zscore(high_beta_2_averp, axis=0)\n",
    "\n",
    "low_beta_3_averp_norm = stats.zscore(low_beta_3_averp, axis=0)\n",
    "high_beta_3_averp_norm = stats.zscore(high_beta_3_averp, axis=0)\n",
    "full_beta_3_averp_norm = stats.zscore(high_beta_3_averp, axis=0)\n",
    "\n",
    "low_beta_4_averp_norm = stats.zscore(low_beta_4_averp, axis=0)\n",
    "high_beta_4_averp_norm = stats.zscore(high_beta_4_averp, axis=0)\n",
    "full_beta_4_averp_norm = stats.zscore(high_beta_4_averp, axis=0)\n",
    "\n",
    "low_beta_5_averp_norm = stats.zscore(low_beta_5_averp, axis=0)\n",
    "high_beta_5_averp_norm = stats.zscore(high_beta_5_averp, axis=0)\n",
    "full_beta_5_averp_norm = stats.zscore(high_beta_5_averp, axis=0)\n",
    "\n",
    "#ON\n",
    "low_beta_1_averp_norm_on = stats.zscore(low_beta_1_averp_on, axis=0)\n",
    "high_beta_1_averp_norm_on = stats.zscore(high_beta_1_averp_on, axis=0)\n",
    "full_beta_1_averp_norm_on = stats.zscore(high_beta_1_averp_on, axis=0)\n",
    "\n",
    "low_beta_2_averp_norm_on = stats.zscore(low_beta_2_averp_on, axis=0)\n",
    "high_beta_2_averp_norm_on = stats.zscore(high_beta_2_averp_on, axis=0)\n",
    "full_beta_2_averp_norm_on = stats.zscore(high_beta_2_averp_on, axis=0)\n",
    "\n",
    "low_beta_3_averp_norm_on = stats.zscore(low_beta_3_averp_on, axis=0)\n",
    "high_beta_3_averp_norm_on = stats.zscore(high_beta_3_averp_on, axis=0)\n",
    "full_beta_3_averp_norm_on = stats.zscore(high_beta_3_averp_on, axis=0)\n",
    "\n",
    "low_beta_4_averp_norm_on = stats.zscore(low_beta_4_averp_on, axis=0)\n",
    "high_beta_4_averp_norm_on = stats.zscore(high_beta_4_averp_on, axis=0)\n",
    "full_beta_4_averp_norm_on = stats.zscore(high_beta_4_averp_on, axis=0)\n",
    "\n",
    "low_beta_5_averp_norm_on = stats.zscore(low_beta_5_averp_on, axis=0)\n",
    "high_beta_5_averp_norm_on = stats.zscore(high_beta_5_averp_on, axis=0)\n",
    "full_beta_5_averp_norm_on = stats.zscore(high_beta_5_averp_on, axis=0)"
   ]
  },
  {
   "cell_type": "markdown",
   "id": "f871a124-3c55-4706-9810-470c76bfab32",
   "metadata": {},
   "source": [
    "### 75th percentile of the power"
   ]
  },
  {
   "cell_type": "code",
   "execution_count": 21,
   "id": "2607511d-ba6a-40ef-8b4c-6085c794cd07",
   "metadata": {},
   "outputs": [
    {
     "name": "stdout",
     "output_type": "stream",
     "text": [
      "0.39654870744607645\n"
     ]
    }
   ],
   "source": [
    "low_beta_1_thr = np.percentile(low_beta_1_averp_norm, 75)\n",
    "high_beta_1_thr = np.percentile(high_beta_1_averp_norm, 75)\n",
    "full_beta_1_thr = np.percentile(full_beta_1_averp_norm, 75)\n",
    "\n",
    "low_beta_2_thr = np.percentile(low_beta_2_averp_norm, 75)\n",
    "high_beta_2_thr = np.percentile(high_beta_2_averp_norm, 75)\n",
    "full_beta_2_thr = np.percentile(full_beta_2_averp_norm, 75)\n",
    "\n",
    "low_beta_3_thr = np.percentile(low_beta_3_averp_norm, 75)\n",
    "high_beta_3_thr = np.percentile(high_beta_3_averp_norm, 75)\n",
    "full_beta_3_thr = np.percentile(full_beta_3_averp_norm, 75)\n",
    "\n",
    "low_beta_4_thr = np.percentile(low_beta_4_averp_norm, 75)\n",
    "high_beta_4_thr = np.percentile(high_beta_4_averp_norm, 75)\n",
    "full_beta_4_thr = np.percentile(full_beta_4_averp_norm, 75)\n",
    "\n",
    "low_beta_5_thr = np.percentile(low_beta_5_averp_norm, 75)\n",
    "high_beta_5_thr = np.percentile(high_beta_5_averp_norm, 75)\n",
    "full_beta_5_thr = np.percentile(full_beta_5_averp_norm, 75)\n",
    "\n",
    "#ON\n",
    "low_beta_1_thr_on = np.percentile(low_beta_1_averp_norm_on, 75)\n",
    "high_beta_1_thr_on = np.percentile(high_beta_1_averp_norm_on, 75)\n",
    "full_beta_1_thr_on = np.percentile(full_beta_1_averp_norm_on, 75)\n",
    "\n",
    "low_beta_2_thr_on = np.percentile(low_beta_2_averp_norm_on, 75)\n",
    "high_beta_2_thr_on = np.percentile(high_beta_2_averp_norm_on, 75)\n",
    "full_beta_2_thr_on = np.percentile(full_beta_2_averp_norm_on, 75)\n",
    "\n",
    "low_beta_3_thr_on = np.percentile(low_beta_3_averp_norm_on, 75)\n",
    "high_beta_3_thr_on = np.percentile(high_beta_3_averp_norm_on, 75)\n",
    "full_beta_3_thr_on = np.percentile(full_beta_3_averp_norm_on, 75)\n",
    "\n",
    "low_beta_4_thr_on = np.percentile(low_beta_4_averp_norm_on, 75)\n",
    "high_beta_4_thr_on = np.percentile(high_beta_4_averp_norm_on, 75)\n",
    "full_beta_4_thr_on = np.percentile(full_beta_4_averp_norm_on, 75)\n",
    "\n",
    "low_beta_5_thr_on = np.percentile(low_beta_5_averp_norm_on, 75)\n",
    "high_beta_5_thr_on = np.percentile(high_beta_5_averp_norm_on, 75)\n",
    "full_beta_5_thr_on = np.percentile(full_beta_5_averp_norm_on, 75)\n",
    "\n",
    "print(full_beta_5_thr)"
   ]
  },
  {
   "cell_type": "markdown",
   "id": "4bbee623-ba59-4d3e-b827-2715fefc036c",
   "metadata": {},
   "source": [
    "## Analysing the duration of beta burst \n"
   ]
  },
  {
   "cell_type": "code",
   "execution_count": 22,
   "id": "1d03f083-4989-4021-bfe6-6169f95505d9",
   "metadata": {},
   "outputs": [],
   "source": [
    "def get_burst_length(beta_averp_norm,beta_thr, sfreq=250):\n",
    "    \"\"\"\n",
    "    Burst Duration\n",
    "    \"\"\"\n",
    "    deriv = np.diff (beta_averp_norm >= beta_thr) \n",
    "    isburst = False\n",
    "    burst_length = []\n",
    "    burst_start = 0\n",
    "\n",
    "    for index, i in enumerate(deriv):\n",
    "        if i == True:\n",
    "            if isburst == True:\n",
    "                burst_length.append(index - burst_start)\n",
    "\n",
    "                isburst = False\n",
    "            else:\n",
    "                burst_start = index\n",
    "                isburst = True\n",
    "    burst_length = np.array(burst_length)/sfreq\n",
    "    \n",
    "    return burst_length"
   ]
  },
  {
   "cell_type": "markdown",
   "id": "ef462cee-f30d-4b11-935f-34646c6dbf83",
   "metadata": {},
   "source": [
    "### Burst length of full beta"
   ]
  },
  {
   "cell_type": "code",
   "execution_count": 23,
   "id": "eac378f5-2fa8-4fe2-8b7d-4693a0680d40",
   "metadata": {},
   "outputs": [],
   "source": [
    "burst_length_1 = get_burst_length(full_beta_1_averp_norm,full_beta_1_thr, sfreq = 250)\n",
    "burst_length_2 = get_burst_length(full_beta_2_averp_norm,full_beta_2_thr, sfreq = 250)\n",
    "burst_length_3 = get_burst_length(full_beta_3_averp_norm,full_beta_3_thr, sfreq = 250)\n",
    "burst_length_4 = get_burst_length(full_beta_4_averp_norm,full_beta_4_thr, sfreq = 250)\n",
    "burst_length_5 = get_burst_length(full_beta_5_averp_norm,full_beta_5_thr, sfreq = 250)\n",
    "\n",
    "burst_length_1_on = get_burst_length(full_beta_1_averp_norm_on,full_beta_1_thr_on, sfreq = 250)\n",
    "burst_length_2_on = get_burst_length(full_beta_2_averp_norm_on,full_beta_2_thr_on, sfreq = 250)\n",
    "burst_length_3_on = get_burst_length(full_beta_3_averp_norm_on,full_beta_3_thr_on, sfreq = 250)\n",
    "burst_length_4_on = get_burst_length(full_beta_4_averp_norm_on,full_beta_4_thr_on, sfreq = 250)\n",
    "burst_length_5_on = get_burst_length(full_beta_5_averp_norm_on,full_beta_5_thr_on, sfreq = 250)"
   ]
  },
  {
   "cell_type": "markdown",
   "id": "87e2c30a-6945-47ef-bc89-9bc5944c9da1",
   "metadata": {},
   "source": [
    "### Histogram with range up to 10s"
   ]
  },
  {
   "cell_type": "code",
   "execution_count": 24,
   "id": "d3c9311b-4732-4d1f-b16e-6908e1ca4302",
   "metadata": {},
   "outputs": [],
   "source": [
    "hist_dur_1, bins = np.histogram(burst_length_1,density=False, bins=100, range=(0, 10))\n",
    "hist_dur_2, bins = np.histogram(burst_length_2,density=False, bins=100, range=(0, 10))\n",
    "hist_dur_3, bins = np.histogram(burst_length_3,density=False, bins=100, range=(0, 10))\n",
    "hist_dur_4, bins = np.histogram(burst_length_4,density=False, bins=100, range=(0, 10))\n",
    "hist_dur_5, bins = np.histogram(burst_length_5,density=False, bins=100, range=(0, 10))\n",
    "\n",
    "hist_dur_1_on, bins = np.histogram(burst_length_1_on,density=False, bins=100, range=(0, 10))\n",
    "hist_dur_2_on, bins = np.histogram(burst_length_2_on,density=False, bins=100, range=(0, 10))\n",
    "hist_dur_3_on, bins = np.histogram(burst_length_3_on,density=False, bins=100, range=(0, 10))\n",
    "hist_dur_4_on, bins = np.histogram(burst_length_4_on,density=False, bins=100, range=(0, 10))\n",
    "hist_dur_5_on, bins = np.histogram(burst_length_5_on,density=False, bins=100, range=(0, 10))"
   ]
  },
  {
   "cell_type": "code",
   "execution_count": 25,
   "id": "f482ef4a-74bf-4d37-8759-5aad200acd05",
   "metadata": {},
   "outputs": [
    {
     "data": {
      "image/png": "[encoded data removed]",
      "text/plain": [
       "<Figure size 432x288 with 1 Axes>"
      ]
     },
     "metadata": {
      "needs_background": "light"
     },
     "output_type": "display_data"
    }
   ],
   "source": [
    "%matplotlib inline\n",
    "plt.hist(burst_length_4, bins=13, range=(0, 1.3))\n",
    "sns.despine()"
   ]
  },
  {
   "cell_type": "markdown",
   "id": "dc454bd4-aed4-4c41-8135-cc377f3d3f3c",
   "metadata": {},
   "source": [
    "### Burst length probability of histogram"
   ]
  },
  {
   "cell_type": "code",
   "execution_count": 26,
   "id": "fa679b85-7ef0-405b-9d9e-403ae9a1b231",
   "metadata": {},
   "outputs": [
    {
     "data": {
      "text/plain": [
       "100.0"
      ]
     },
     "execution_count": 26,
     "metadata": {},
     "output_type": "execute_result"
    }
   ],
   "source": [
    "burst_length_normed_1 = 100*hist_dur_1 / burst_length_1.shape[0]\n",
    "burst_length_normed_2 = 100*hist_dur_2 / burst_length_2.shape[0]\n",
    "burst_length_normed_3 = 100*hist_dur_3 / burst_length_3.shape[0]\n",
    "burst_length_normed_4 = 100*hist_dur_4 / burst_length_4.shape[0]\n",
    "burst_length_normed_5 = 100*hist_dur_5 / burst_length_5.shape[0]\n",
    "\n",
    "burst_length_normed_1_on = 100*hist_dur_1_on / burst_length_1_on.shape[0]\n",
    "burst_length_normed_2_on = 100*hist_dur_2_on / burst_length_2_on.shape[0]\n",
    "burst_length_normed_3_on = 100*hist_dur_3_on / burst_length_3_on.shape[0]\n",
    "burst_length_normed_4_on = 100*hist_dur_4_on / burst_length_4_on.shape[0]\n",
    "burst_length_normed_5_on = 100*hist_dur_5_on / burst_length_5_on.shape[0]\n",
    "\n",
    "np.sum(burst_length_normed_5)"
   ]
  },
  {
   "cell_type": "markdown",
   "id": "9d19723c-9dc0-42ea-9f7b-3db4e312eeed",
   "metadata": {},
   "source": [
    "### (Grand) Mean Duration OFF vs ON "
   ]
  },
  {
   "cell_type": "code",
   "execution_count": 27,
   "id": "c698a9a0-440e-4f03-aa23-df7d76a1b926",
   "metadata": {},
   "outputs": [
    {
     "name": "stdout",
     "output_type": "stream",
     "text": [
      "0.4851153039832285 0.15532544378698224\n"
     ]
    }
   ],
   "source": [
    "mean_burst_length_1 = np.mean(burst_length_1)\n",
    "mean_burst_length_2 = np.mean(burst_length_2)\n",
    "mean_burst_length_3 = np.mean(burst_length_3)\n",
    "mean_burst_length_4 = np.mean(burst_length_4)\n",
    "mean_burst_length_5 = np.mean(burst_length_5)\n",
    "\n",
    "#ON\n",
    "mean_burst_length_1_on = np.mean(burst_length_1_on)\n",
    "mean_burst_length_2_on = np.mean(burst_length_2_on)\n",
    "mean_burst_length_3_on = np.mean(burst_length_3_on)\n",
    "mean_burst_length_4_on = np.mean(burst_length_4_on)\n",
    "mean_burst_length_5_on = np.mean(burst_length_5_on)\n",
    "\n",
    "print (mean_burst_length_4, mean_burst_length_4_on)"
   ]
  },
  {
   "cell_type": "code",
   "execution_count": 28,
   "id": "5e910a3c-7641-4dbe-8d34-810aea98a61c",
   "metadata": {},
   "outputs": [
    {
     "name": "stdout",
     "output_type": "stream",
     "text": [
      "0.30418350850058085 0.1736632493078913\n"
     ]
    }
   ],
   "source": [
    "grand_mean = (mean_burst_length_1 + mean_burst_length_2 + mean_burst_length_3 + mean_burst_length_4 + mean_burst_length_5) /5 \n",
    "grand_mean_on = (mean_burst_length_1_on + mean_burst_length_2_on + mean_burst_length_3_on + mean_burst_length_4_on + mean_burst_length_5_on) /5 \n",
    "print (grand_mean, grand_mean_on) "
   ]
  },
  {
   "cell_type": "markdown",
   "id": "66480a66-51bb-4fd3-ac34-c81dbd85b7c1",
   "metadata": {},
   "source": [
    "### Normalized power spectral density"
   ]
  },
  {
   "cell_type": "code",
   "execution_count": 29,
   "id": "0d72dbed-6693-4136-a085-ecb76af1193c",
   "metadata": {},
   "outputs": [
    {
     "data": {
      "text/plain": [
       "(99,)"
      ]
     },
     "execution_count": 29,
     "metadata": {},
     "output_type": "execute_result"
    }
   ],
   "source": [
    "power_spectrum_for_channel_1 = np.nanmean(np.squeeze(run_TF[0,:,:]), axis=1)\n",
    "power_spectrum_for_channel_2 = np.nanmean(np.squeeze(run_TF[1,:,:]), axis=1)\n",
    "power_spectrum_for_channel_3 = np.nanmean(np.squeeze(run_TF[2,:,:]), axis=1)\n",
    "power_spectrum_for_channel_4 = np.nanmean(np.squeeze(run_TF[3,:,:]), axis=1)\n",
    "power_spectrum_for_channel_5 = np.nanmean(np.squeeze(run_TF[4,:,:]), axis=1)\n",
    "\n",
    "power_spectrum_for_channel_1_on = np.nanmean(np.squeeze(run_TF_on[0,:,:]), axis=1)\n",
    "power_spectrum_for_channel_2_on = np.nanmean(np.squeeze(run_TF_on[1,:,:]), axis=1)\n",
    "power_spectrum_for_channel_3_on = np.nanmean(np.squeeze(run_TF_on[2,:,:]), axis=1)\n",
    "power_spectrum_for_channel_4_on = np.nanmean(np.squeeze(run_TF_on[3,:,:]), axis=1)\n",
    "power_spectrum_for_channel_5_on = np.nanmean(np.squeeze(run_TF_on[4,:,:]), axis=1)\n",
    "\n",
    "power_spectrum_for_channel_4.shape"
   ]
  },
  {
   "cell_type": "code",
   "execution_count": 30,
   "id": "99176e79-929e-4e43-98af-7adc33e05fef",
   "metadata": {},
   "outputs": [],
   "source": [
    "npow_1 = power_spectrum_for_channel_1/np.sum(power_spectrum_for_channel_1[4:45] + power_spectrum_for_channel_1[54:95])\n",
    "npow_2 = power_spectrum_for_channel_2/np.sum(power_spectrum_for_channel_2[4:45] + power_spectrum_for_channel_2[54:95])\n",
    "npow_3 = power_spectrum_for_channel_3/np.sum(power_spectrum_for_channel_3[4:45] + power_spectrum_for_channel_3[54:95])\n",
    "npow_4 = power_spectrum_for_channel_4/np.sum(power_spectrum_for_channel_4[4:45] + power_spectrum_for_channel_4[54:95])\n",
    "npow_5 = power_spectrum_for_channel_5/np.sum(power_spectrum_for_channel_5[4:45] + power_spectrum_for_channel_5[54:95])\n",
    "\n",
    "npow_1_on = power_spectrum_for_channel_1_on/np.sum(power_spectrum_for_channel_1_on[4:45] + power_spectrum_for_channel_1_on[54:95])\n",
    "npow_2_on = power_spectrum_for_channel_2_on/np.sum(power_spectrum_for_channel_2_on[4:45] + power_spectrum_for_channel_2_on[54:95])\n",
    "npow_3_on = power_spectrum_for_channel_3_on/np.sum(power_spectrum_for_channel_3_on[4:45] + power_spectrum_for_channel_3_on[54:95])\n",
    "npow_4_on = power_spectrum_for_channel_4_on/np.sum(power_spectrum_for_channel_4_on[4:45] + power_spectrum_for_channel_4_on[54:95])\n",
    "npow_5_on = power_spectrum_for_channel_5_on/np.sum(power_spectrum_for_channel_5_on[4:45] + power_spectrum_for_channel_5_on[54:95])"
   ]
  },
  {
   "cell_type": "markdown",
   "id": "27932873-0a45-4fb3-962f-11791feee294",
   "metadata": {},
   "source": [
    "## Beta power vs burst length"
   ]
  },
  {
   "cell_type": "code",
   "execution_count": 31,
   "id": "aedb0734-dcb0-431d-bc33-4da1d10c06ba",
   "metadata": {},
   "outputs": [
    {
     "name": "stdout",
     "output_type": "stream",
     "text": [
      "     med_state                         channel  value\n",
      "0          OFF  secondary somatosensory cortex  0.328\n",
      "1          OFF  secondary somatosensory cortex  0.116\n",
      "2          OFF  secondary somatosensory cortex  0.020\n",
      "3          OFF  secondary somatosensory cortex  0.076\n",
      "4          OFF  secondary somatosensory cortex  0.220\n",
      "...        ...                             ...    ...\n",
      "8145        ON                 premotor cortex    NaN\n",
      "8146        ON                 premotor cortex    NaN\n",
      "8147        ON                 premotor cortex    NaN\n",
      "8148        ON                 premotor cortex    NaN\n",
      "8149        ON                 premotor cortex    NaN\n",
      "\n",
      "[8150 rows x 3 columns]\n"
     ]
    }
   ],
   "source": [
    "burst_duration_allCh = [burst_length_1,burst_length_2,burst_length_3,burst_length_4,burst_length_5]\n",
    "burst_duration_allCh_on = [burst_length_1_on,burst_length_2_on,burst_length_3_on,burst_length_4_on,burst_length_5_on]\n",
    "\n",
    "df_dur = pd.DataFrame(burst_duration_allCh)\n",
    "df_dur_on = pd.DataFrame(burst_duration_allCh_on) \n",
    "\n",
    "df_dur_t=df_dur.T\n",
    "df_dur_t_on=df_dur_on.T\n",
    "\n",
    "df_dur_t_r = df_dur_t.rename(columns={0: \"secondary somatosensory cortex\",1: \"secondary/primary somatosensory cortex\",2:'primary somatosensory cortex',3:'primary motor cortex',4:'premotor cortex'})\n",
    "df_dur_t_r_on = df_dur_t_on.rename(columns={0: \"secondary somatosensory cortex\",1: \"secondary/primary somatosensory cortex\",2:'primary somatosensory cortex',3:'primary motor cortex',4:'premotor cortex'})\n",
    "\n",
    "df_dur_t_r_m = df_dur_t_r.assign(med_state='OFF')\n",
    "df_dur_t_r_m_on = df_dur_t_r_on.assign(med_state='ON')\n",
    "\n",
    "cdf_dur = pd.concat([df_dur_t_r_m,df_dur_t_r_m_on])\n",
    "pd_burst_length = pd.melt(cdf_dur,id_vars=['med_state'],var_name=['channel'])\n",
    "print(pd_burst_length)"
   ]
  },
  {
   "cell_type": "code",
   "execution_count": 32,
   "id": "f334d35e-960a-4bb8-8ce1-dce0c6f5d650",
   "metadata": {},
   "outputs": [
    {
     "data": {
      "image/png": "[encoded data removed]",
      "text/plain": [
       "<Figure size 1800x1080 with 6 Axes>"
      ]
     },
     "metadata": {},
     "output_type": "display_data"
    }
   ],
   "source": [
    "sns.set(style=\"white\", font_scale=1.2)\n",
    "fig = plt.figure(figsize=(25,15))\n",
    "\n",
    "ax1 = plt.subplot2grid((2, 5), (0, 0),colspan=1) \n",
    "plt.yticks(np.arange(0, 0.2, step=0.05))\n",
    "plt.xlabel('Frequency (Hz)')\n",
    "plt.ylabel('Amplitude (au)')\n",
    "ax2 = plt.subplot2grid((2, 5), (0, 1),colspan=1)\n",
    "plt.yticks(np.arange(0, 0.2, step=0.05))\n",
    "ax3 = plt.subplot2grid((2, 5), (0, 2),colspan=1) \n",
    "plt.yticks(np.arange(0, 0.2, step=0.05))\n",
    "ax4 = plt.subplot2grid((2, 5), (0, 3),colspan=1)\n",
    "plt.yticks(np.arange(0, 0.2, step=0.05))\n",
    "ax5 = plt.subplot2grid((2, 5), (0, 4),colspan=1)\n",
    "plt.yticks(np.arange(0, 0.2, step=0.05))\n",
    "\n",
    "\n",
    "\n",
    "ax1.set_ylim(0,0.2)\n",
    "ax2.set_ylim(0,0.2)\n",
    "ax3.set_ylim(0,0.2)\n",
    "ax4.set_ylim(0,0.2)\n",
    "ax5.set_ylim(0,0.2)\n",
    "\n",
    "ax1.set_xlim(0,60)\n",
    "ax2.set_xlim(0,60)\n",
    "ax3.set_xlim(0,60)\n",
    "ax4.set_xlim(0,60)\n",
    "ax5.set_xlim(0,60)\n",
    "\n",
    "\n",
    "ax1.plot(freqs,npow_1,label= 'OFF Medication')\n",
    "ax1.plot(freqs,npow_1_on,label= 'ON Medication')\n",
    "ax2.plot(freqs,npow_2,label= 'OFF Medication')\n",
    "ax2.plot(freqs,npow_2_on,label= 'ON Medication')\n",
    "ax3.plot(freqs,npow_3,label= 'OFF Medication')\n",
    "ax3.plot(freqs,npow_3_on,label= 'ON Medication')\n",
    "ax4.plot(freqs,npow_4,label= 'OFF Medication')\n",
    "ax4.plot(freqs,npow_4_on,label= 'ON Medication')\n",
    "ax5.plot(freqs,npow_5,label= 'OFF Medication')\n",
    "ax5.plot(freqs,npow_5_on,label= 'ON Medication')\n",
    "plt.legend(bbox_to_anchor=(1.05, 1),loc=1, borderaxespad=0)\n",
    "ax7 = plt.subplot2grid((2, 6), (1,0),colspan=10) \n",
    "\n",
    "alpha_box = 0.4\n",
    "ax7=sns.boxplot(x='channel', y='value', hue='med_state',data=pd_burst_length, palette=\"viridis\", \n",
    "            boxprops=dict(alpha=alpha_box),\n",
    "           showfliers=False,\n",
    "           whiskerprops={'linewidth':2, \"zorder\":10, \"alpha\":alpha_box},\n",
    "           capprops={\"alpha\":alpha_box},\n",
    "           medianprops=dict(linestyle='-.', linewidth=5, color=\"grey\", alpha=alpha_box))\n",
    "\n",
    "    \n",
    "ax7 = sns.stripplot(x='channel', y='value', hue='med_state', \n",
    "             data=pd_burst_length,palette=\"viridis\", dodge=True, s=5)\n",
    "\n",
    "\n",
    "plt.ylabel('burst duration (s)')\n",
    "plt.xlabel('')\n",
    "\n",
    "plt.suptitle(' Beta Power vs Burst Duration ECoG Berlin OFF and ON Sub003 Run01 Rest ')\n",
    "sns.despine()"
   ]
  },
  {
   "cell_type": "markdown",
   "id": "69e80711-ef45-4882-94ca-72ef17c1f8f5",
   "metadata": {},
   "source": [
    "## Cortical beta burst dynamics"
   ]
  },
  {
   "cell_type": "markdown",
   "id": "795b0678-d314-4c76-b0dd-fd4c9036ae1b",
   "metadata": {},
   "source": [
    "### Probability of different burst length OFF vs ON"
   ]
  },
  {
   "cell_type": "code",
   "execution_count": 33,
   "id": "663a5df4-cc27-4fca-9929-caab91bd5186",
   "metadata": {},
   "outputs": [],
   "source": [
    "prob_high_dur_bursts_4=burst_length_normed_4[np.arange(12,100,1)].sum()\n",
    "prob_high_dur_bursts_4_on=burst_length_normed_4_on[np.arange(12,100,1)].sum()\n",
    "\n",
    "prob_low_dur_bursts_4 = burst_length_normed_4[np.arange(0,12)]\n",
    "prob_low_dur_bursts_4_on = burst_length_normed_4_on[np.arange(0,12)]\n",
    "\n",
    "burst_prob_dur_4 = np.append(prob_low_dur_bursts_4 ,prob_high_dur_bursts_4)\n",
    "burst_prob_dur_4_on = np.append(prob_low_dur_bursts_4_on ,prob_high_dur_bursts_4_on)\n",
    "\n",
    "bins_dur=[0.1,0.2,0.3,0.4,0.5,0.6,0.7,0.8,0.9,1.0,1.1,1.2,'>1.2'] "
   ]
  },
  {
   "cell_type": "code",
   "execution_count": 34,
   "id": "980b0013-9cc2-40ec-9133-ad099307ec42",
   "metadata": {},
   "outputs": [
    {
     "data": {
      "text/html": [
       "<div>\n",
       "<style scoped>\n",
       "    .dataframe tbody tr th:only-of-type {\n",
       "        vertical-align: middle;\n",
       "    }\n",
       "\n",
       "    .dataframe tbody tr th {\n",
       "        vertical-align: top;\n",
       "    }\n",
       "\n",
       "    .dataframe thead th {\n",
       "        text-align: right;\n",
       "    }\n",
       "</style>\n",
       "<table border=\"1\" class=\"dataframe\">\n",
       "  <thead>\n",
       "    <tr style=\"text-align: right;\">\n",
       "      <th></th>\n",
       "      <th>Burst Duration (s)</th>\n",
       "      <th>Burst Probability (%)</th>\n",
       "      <th>Medication</th>\n",
       "    </tr>\n",
       "  </thead>\n",
       "  <tbody>\n",
       "    <tr>\n",
       "      <th>0</th>\n",
       "      <td>0.1</td>\n",
       "      <td>11.949686</td>\n",
       "      <td>OFF</td>\n",
       "    </tr>\n",
       "    <tr>\n",
       "      <th>1</th>\n",
       "      <td>0.2</td>\n",
       "      <td>22.222222</td>\n",
       "      <td>OFF</td>\n",
       "    </tr>\n",
       "    <tr>\n",
       "      <th>2</th>\n",
       "      <td>0.3</td>\n",
       "      <td>18.343816</td>\n",
       "      <td>OFF</td>\n",
       "    </tr>\n",
       "    <tr>\n",
       "      <th>3</th>\n",
       "      <td>0.4</td>\n",
       "      <td>8.909853</td>\n",
       "      <td>OFF</td>\n",
       "    </tr>\n",
       "    <tr>\n",
       "      <th>4</th>\n",
       "      <td>0.5</td>\n",
       "      <td>7.232704</td>\n",
       "      <td>OFF</td>\n",
       "    </tr>\n",
       "    <tr>\n",
       "      <th>5</th>\n",
       "      <td>0.6</td>\n",
       "      <td>5.345912</td>\n",
       "      <td>OFF</td>\n",
       "    </tr>\n",
       "    <tr>\n",
       "      <th>6</th>\n",
       "      <td>0.7</td>\n",
       "      <td>3.354298</td>\n",
       "      <td>OFF</td>\n",
       "    </tr>\n",
       "    <tr>\n",
       "      <th>7</th>\n",
       "      <td>0.8</td>\n",
       "      <td>4.297694</td>\n",
       "      <td>OFF</td>\n",
       "    </tr>\n",
       "    <tr>\n",
       "      <th>8</th>\n",
       "      <td>0.9</td>\n",
       "      <td>2.93501</td>\n",
       "      <td>OFF</td>\n",
       "    </tr>\n",
       "    <tr>\n",
       "      <th>9</th>\n",
       "      <td>1.0</td>\n",
       "      <td>2.30608</td>\n",
       "      <td>OFF</td>\n",
       "    </tr>\n",
       "    <tr>\n",
       "      <th>10</th>\n",
       "      <td>1.1</td>\n",
       "      <td>2.096436</td>\n",
       "      <td>OFF</td>\n",
       "    </tr>\n",
       "    <tr>\n",
       "      <th>11</th>\n",
       "      <td>1.2</td>\n",
       "      <td>2.30608</td>\n",
       "      <td>OFF</td>\n",
       "    </tr>\n",
       "    <tr>\n",
       "      <th>12</th>\n",
       "      <td>&gt;1.2</td>\n",
       "      <td>8.70021</td>\n",
       "      <td>OFF</td>\n",
       "    </tr>\n",
       "    <tr>\n",
       "      <th>0</th>\n",
       "      <td>0.1</td>\n",
       "      <td>33.284024</td>\n",
       "      <td>ON</td>\n",
       "    </tr>\n",
       "    <tr>\n",
       "      <th>1</th>\n",
       "      <td>0.2</td>\n",
       "      <td>42.159763</td>\n",
       "      <td>ON</td>\n",
       "    </tr>\n",
       "    <tr>\n",
       "      <th>2</th>\n",
       "      <td>0.3</td>\n",
       "      <td>16.420118</td>\n",
       "      <td>ON</td>\n",
       "    </tr>\n",
       "    <tr>\n",
       "      <th>3</th>\n",
       "      <td>0.4</td>\n",
       "      <td>3.994083</td>\n",
       "      <td>ON</td>\n",
       "    </tr>\n",
       "    <tr>\n",
       "      <th>4</th>\n",
       "      <td>0.5</td>\n",
       "      <td>2.514793</td>\n",
       "      <td>ON</td>\n",
       "    </tr>\n",
       "    <tr>\n",
       "      <th>5</th>\n",
       "      <td>0.6</td>\n",
       "      <td>0.887574</td>\n",
       "      <td>ON</td>\n",
       "    </tr>\n",
       "    <tr>\n",
       "      <th>6</th>\n",
       "      <td>0.7</td>\n",
       "      <td>0.295858</td>\n",
       "      <td>ON</td>\n",
       "    </tr>\n",
       "    <tr>\n",
       "      <th>7</th>\n",
       "      <td>0.8</td>\n",
       "      <td>0.0</td>\n",
       "      <td>ON</td>\n",
       "    </tr>\n",
       "    <tr>\n",
       "      <th>8</th>\n",
       "      <td>0.9</td>\n",
       "      <td>0.295858</td>\n",
       "      <td>ON</td>\n",
       "    </tr>\n",
       "    <tr>\n",
       "      <th>9</th>\n",
       "      <td>1.0</td>\n",
       "      <td>0.0</td>\n",
       "      <td>ON</td>\n",
       "    </tr>\n",
       "    <tr>\n",
       "      <th>10</th>\n",
       "      <td>1.1</td>\n",
       "      <td>0.147929</td>\n",
       "      <td>ON</td>\n",
       "    </tr>\n",
       "    <tr>\n",
       "      <th>11</th>\n",
       "      <td>1.2</td>\n",
       "      <td>0.0</td>\n",
       "      <td>ON</td>\n",
       "    </tr>\n",
       "    <tr>\n",
       "      <th>12</th>\n",
       "      <td>&gt;1.2</td>\n",
       "      <td>0.0</td>\n",
       "      <td>ON</td>\n",
       "    </tr>\n",
       "  </tbody>\n",
       "</table>\n",
       "</div>"
      ],
      "text/plain": [
       "   Burst Duration (s) Burst Probability (%) Medication\n",
       "0                 0.1             11.949686        OFF\n",
       "1                 0.2             22.222222        OFF\n",
       "2                 0.3             18.343816        OFF\n",
       "3                 0.4              8.909853        OFF\n",
       "4                 0.5              7.232704        OFF\n",
       "5                 0.6              5.345912        OFF\n",
       "6                 0.7              3.354298        OFF\n",
       "7                 0.8              4.297694        OFF\n",
       "8                 0.9               2.93501        OFF\n",
       "9                 1.0               2.30608        OFF\n",
       "10                1.1              2.096436        OFF\n",
       "11                1.2               2.30608        OFF\n",
       "12               >1.2               8.70021        OFF\n",
       "0                 0.1             33.284024         ON\n",
       "1                 0.2             42.159763         ON\n",
       "2                 0.3             16.420118         ON\n",
       "3                 0.4              3.994083         ON\n",
       "4                 0.5              2.514793         ON\n",
       "5                 0.6              0.887574         ON\n",
       "6                 0.7              0.295858         ON\n",
       "7                 0.8                   0.0         ON\n",
       "8                 0.9              0.295858         ON\n",
       "9                 1.0                   0.0         ON\n",
       "10                1.1              0.147929         ON\n",
       "11                1.2                   0.0         ON\n",
       "12               >1.2                   0.0         ON"
      ]
     },
     "execution_count": 34,
     "metadata": {},
     "output_type": "execute_result"
    }
   ],
   "source": [
    "df_probdur_4 = pd.DataFrame(data=[bins_dur,burst_prob_dur_4]) \n",
    "df_probdur_4_on = pd.DataFrame(data=[bins_dur,burst_prob_dur_4_on]) \n",
    "\n",
    "df_probdur_t_4 =df_probdur_4.T\n",
    "df_probdur_t_4_on =df_probdur_4_on.T\n",
    "\n",
    "df_probdur_t_r_4 = df_probdur_t_4.rename(columns={0: \"Burst Duration (s)\",1:'Burst Probability (%)'})\n",
    "df_probdur_t_r_4_on = df_probdur_t_4_on.rename(columns={0: \"Burst Duration (s)\",1:'Burst Probability (%)'})\n",
    "\n",
    "df_probdur_t_r_m_4 = df_probdur_t_r_4.assign(Medication = 'OFF')\n",
    "df_probdur_t_r_m_4_on = df_probdur_t_r_4_on.assign(Medication = 'ON')\n",
    "\n",
    "pd_prob_dur_4 = pd.concat([df_probdur_t_r_m_4, df_probdur_t_r_m_4_on])\n",
    "pd_prob_dur_4"
   ]
  },
  {
   "cell_type": "markdown",
   "id": "2a40e896-af31-41b4-9fbe-2804f6cbdd23",
   "metadata": {},
   "source": [
    "### Burst length OFF vs ON"
   ]
  },
  {
   "cell_type": "code",
   "execution_count": 35,
   "id": "0054ee34-2d5d-4ee2-8713-9aef20f6da21",
   "metadata": {},
   "outputs": [
    {
     "data": {
      "text/html": [
       "<div>\n",
       "<style scoped>\n",
       "    .dataframe tbody tr th:only-of-type {\n",
       "        vertical-align: middle;\n",
       "    }\n",
       "\n",
       "    .dataframe tbody tr th {\n",
       "        vertical-align: top;\n",
       "    }\n",
       "\n",
       "    .dataframe thead th {\n",
       "        text-align: right;\n",
       "    }\n",
       "</style>\n",
       "<table border=\"1\" class=\"dataframe\">\n",
       "  <thead>\n",
       "    <tr style=\"text-align: right;\">\n",
       "      <th></th>\n",
       "      <th>Burst Duration (s)</th>\n",
       "      <th>Location</th>\n",
       "      <th>Medication</th>\n",
       "    </tr>\n",
       "  </thead>\n",
       "  <tbody>\n",
       "    <tr>\n",
       "      <th>0</th>\n",
       "      <td>1.720</td>\n",
       "      <td>ECOG_L4-L5_SMC_AT</td>\n",
       "      <td>OFF</td>\n",
       "    </tr>\n",
       "    <tr>\n",
       "      <th>1</th>\n",
       "      <td>2.460</td>\n",
       "      <td>ECOG_L4-L5_SMC_AT</td>\n",
       "      <td>OFF</td>\n",
       "    </tr>\n",
       "    <tr>\n",
       "      <th>2</th>\n",
       "      <td>0.804</td>\n",
       "      <td>ECOG_L4-L5_SMC_AT</td>\n",
       "      <td>OFF</td>\n",
       "    </tr>\n",
       "    <tr>\n",
       "      <th>3</th>\n",
       "      <td>0.120</td>\n",
       "      <td>ECOG_L4-L5_SMC_AT</td>\n",
       "      <td>OFF</td>\n",
       "    </tr>\n",
       "    <tr>\n",
       "      <th>4</th>\n",
       "      <td>0.152</td>\n",
       "      <td>ECOG_L4-L5_SMC_AT</td>\n",
       "      <td>OFF</td>\n",
       "    </tr>\n",
       "    <tr>\n",
       "      <th>...</th>\n",
       "      <td>...</td>\n",
       "      <td>...</td>\n",
       "      <td>...</td>\n",
       "    </tr>\n",
       "    <tr>\n",
       "      <th>671</th>\n",
       "      <td>0.272</td>\n",
       "      <td>ECOG_L4-L5_SMC_AT</td>\n",
       "      <td>ON</td>\n",
       "    </tr>\n",
       "    <tr>\n",
       "      <th>672</th>\n",
       "      <td>0.212</td>\n",
       "      <td>ECOG_L4-L5_SMC_AT</td>\n",
       "      <td>ON</td>\n",
       "    </tr>\n",
       "    <tr>\n",
       "      <th>673</th>\n",
       "      <td>0.076</td>\n",
       "      <td>ECOG_L4-L5_SMC_AT</td>\n",
       "      <td>ON</td>\n",
       "    </tr>\n",
       "    <tr>\n",
       "      <th>674</th>\n",
       "      <td>0.056</td>\n",
       "      <td>ECOG_L4-L5_SMC_AT</td>\n",
       "      <td>ON</td>\n",
       "    </tr>\n",
       "    <tr>\n",
       "      <th>675</th>\n",
       "      <td>0.048</td>\n",
       "      <td>ECOG_L4-L5_SMC_AT</td>\n",
       "      <td>ON</td>\n",
       "    </tr>\n",
       "  </tbody>\n",
       "</table>\n",
       "<p>1630 rows × 3 columns</p>\n",
       "</div>"
      ],
      "text/plain": [
       "     Burst Duration (s)           Location Medication\n",
       "0                 1.720  ECOG_L4-L5_SMC_AT        OFF\n",
       "1                 2.460  ECOG_L4-L5_SMC_AT        OFF\n",
       "2                 0.804  ECOG_L4-L5_SMC_AT        OFF\n",
       "3                 0.120  ECOG_L4-L5_SMC_AT        OFF\n",
       "4                 0.152  ECOG_L4-L5_SMC_AT        OFF\n",
       "..                  ...                ...        ...\n",
       "671               0.272  ECOG_L4-L5_SMC_AT         ON\n",
       "672               0.212  ECOG_L4-L5_SMC_AT         ON\n",
       "673               0.076  ECOG_L4-L5_SMC_AT         ON\n",
       "674               0.056  ECOG_L4-L5_SMC_AT         ON\n",
       "675               0.048  ECOG_L4-L5_SMC_AT         ON\n",
       "\n",
       "[1630 rows x 3 columns]"
      ]
     },
     "execution_count": 35,
     "metadata": {},
     "output_type": "execute_result"
    }
   ],
   "source": [
    "df_dur_4 = pd.DataFrame(burst_length_4)\n",
    "df_dur_4_on = pd.DataFrame(burst_length_4_on) \n",
    "\n",
    "df_dur_4_m = df_dur_4.assign(Location ='ECOG_L4-L5_SMC_AT',Medication = 'OFF')\n",
    "df_dur_4_m_on = df_dur_4_on.assign(Location ='ECOG_L4-L5_SMC_AT',Medication = 'ON')\n",
    "\n",
    "df_dur_4_m_r = df_dur_4_m.rename(columns={0: \"Burst Duration (s)\"})\n",
    "df_dur_4_m_r_on = df_dur_4_m_on.rename(columns={0: \"Burst Duration (s)\"})\n",
    "\n",
    "pd_dur_4 = pd.concat([df_dur_4_m_r, df_dur_4_m_r_on])\n",
    "pd_dur_4"
   ]
  },
  {
   "cell_type": "code",
   "execution_count": 55,
   "id": "dc23385b-e354-4f4c-9b93-ebff42140486",
   "metadata": {},
   "outputs": [],
   "source": [
    "pw = pd.DataFrame(npow_4)\n",
    "pw_on = pd.DataFrame(npow_4_on)\n",
    "\n",
    "pw_a = pw.assign(Location='ECOG-L4-L5_SMC_AT', Medication = 'OFF')\n",
    "pw_on_a = pw_on.assign(Location='ECOG-L4-L5_SMC_AT', Medication = 'ON')\n",
    "\n",
    "pw_r = pw_a.rename(columns={0:'Relative spectral power (au)'}) \n",
    "pw_r_on = pw_on_a.rename(columns={0:'Relative spectral power (au)'}) \n",
    "\n",
    "pw_c = pd.concat([pw_r, pw_r_on])"
   ]
  },
  {
   "cell_type": "code",
   "execution_count": 58,
   "id": "ef82a7c4-8829-4938-9f3b-0a4cb9353f05",
   "metadata": {},
   "outputs": [],
   "source": [
    "pw_c.to_csv('M1_Relative_Power.csv')"
   ]
  },
  {
   "cell_type": "code",
   "execution_count": 56,
   "id": "98f73ea4-bf62-402e-b87e-e08160a6f137",
   "metadata": {},
   "outputs": [
    {
     "data": {
      "text/html": [
       "<div>\n",
       "<style scoped>\n",
       "    .dataframe tbody tr th:only-of-type {\n",
       "        vertical-align: middle;\n",
       "    }\n",
       "\n",
       "    .dataframe tbody tr th {\n",
       "        vertical-align: top;\n",
       "    }\n",
       "\n",
       "    .dataframe thead th {\n",
       "        text-align: right;\n",
       "    }\n",
       "</style>\n",
       "<table border=\"1\" class=\"dataframe\">\n",
       "  <thead>\n",
       "    <tr style=\"text-align: right;\">\n",
       "      <th></th>\n",
       "      <th>Relative spectral power (au)</th>\n",
       "      <th>Location</th>\n",
       "      <th>Medication</th>\n",
       "    </tr>\n",
       "  </thead>\n",
       "  <tbody>\n",
       "    <tr>\n",
       "      <th>0</th>\n",
       "      <td>0.000015</td>\n",
       "      <td>ECOG-L4-L5_SMC_AT</td>\n",
       "      <td>OFF</td>\n",
       "    </tr>\n",
       "    <tr>\n",
       "      <th>1</th>\n",
       "      <td>0.001856</td>\n",
       "      <td>ECOG-L4-L5_SMC_AT</td>\n",
       "      <td>OFF</td>\n",
       "    </tr>\n",
       "    <tr>\n",
       "      <th>2</th>\n",
       "      <td>0.006020</td>\n",
       "      <td>ECOG-L4-L5_SMC_AT</td>\n",
       "      <td>OFF</td>\n",
       "    </tr>\n",
       "    <tr>\n",
       "      <th>3</th>\n",
       "      <td>0.007725</td>\n",
       "      <td>ECOG-L4-L5_SMC_AT</td>\n",
       "      <td>OFF</td>\n",
       "    </tr>\n",
       "    <tr>\n",
       "      <th>4</th>\n",
       "      <td>0.010386</td>\n",
       "      <td>ECOG-L4-L5_SMC_AT</td>\n",
       "      <td>OFF</td>\n",
       "    </tr>\n",
       "    <tr>\n",
       "      <th>...</th>\n",
       "      <td>...</td>\n",
       "      <td>...</td>\n",
       "      <td>...</td>\n",
       "    </tr>\n",
       "    <tr>\n",
       "      <th>94</th>\n",
       "      <td>0.000066</td>\n",
       "      <td>ECOG-L4-L5_SMC_AT</td>\n",
       "      <td>ON</td>\n",
       "    </tr>\n",
       "    <tr>\n",
       "      <th>95</th>\n",
       "      <td>0.000062</td>\n",
       "      <td>ECOG-L4-L5_SMC_AT</td>\n",
       "      <td>ON</td>\n",
       "    </tr>\n",
       "    <tr>\n",
       "      <th>96</th>\n",
       "      <td>0.000060</td>\n",
       "      <td>ECOG-L4-L5_SMC_AT</td>\n",
       "      <td>ON</td>\n",
       "    </tr>\n",
       "    <tr>\n",
       "      <th>97</th>\n",
       "      <td>0.000057</td>\n",
       "      <td>ECOG-L4-L5_SMC_AT</td>\n",
       "      <td>ON</td>\n",
       "    </tr>\n",
       "    <tr>\n",
       "      <th>98</th>\n",
       "      <td>0.000054</td>\n",
       "      <td>ECOG-L4-L5_SMC_AT</td>\n",
       "      <td>ON</td>\n",
       "    </tr>\n",
       "  </tbody>\n",
       "</table>\n",
       "<p>198 rows × 3 columns</p>\n",
       "</div>"
      ],
      "text/plain": [
       "    Relative spectral power (au)           Location Medication\n",
       "0                       0.000015  ECOG-L4-L5_SMC_AT        OFF\n",
       "1                       0.001856  ECOG-L4-L5_SMC_AT        OFF\n",
       "2                       0.006020  ECOG-L4-L5_SMC_AT        OFF\n",
       "3                       0.007725  ECOG-L4-L5_SMC_AT        OFF\n",
       "4                       0.010386  ECOG-L4-L5_SMC_AT        OFF\n",
       "..                           ...                ...        ...\n",
       "94                      0.000066  ECOG-L4-L5_SMC_AT         ON\n",
       "95                      0.000062  ECOG-L4-L5_SMC_AT         ON\n",
       "96                      0.000060  ECOG-L4-L5_SMC_AT         ON\n",
       "97                      0.000057  ECOG-L4-L5_SMC_AT         ON\n",
       "98                      0.000054  ECOG-L4-L5_SMC_AT         ON\n",
       "\n",
       "[198 rows x 3 columns]"
      ]
     },
     "execution_count": 56,
     "metadata": {},
     "output_type": "execute_result"
    }
   ],
   "source": [
    "pw_c"
   ]
  },
  {
   "cell_type": "markdown",
   "id": "04150398-ad4f-43e1-af13-c1ead80f2028",
   "metadata": {},
   "source": [
    "### Biomarker comparison"
   ]
  },
  {
   "cell_type": "code",
   "execution_count": 7,
   "id": "fd79a63f-a4e0-41f0-8578-a058d1a6acc1",
   "metadata": {},
   "outputs": [
    {
     "ename": "NameError",
     "evalue": "name 'freqs' is not defined",
     "output_type": "error",
     "traceback": [
      "\u001b[0;31m---------------------------------------------------------------------------\u001b[0m",
      "\u001b[0;31mNameError\u001b[0m                                 Traceback (most recent call last)",
      "\u001b[0;32m<ipython-input-7-66cfcb6ff24d>\u001b[0m in \u001b[0;36m<module>\u001b[0;34m\u001b[0m\n\u001b[1;32m      3\u001b[0m \u001b[0;34m\u001b[0m\u001b[0m\n\u001b[1;32m      4\u001b[0m \u001b[0mplt\u001b[0m\u001b[0;34m.\u001b[0m\u001b[0msubplot\u001b[0m\u001b[0;34m(\u001b[0m\u001b[0;36m131\u001b[0m\u001b[0;34m)\u001b[0m\u001b[0;34m\u001b[0m\u001b[0;34m\u001b[0m\u001b[0m\n\u001b[0;32m----> 5\u001b[0;31m \u001b[0mplt\u001b[0m\u001b[0;34m.\u001b[0m\u001b[0mplot\u001b[0m\u001b[0;34m(\u001b[0m\u001b[0mfreqs\u001b[0m\u001b[0;34m,\u001b[0m\u001b[0mnpow_4\u001b[0m\u001b[0;34m,\u001b[0m\u001b[0mlabel\u001b[0m\u001b[0;34m=\u001b[0m \u001b[0;34m'OFF '\u001b[0m\u001b[0;34m,\u001b[0m\u001b[0mlinewidth\u001b[0m\u001b[0;34m=\u001b[0m\u001b[0;36m4\u001b[0m\u001b[0;34m)\u001b[0m\u001b[0;34m\u001b[0m\u001b[0;34m\u001b[0m\u001b[0m\n\u001b[0m\u001b[1;32m      6\u001b[0m \u001b[0mplt\u001b[0m\u001b[0;34m.\u001b[0m\u001b[0mplot\u001b[0m\u001b[0;34m(\u001b[0m\u001b[0mfreqs\u001b[0m\u001b[0;34m,\u001b[0m\u001b[0mnpow_4_on\u001b[0m\u001b[0;34m,\u001b[0m\u001b[0mlabel\u001b[0m\u001b[0;34m=\u001b[0m \u001b[0;34m'ON'\u001b[0m\u001b[0;34m,\u001b[0m\u001b[0mlinewidth\u001b[0m\u001b[0;34m=\u001b[0m\u001b[0;36m4\u001b[0m\u001b[0;34m)\u001b[0m\u001b[0;34m\u001b[0m\u001b[0;34m\u001b[0m\u001b[0m\n\u001b[1;32m      7\u001b[0m \u001b[0mplt\u001b[0m\u001b[0;34m.\u001b[0m\u001b[0mxlim\u001b[0m\u001b[0;34m(\u001b[0m\u001b[0;36m0\u001b[0m\u001b[0;34m,\u001b[0m\u001b[0;36m60\u001b[0m\u001b[0;34m)\u001b[0m\u001b[0;34m\u001b[0m\u001b[0;34m\u001b[0m\u001b[0m\n",
      "\u001b[0;31mNameError\u001b[0m: name 'freqs' is not defined"
     ]
    },
    {
     "data": {
      "image/png": "[encoded data removed]",
      "text/plain": [
       "<Figure size 1800x1080 with 3 Axes>"
      ]
     },
     "metadata": {},
     "output_type": "display_data"
    }
   ],
   "source": [
    "sns.set(style=\"white\", font_scale=1.3)\n",
    "fig,ax = plt.subplots(1,3, figsize=(25,15),)\n",
    "\n",
    "plt.subplot(131)\n",
    "plt.plot(freqs,npow_4,label= 'OFF ',linewidth=4)\n",
    "plt.plot(freqs,npow_4_on,label= 'ON',linewidth=4)\n",
    "plt.xlim(0,60)\n",
    "plt.xlabel('Frequency (Hz)')\n",
    "plt.ylabel('Relative spectral power (au)')\n",
    "plt.legend(title='Medication', fontsize=15,title_fontsize=15)\n",
    "        \n",
    "plt.subplot(132)           \n",
    "alpha_box=0.3\n",
    "sns.barplot(data=pd_prob_dur_4, x='Burst Duration (s)', y='Burst Probability (%)', hue='Medication') \n",
    "plt.legend(title='Medication', fontsize=15,title_fontsize=15)\n",
    "\n",
    "\n",
    "plt.subplot(133)\n",
    "alpha_box = 0.4\n",
    "g = sns.boxplot(x='Location', y='Burst Duration (s)', hue='Medication',data=pd_dur_4,         \n",
    "           showfliers=False,meanline=dict(color='r'), showmeans=True,\n",
    "           whiskerprops={'linewidth':2, \"zorder\":10, \"alpha\":alpha_box},\n",
    "           capprops={\"alpha\":alpha_box},\n",
    "           meanprops=dict(linestyle='-.', linewidth=5,color='r'))\n",
    "plt.xlabel('Primary Motor Cortex')\n",
    "plt.legend(title='Medication', fontsize=15,title_fontsize=15)\n",
    "\n",
    "for n, ax in enumerate(ax):   \n",
    "    ax.text(-0.1, 1.1, string.ascii_uppercase[n], transform=ax.transAxes, \n",
    "            size=30, weight='bold')\n",
    "    \n",
    "sns.despine()"
   ]
  },
  {
   "cell_type": "code",
   "execution_count": 41,
   "id": "1dc07a25-070b-4d45-b077-8c691a776ce7",
   "metadata": {},
   "outputs": [],
   "source": [
    "import csv"
   ]
  },
  {
   "cell_type": "code",
   "execution_count": 43,
   "id": "0a3c6d42-6497-4edc-bf76-b8ad80a111fb",
   "metadata": {},
   "outputs": [],
   "source": [
    "pd_prob_dur_4.to_csv('M1_BurstDynamics.csv')"
   ]
  },
  {
   "cell_type": "code",
   "execution_count": 61,
   "id": "477b294f-f78e-44ed-8bf5-7d60384f5ae5",
   "metadata": {},
   "outputs": [],
   "source": [
    "pd_dur_4.to_csv('M1.csv')"
   ]
  },
  {
   "cell_type": "code",
   "execution_count": 62,
   "id": "a5f7d88b-14b1-4917-a9ce-b97d15e9c015",
   "metadata": {},
   "outputs": [
    {
     "data": {
      "text/html": [
       "<div>\n",
       "<style scoped>\n",
       "    .dataframe tbody tr th:only-of-type {\n",
       "        vertical-align: middle;\n",
       "    }\n",
       "\n",
       "    .dataframe tbody tr th {\n",
       "        vertical-align: top;\n",
       "    }\n",
       "\n",
       "    .dataframe thead th {\n",
       "        text-align: right;\n",
       "    }\n",
       "</style>\n",
       "<table border=\"1\" class=\"dataframe\">\n",
       "  <thead>\n",
       "    <tr style=\"text-align: right;\">\n",
       "      <th></th>\n",
       "      <th>Burst Duration (s)</th>\n",
       "      <th>Location</th>\n",
       "      <th>Medication</th>\n",
       "    </tr>\n",
       "  </thead>\n",
       "  <tbody>\n",
       "    <tr>\n",
       "      <th>0</th>\n",
       "      <td>1.720</td>\n",
       "      <td>ECOG_L4-L5_SMC_AT</td>\n",
       "      <td>OFF</td>\n",
       "    </tr>\n",
       "    <tr>\n",
       "      <th>1</th>\n",
       "      <td>2.460</td>\n",
       "      <td>ECOG_L4-L5_SMC_AT</td>\n",
       "      <td>OFF</td>\n",
       "    </tr>\n",
       "    <tr>\n",
       "      <th>2</th>\n",
       "      <td>0.804</td>\n",
       "      <td>ECOG_L4-L5_SMC_AT</td>\n",
       "      <td>OFF</td>\n",
       "    </tr>\n",
       "    <tr>\n",
       "      <th>3</th>\n",
       "      <td>0.120</td>\n",
       "      <td>ECOG_L4-L5_SMC_AT</td>\n",
       "      <td>OFF</td>\n",
       "    </tr>\n",
       "    <tr>\n",
       "      <th>4</th>\n",
       "      <td>0.152</td>\n",
       "      <td>ECOG_L4-L5_SMC_AT</td>\n",
       "      <td>OFF</td>\n",
       "    </tr>\n",
       "    <tr>\n",
       "      <th>...</th>\n",
       "      <td>...</td>\n",
       "      <td>...</td>\n",
       "      <td>...</td>\n",
       "    </tr>\n",
       "    <tr>\n",
       "      <th>671</th>\n",
       "      <td>0.272</td>\n",
       "      <td>ECOG_L4-L5_SMC_AT</td>\n",
       "      <td>ON</td>\n",
       "    </tr>\n",
       "    <tr>\n",
       "      <th>672</th>\n",
       "      <td>0.212</td>\n",
       "      <td>ECOG_L4-L5_SMC_AT</td>\n",
       "      <td>ON</td>\n",
       "    </tr>\n",
       "    <tr>\n",
       "      <th>673</th>\n",
       "      <td>0.076</td>\n",
       "      <td>ECOG_L4-L5_SMC_AT</td>\n",
       "      <td>ON</td>\n",
       "    </tr>\n",
       "    <tr>\n",
       "      <th>674</th>\n",
       "      <td>0.056</td>\n",
       "      <td>ECOG_L4-L5_SMC_AT</td>\n",
       "      <td>ON</td>\n",
       "    </tr>\n",
       "    <tr>\n",
       "      <th>675</th>\n",
       "      <td>0.048</td>\n",
       "      <td>ECOG_L4-L5_SMC_AT</td>\n",
       "      <td>ON</td>\n",
       "    </tr>\n",
       "  </tbody>\n",
       "</table>\n",
       "<p>1630 rows × 3 columns</p>\n",
       "</div>"
      ],
      "text/plain": [
       "     Burst Duration (s)           Location Medication\n",
       "0                 1.720  ECOG_L4-L5_SMC_AT        OFF\n",
       "1                 2.460  ECOG_L4-L5_SMC_AT        OFF\n",
       "2                 0.804  ECOG_L4-L5_SMC_AT        OFF\n",
       "3                 0.120  ECOG_L4-L5_SMC_AT        OFF\n",
       "4                 0.152  ECOG_L4-L5_SMC_AT        OFF\n",
       "..                  ...                ...        ...\n",
       "671               0.272  ECOG_L4-L5_SMC_AT         ON\n",
       "672               0.212  ECOG_L4-L5_SMC_AT         ON\n",
       "673               0.076  ECOG_L4-L5_SMC_AT         ON\n",
       "674               0.056  ECOG_L4-L5_SMC_AT         ON\n",
       "675               0.048  ECOG_L4-L5_SMC_AT         ON\n",
       "\n",
       "[1630 rows x 3 columns]"
      ]
     },
     "execution_count": 62,
     "metadata": {},
     "output_type": "execute_result"
    }
   ],
   "source": [
    "pd_dur_4"
   ]
  },
  {
   "cell_type": "code",
   "execution_count": null,
   "id": "3810a795-d092-45c2-8876-46b271c7c096",
   "metadata": {},
   "outputs": [],
   "source": []
  }
 ],
 "metadata": {
  "kernelspec": {
   "display_name": "Python 3",
   "language": "python",
   "name": "python3"
  },
  "language_info": {
   "codemirror_mode": {
    "name": "ipython",
    "version": 3
   },
   "file_extension": ".py",
   "mimetype": "text/x-python",
   "name": "python",
   "nbconvert_exporter": "python",
   "pygments_lexer": "ipython3",
   "version": "3.9.4"
  }
 },
 "nbformat": 4,
 "nbformat_minor": 5
}
