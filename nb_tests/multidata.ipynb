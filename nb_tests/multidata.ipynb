{
 "cells": [
  {
   "cell_type": "code",
   "execution_count": 1,
   "id": "7ce8a9f1-9f44-4aa8-aa54-b87a08b64530",
   "metadata": {},
   "outputs": [],
   "source": [
    "#import libraries and modules\n",
    "import mne\n",
    "import numpy as np\n",
    "import scipy\n",
    "from scipy import stats\n",
    "import matplotlib.pyplot as plt\n",
    "import seaborn as sns\n",
    "import pandas as  pd\n",
    "import mne_bids\n",
    "import string\n",
    "import os\n",
    "from os.path import join\n",
    "from bids import BIDSLayout\n",
    "sns.set(style=\"white\", font_scale=1)"
   ]
  },
  {
   "cell_type": "code",
   "execution_count": 2,
   "id": "28155d55-eb98-495f-bf7d-eafef48c3937",
   "metadata": {},
   "outputs": [
    {
     "name": "stderr",
     "output_type": "stream",
     "text": [
      "/Users/alidzaye/opt/anaconda3/envs/mne/lib/python3.9/site-packages/bids/layout/models.py:148: FutureWarning: The 'extension' entity currently excludes the leading dot ('.'). As of version 0.14.0, it will include the leading dot. To suppress this warning and include the leading dot, use `bids.config.set_option('extension_initial_dot', True)`.\n",
      "  warnings.warn(\"The 'extension' entity currently excludes the leading dot ('.'). \"\n"
     ]
    },
    {
     "name": "stdout",
     "output_type": "stream",
     "text": [
      "BIDS Layout: .../Users/alidzaye/rawdata | Subjects: 8 | Sessions: 27 | Runs: 21\n"
     ]
    }
   ],
   "source": [
    "# Initiliaze the layout\n",
    "data_path = os.path.join('/Users/alidzaye/rawdata')\n",
    "layout = BIDSLayout(data_path)\n",
    "print(layout)"
   ]
  },
  {
   "cell_type": "code",
   "execution_count": 3,
   "id": "5f53c941-ac90-4b97-a920-9552cdedd6d7",
   "metadata": {},
   "outputs": [
    {
     "data": {
      "text/plain": [
       "['001', '002', '003', '004', '005', '006', '007', '008']"
      ]
     },
     "execution_count": 3,
     "metadata": {},
     "output_type": "execute_result"
    }
   ],
   "source": [
    "layout.get_subjects()"
   ]
  },
  {
   "cell_type": "code",
   "execution_count": 4,
   "id": "fd4640a0-f6da-4e05-9160-19143e402ff0",
   "metadata": {},
   "outputs": [
    {
     "data": {
      "text/plain": [
       "['EphysMedOff01',\n",
       " 'EphysMedOff02',\n",
       " 'EphysMedOff03',\n",
       " 'EphysMedOn01',\n",
       " 'EphysMedOn02',\n",
       " 'EphysMedOn03']"
      ]
     },
     "execution_count": 4,
     "metadata": {},
     "output_type": "execute_result"
    }
   ],
   "source": [
    "layout.get_sessions()"
   ]
  },
  {
   "cell_type": "code",
   "execution_count": 5,
   "id": "67a1691d-7165-4953-8819-629dab411bba",
   "metadata": {},
   "outputs": [
    {
     "data": {
      "text/plain": [
       "['BlockRotationL',\n",
       " 'BlockRotationR',\n",
       " 'BlockRotationWheel',\n",
       " 'ContinuousStopping',\n",
       " 'Evoked',\n",
       " 'FreeDrawing',\n",
       " 'ReadRelaxMoveL',\n",
       " 'ReadRelaxMoveR',\n",
       " 'Rest',\n",
       " 'RestAndSpeech',\n",
       " 'SelfpacedForceWheel',\n",
       " 'SelfpacedRotationL',\n",
       " 'SelfpacedRotationR',\n",
       " 'SelfpacedSpeech',\n",
       " 'Speech',\n",
       " 'Transition',\n",
       " 'UPDRSIII',\n",
       " 'VigorStimL',\n",
       " 'VigorStimR',\n",
       " 'Visuomotor']"
      ]
     },
     "execution_count": 5,
     "metadata": {},
     "output_type": "execute_result"
    }
   ],
   "source": [
    "layout.get_tasks()"
   ]
  },
  {
   "cell_type": "code",
   "execution_count": 6,
   "id": "a12f735b-1232-41b9-857d-1af35a1ad8db",
   "metadata": {},
   "outputs": [
    {
     "data": {
      "text/plain": [
       "['StimOff', 'StimOffOn', 'StimOn']"
      ]
     },
     "execution_count": 6,
     "metadata": {},
     "output_type": "execute_result"
    }
   ],
   "source": [
    "layout.get_acquisition()"
   ]
  },
  {
   "cell_type": "code",
   "execution_count": 7,
   "id": "34a05d95-c675-484f-9e3f-df7da06cc654",
   "metadata": {},
   "outputs": [
    {
     "name": "stdout",
     "output_type": "stream",
     "text": [
      "42\n",
      "21\n",
      "0\n"
     ]
    }
   ],
   "source": [
    "# Stim Rest data OFF & ON \n",
    "files_stimoff = layout.get(extension='vhdr', task='Rest', acquisition='StimOff', return_type='filename')\n",
    "files_stimon = layout.get(extension='vhdr', task='Rest', acquisition='StimOn', return_type='filename')\n",
    "files_stimoff_on = layout.get(extension='vhdr', task='Rest', acquisition='StimOffOn', return_type='filename')\n",
    "print(len(files_stimoff))\n",
    "print(len(files_stimon))\n",
    "print(len(files_stimoff_on))"
   ]
  },
  {
   "cell_type": "code",
   "execution_count": 8,
   "id": "d01a4f11-d4e4-4d36-a525-e902c4c22eb4",
   "metadata": {},
   "outputs": [
    {
     "name": "stdout",
     "output_type": "stream",
     "text": [
      "42\n",
      "23\n",
      "19\n"
     ]
    }
   ],
   "source": [
    "# Rest data OFF & ON StimOff\n",
    "files = layout.get(extension='vhdr', task='Rest', acquisition='StimOff', return_type='filename')\n",
    "files_off = layout.get(extension='vhdr', task='Rest', acquisition='StimOff', session=['EphysMedOff01','EphysMedOff02','EphysMedOff03'], return_type='filename')\n",
    "files_on = layout.get(extension='vhdr', task='Rest', session=['EphysMedOn01','EphysMedOn02','EphysMedOn03'], acquisition='StimOff', return_type='filename')\n",
    "print(len(files))\n",
    "print(len(files_off))\n",
    "print(len(files_on))"
   ]
  },
  {
   "cell_type": "code",
   "execution_count": 9,
   "id": "d74c4148-c10c-4ece-85ff-8dde4761052f",
   "metadata": {},
   "outputs": [],
   "source": [
    "def read_files(files):\n",
    "    '''\n",
    "    reading Bids files\n",
    "    '''\n",
    "    raws=[]\n",
    "    \n",
    "    for index in range (len(files)):\n",
    "        mne.io.read_raw(files[index])\n",
    "        raws.append(mne.io.read_raw(files[index]))\n",
    "        \n",
    "    return raws"
   ]
  },
  {
   "cell_type": "code",
   "execution_count": 70,
   "id": "00d7d49b-98f0-4b26-9cc2-4624999e92fb",
   "metadata": {
    "collapsed": true,
    "jupyter": {
     "outputs_hidden": true
    },
    "tags": []
   },
   "outputs": [
    {
     "name": "stdout",
     "output_type": "stream",
     "text": [
      "Extracting parameters from /Users/alidzaye/rawdata/sub-001/ses-EphysMedOff01/ieeg/sub-001_ses-EphysMedOff01_task-Rest_acq-StimOff_run-01_ieeg.vhdr...\n",
      "Setting channel info structure...\n",
      "Extracting parameters from /Users/alidzaye/rawdata/sub-001/ses-EphysMedOff01/ieeg/sub-001_ses-EphysMedOff01_task-Rest_acq-StimOff_run-01_ieeg.vhdr...\n",
      "Setting channel info structure...\n",
      "Extracting parameters from /Users/alidzaye/rawdata/sub-001/ses-EphysMedOff01/ieeg/sub-001_ses-EphysMedOff01_task-Rest_acq-StimOff_run-02_ieeg.vhdr...\n",
      "Setting channel info structure...\n",
      "Extracting parameters from /Users/alidzaye/rawdata/sub-001/ses-EphysMedOff01/ieeg/sub-001_ses-EphysMedOff01_task-Rest_acq-StimOff_run-02_ieeg.vhdr...\n",
      "Setting channel info structure...\n",
      "Extracting parameters from /Users/alidzaye/rawdata/sub-001/ses-EphysMedOn01/ieeg/sub-001_ses-EphysMedOn01_task-Rest_acq-StimOff_run-01_ieeg.vhdr...\n",
      "Setting channel info structure...\n",
      "Extracting parameters from /Users/alidzaye/rawdata/sub-001/ses-EphysMedOn01/ieeg/sub-001_ses-EphysMedOn01_task-Rest_acq-StimOff_run-01_ieeg.vhdr...\n",
      "Setting channel info structure...\n",
      "Extracting parameters from /Users/alidzaye/rawdata/sub-001/ses-EphysMedOn02/ieeg/sub-001_ses-EphysMedOn02_task-Rest_acq-StimOff_run-01_ieeg.vhdr...\n",
      "Setting channel info structure...\n",
      "Extracting parameters from /Users/alidzaye/rawdata/sub-001/ses-EphysMedOn02/ieeg/sub-001_ses-EphysMedOn02_task-Rest_acq-StimOff_run-01_ieeg.vhdr...\n",
      "Setting channel info structure...\n",
      "Extracting parameters from /Users/alidzaye/rawdata/sub-002/ses-EphysMedOff01/ieeg/sub-002_ses-EphysMedOff01_task-Rest_acq-StimOff_run-01_ieeg.vhdr...\n",
      "Setting channel info structure...\n",
      "Extracting parameters from /Users/alidzaye/rawdata/sub-002/ses-EphysMedOff01/ieeg/sub-002_ses-EphysMedOff01_task-Rest_acq-StimOff_run-01_ieeg.vhdr...\n",
      "Setting channel info structure...\n",
      "Extracting parameters from /Users/alidzaye/rawdata/sub-002/ses-EphysMedOff01/ieeg/sub-002_ses-EphysMedOff01_task-Rest_acq-StimOff_run-02_ieeg.vhdr...\n",
      "Setting channel info structure...\n",
      "Extracting parameters from /Users/alidzaye/rawdata/sub-002/ses-EphysMedOff01/ieeg/sub-002_ses-EphysMedOff01_task-Rest_acq-StimOff_run-02_ieeg.vhdr...\n",
      "Setting channel info structure...\n",
      "Extracting parameters from /Users/alidzaye/rawdata/sub-002/ses-EphysMedOff02/ieeg/sub-002_ses-EphysMedOff02_task-Rest_acq-StimOff_run-01_ieeg.vhdr...\n",
      "Setting channel info structure...\n",
      "Extracting parameters from /Users/alidzaye/rawdata/sub-002/ses-EphysMedOff02/ieeg/sub-002_ses-EphysMedOff02_task-Rest_acq-StimOff_run-01_ieeg.vhdr...\n",
      "Setting channel info structure...\n",
      "Extracting parameters from /Users/alidzaye/rawdata/sub-002/ses-EphysMedOff02/ieeg/sub-002_ses-EphysMedOff02_task-Rest_acq-StimOff_run-02_ieeg.vhdr...\n",
      "Setting channel info structure...\n",
      "Extracting parameters from /Users/alidzaye/rawdata/sub-002/ses-EphysMedOff02/ieeg/sub-002_ses-EphysMedOff02_task-Rest_acq-StimOff_run-02_ieeg.vhdr...\n",
      "Setting channel info structure...\n",
      "Extracting parameters from /Users/alidzaye/rawdata/sub-002/ses-EphysMedOff02/ieeg/sub-002_ses-EphysMedOff02_task-Rest_acq-StimOff_run-03_ieeg.vhdr...\n",
      "Setting channel info structure...\n",
      "Extracting parameters from /Users/alidzaye/rawdata/sub-002/ses-EphysMedOff02/ieeg/sub-002_ses-EphysMedOff02_task-Rest_acq-StimOff_run-03_ieeg.vhdr...\n",
      "Setting channel info structure...\n",
      "Extracting parameters from /Users/alidzaye/rawdata/sub-002/ses-EphysMedOff03/ieeg/sub-002_ses-EphysMedOff03_task-Rest_acq-StimOff_run-01_ieeg.vhdr...\n",
      "Setting channel info structure...\n",
      "Extracting parameters from /Users/alidzaye/rawdata/sub-002/ses-EphysMedOff03/ieeg/sub-002_ses-EphysMedOff03_task-Rest_acq-StimOff_run-01_ieeg.vhdr...\n",
      "Setting channel info structure...\n",
      "Extracting parameters from /Users/alidzaye/rawdata/sub-002/ses-EphysMedOff03/ieeg/sub-002_ses-EphysMedOff03_task-Rest_acq-StimOff_run-02_ieeg.vhdr...\n",
      "Setting channel info structure...\n",
      "Extracting parameters from /Users/alidzaye/rawdata/sub-002/ses-EphysMedOff03/ieeg/sub-002_ses-EphysMedOff03_task-Rest_acq-StimOff_run-02_ieeg.vhdr...\n",
      "Setting channel info structure...\n",
      "Extracting parameters from /Users/alidzaye/rawdata/sub-002/ses-EphysMedOff03/ieeg/sub-002_ses-EphysMedOff03_task-Rest_acq-StimOff_run-03_ieeg.vhdr...\n",
      "Setting channel info structure...\n",
      "Extracting parameters from /Users/alidzaye/rawdata/sub-002/ses-EphysMedOff03/ieeg/sub-002_ses-EphysMedOff03_task-Rest_acq-StimOff_run-03_ieeg.vhdr...\n",
      "Setting channel info structure...\n",
      "Extracting parameters from /Users/alidzaye/rawdata/sub-002/ses-EphysMedOff03/ieeg/sub-002_ses-EphysMedOff03_task-Rest_acq-StimOff_run-04_ieeg.vhdr...\n",
      "Setting channel info structure...\n",
      "Extracting parameters from /Users/alidzaye/rawdata/sub-002/ses-EphysMedOff03/ieeg/sub-002_ses-EphysMedOff03_task-Rest_acq-StimOff_run-04_ieeg.vhdr...\n",
      "Setting channel info structure...\n",
      "Extracting parameters from /Users/alidzaye/rawdata/sub-003/ses-EphysMedOff01/ieeg/sub-003_ses-EphysMedOff01_task-Rest_acq-StimOff_run-01_ieeg.vhdr...\n",
      "Setting channel info structure...\n",
      "Extracting parameters from /Users/alidzaye/rawdata/sub-003/ses-EphysMedOff01/ieeg/sub-003_ses-EphysMedOff01_task-Rest_acq-StimOff_run-01_ieeg.vhdr...\n",
      "Setting channel info structure...\n",
      "Extracting parameters from /Users/alidzaye/rawdata/sub-003/ses-EphysMedOff01/ieeg/sub-003_ses-EphysMedOff01_task-Rest_acq-StimOff_run-02_ieeg.vhdr...\n",
      "Setting channel info structure...\n",
      "Extracting parameters from /Users/alidzaye/rawdata/sub-003/ses-EphysMedOff01/ieeg/sub-003_ses-EphysMedOff01_task-Rest_acq-StimOff_run-02_ieeg.vhdr...\n",
      "Setting channel info structure...\n",
      "Extracting parameters from /Users/alidzaye/rawdata/sub-003/ses-EphysMedOff01/ieeg/sub-003_ses-EphysMedOff01_task-Rest_acq-StimOff_run-03_ieeg.vhdr...\n",
      "Setting channel info structure...\n",
      "Extracting parameters from /Users/alidzaye/rawdata/sub-003/ses-EphysMedOff01/ieeg/sub-003_ses-EphysMedOff01_task-Rest_acq-StimOff_run-03_ieeg.vhdr...\n",
      "Setting channel info structure...\n",
      "Extracting parameters from /Users/alidzaye/rawdata/sub-003/ses-EphysMedOn01/ieeg/sub-003_ses-EphysMedOn01_task-Rest_acq-StimOff_run-01_ieeg.vhdr...\n",
      "Setting channel info structure...\n",
      "Extracting parameters from /Users/alidzaye/rawdata/sub-003/ses-EphysMedOn01/ieeg/sub-003_ses-EphysMedOn01_task-Rest_acq-StimOff_run-01_ieeg.vhdr...\n",
      "Setting channel info structure...\n",
      "Extracting parameters from /Users/alidzaye/rawdata/sub-003/ses-EphysMedOn03/ieeg/sub-003_ses-EphysMedOn03_task-Rest_acq-StimOff_run-01_ieeg.vhdr...\n",
      "Setting channel info structure...\n",
      "Extracting parameters from /Users/alidzaye/rawdata/sub-003/ses-EphysMedOn03/ieeg/sub-003_ses-EphysMedOn03_task-Rest_acq-StimOff_run-01_ieeg.vhdr...\n",
      "Setting channel info structure...\n",
      "Extracting parameters from /Users/alidzaye/rawdata/sub-004/ses-EphysMedOff01/ieeg/sub-004_ses-EphysMedOff01_task-Rest_acq-StimOff_run-01_ieeg.vhdr...\n",
      "Setting channel info structure...\n",
      "Extracting parameters from /Users/alidzaye/rawdata/sub-004/ses-EphysMedOff01/ieeg/sub-004_ses-EphysMedOff01_task-Rest_acq-StimOff_run-01_ieeg.vhdr...\n",
      "Setting channel info structure...\n",
      "Extracting parameters from /Users/alidzaye/rawdata/sub-004/ses-EphysMedOff01/ieeg/sub-004_ses-EphysMedOff01_task-Rest_acq-StimOff_run-02_ieeg.vhdr...\n",
      "Setting channel info structure...\n",
      "Extracting parameters from /Users/alidzaye/rawdata/sub-004/ses-EphysMedOff01/ieeg/sub-004_ses-EphysMedOff01_task-Rest_acq-StimOff_run-02_ieeg.vhdr...\n",
      "Setting channel info structure...\n",
      "Extracting parameters from /Users/alidzaye/rawdata/sub-004/ses-EphysMedOn01/ieeg/sub-004_ses-EphysMedOn01_task-Rest_acq-StimOff_run-01_ieeg.vhdr...\n",
      "Setting channel info structure...\n",
      "Extracting parameters from /Users/alidzaye/rawdata/sub-004/ses-EphysMedOn01/ieeg/sub-004_ses-EphysMedOn01_task-Rest_acq-StimOff_run-01_ieeg.vhdr...\n",
      "Setting channel info structure...\n",
      "Extracting parameters from /Users/alidzaye/rawdata/sub-004/ses-EphysMedOn01/ieeg/sub-004_ses-EphysMedOn01_task-Rest_acq-StimOff_run-02_ieeg.vhdr...\n",
      "Setting channel info structure...\n",
      "Extracting parameters from /Users/alidzaye/rawdata/sub-004/ses-EphysMedOn01/ieeg/sub-004_ses-EphysMedOn01_task-Rest_acq-StimOff_run-02_ieeg.vhdr...\n",
      "Setting channel info structure...\n",
      "Extracting parameters from /Users/alidzaye/rawdata/sub-004/ses-EphysMedOn01/ieeg/sub-004_ses-EphysMedOn01_task-Rest_acq-StimOff_run-03_ieeg.vhdr...\n",
      "Setting channel info structure...\n",
      "Extracting parameters from /Users/alidzaye/rawdata/sub-004/ses-EphysMedOn01/ieeg/sub-004_ses-EphysMedOn01_task-Rest_acq-StimOff_run-03_ieeg.vhdr...\n",
      "Setting channel info structure...\n",
      "Extracting parameters from /Users/alidzaye/rawdata/sub-004/ses-EphysMedOn01/ieeg/sub-004_ses-EphysMedOn01_task-Rest_acq-StimOff_run-04_ieeg.vhdr...\n",
      "Setting channel info structure...\n",
      "Extracting parameters from /Users/alidzaye/rawdata/sub-004/ses-EphysMedOn01/ieeg/sub-004_ses-EphysMedOn01_task-Rest_acq-StimOff_run-04_ieeg.vhdr...\n",
      "Setting channel info structure...\n",
      "Extracting parameters from /Users/alidzaye/rawdata/sub-004/ses-EphysMedOn02/ieeg/sub-004_ses-EphysMedOn02_task-Rest_acq-StimOff_run-01_ieeg.vhdr...\n",
      "Setting channel info structure...\n",
      "Extracting parameters from /Users/alidzaye/rawdata/sub-004/ses-EphysMedOn02/ieeg/sub-004_ses-EphysMedOn02_task-Rest_acq-StimOff_run-01_ieeg.vhdr...\n",
      "Setting channel info structure...\n",
      "Extracting parameters from /Users/alidzaye/rawdata/sub-005/ses-EphysMedOff01/ieeg/sub-005_ses-EphysMedOff01_task-Rest_acq-StimOff_run-01_ieeg.vhdr...\n",
      "Setting channel info structure...\n",
      "Extracting parameters from /Users/alidzaye/rawdata/sub-005/ses-EphysMedOff01/ieeg/sub-005_ses-EphysMedOff01_task-Rest_acq-StimOff_run-01_ieeg.vhdr...\n",
      "Setting channel info structure...\n",
      "Extracting parameters from /Users/alidzaye/rawdata/sub-005/ses-EphysMedOff01/ieeg/sub-005_ses-EphysMedOff01_task-Rest_acq-StimOff_run-02_ieeg.vhdr...\n",
      "Setting channel info structure...\n",
      "Extracting parameters from /Users/alidzaye/rawdata/sub-005/ses-EphysMedOff01/ieeg/sub-005_ses-EphysMedOff01_task-Rest_acq-StimOff_run-02_ieeg.vhdr...\n",
      "Setting channel info structure...\n",
      "Extracting parameters from /Users/alidzaye/rawdata/sub-005/ses-EphysMedOff02/ieeg/sub-005_ses-EphysMedOff02_task-Rest_acq-StimOff_run-01_ieeg.vhdr...\n",
      "Setting channel info structure...\n",
      "Extracting parameters from /Users/alidzaye/rawdata/sub-005/ses-EphysMedOff02/ieeg/sub-005_ses-EphysMedOff02_task-Rest_acq-StimOff_run-01_ieeg.vhdr...\n",
      "Setting channel info structure...\n",
      "Extracting parameters from /Users/alidzaye/rawdata/sub-005/ses-EphysMedOn01/ieeg/sub-005_ses-EphysMedOn01_task-Rest_acq-StimOff_run-01_ieeg.vhdr...\n",
      "Setting channel info structure...\n",
      "Extracting parameters from /Users/alidzaye/rawdata/sub-005/ses-EphysMedOn01/ieeg/sub-005_ses-EphysMedOn01_task-Rest_acq-StimOff_run-01_ieeg.vhdr...\n",
      "Setting channel info structure...\n",
      "Extracting parameters from /Users/alidzaye/rawdata/sub-005/ses-EphysMedOn02/ieeg/sub-005_ses-EphysMedOn02_task-Rest_acq-StimOff_run-01_ieeg.vhdr...\n",
      "Setting channel info structure...\n",
      "Extracting parameters from /Users/alidzaye/rawdata/sub-005/ses-EphysMedOn02/ieeg/sub-005_ses-EphysMedOn02_task-Rest_acq-StimOff_run-01_ieeg.vhdr...\n",
      "Setting channel info structure...\n",
      "Extracting parameters from /Users/alidzaye/rawdata/sub-006/ses-EphysMedOff01/ieeg/sub-006_ses-EphysMedOff01_task-Rest_acq-StimOff_run-01_ieeg.vhdr...\n",
      "Setting channel info structure...\n",
      "Extracting parameters from /Users/alidzaye/rawdata/sub-006/ses-EphysMedOff01/ieeg/sub-006_ses-EphysMedOff01_task-Rest_acq-StimOff_run-01_ieeg.vhdr...\n",
      "Setting channel info structure...\n",
      "Extracting parameters from /Users/alidzaye/rawdata/sub-006/ses-EphysMedOff02/ieeg/sub-006_ses-EphysMedOff02_task-Rest_acq-StimOff_run-01_ieeg.vhdr...\n",
      "Setting channel info structure...\n",
      "Extracting parameters from /Users/alidzaye/rawdata/sub-006/ses-EphysMedOff02/ieeg/sub-006_ses-EphysMedOff02_task-Rest_acq-StimOff_run-01_ieeg.vhdr...\n",
      "Setting channel info structure...\n",
      "Extracting parameters from /Users/alidzaye/rawdata/sub-006/ses-EphysMedOn01/ieeg/sub-006_ses-EphysMedOn01_task-Rest_acq-StimOff_run-01_ieeg.vhdr...\n",
      "Setting channel info structure...\n",
      "Extracting parameters from /Users/alidzaye/rawdata/sub-006/ses-EphysMedOn01/ieeg/sub-006_ses-EphysMedOn01_task-Rest_acq-StimOff_run-01_ieeg.vhdr...\n",
      "Setting channel info structure...\n",
      "Extracting parameters from /Users/alidzaye/rawdata/sub-006/ses-EphysMedOn02/ieeg/sub-006_ses-EphysMedOn02_task-Rest_acq-StimOff_run-01_ieeg.vhdr...\n",
      "Setting channel info structure...\n",
      "Extracting parameters from /Users/alidzaye/rawdata/sub-006/ses-EphysMedOn02/ieeg/sub-006_ses-EphysMedOn02_task-Rest_acq-StimOff_run-01_ieeg.vhdr...\n",
      "Setting channel info structure...\n",
      "Extracting parameters from /Users/alidzaye/rawdata/sub-007/ses-EphysMedOff01/ieeg/sub-007_ses-EphysMedOff01_task-Rest_acq-StimOff_run-01_ieeg.vhdr...\n",
      "Setting channel info structure...\n",
      "Extracting parameters from /Users/alidzaye/rawdata/sub-007/ses-EphysMedOff01/ieeg/sub-007_ses-EphysMedOff01_task-Rest_acq-StimOff_run-01_ieeg.vhdr...\n",
      "Setting channel info structure...\n",
      "Extracting parameters from /Users/alidzaye/rawdata/sub-007/ses-EphysMedOn01/ieeg/sub-007_ses-EphysMedOn01_task-Rest_acq-StimOff_run-01_ieeg.vhdr...\n",
      "Setting channel info structure...\n",
      "Extracting parameters from /Users/alidzaye/rawdata/sub-007/ses-EphysMedOn01/ieeg/sub-007_ses-EphysMedOn01_task-Rest_acq-StimOff_run-01_ieeg.vhdr...\n",
      "Setting channel info structure...\n",
      "Extracting parameters from /Users/alidzaye/rawdata/sub-007/ses-EphysMedOn01/ieeg/sub-007_ses-EphysMedOn01_task-Rest_acq-StimOff_run-02_ieeg.vhdr...\n",
      "Setting channel info structure...\n",
      "Extracting parameters from /Users/alidzaye/rawdata/sub-007/ses-EphysMedOn01/ieeg/sub-007_ses-EphysMedOn01_task-Rest_acq-StimOff_run-02_ieeg.vhdr...\n",
      "Setting channel info structure...\n",
      "Extracting parameters from /Users/alidzaye/rawdata/sub-007/ses-EphysMedOn01/ieeg/sub-007_ses-EphysMedOn01_task-Rest_acq-StimOff_run-03_ieeg.vhdr...\n",
      "Setting channel info structure...\n",
      "Extracting parameters from /Users/alidzaye/rawdata/sub-007/ses-EphysMedOn01/ieeg/sub-007_ses-EphysMedOn01_task-Rest_acq-StimOff_run-03_ieeg.vhdr...\n",
      "Setting channel info structure...\n",
      "Extracting parameters from /Users/alidzaye/rawdata/sub-007/ses-EphysMedOn02/ieeg/sub-007_ses-EphysMedOn02_task-Rest_acq-StimOff_run-01_ieeg.vhdr...\n",
      "Setting channel info structure...\n",
      "Extracting parameters from /Users/alidzaye/rawdata/sub-007/ses-EphysMedOn02/ieeg/sub-007_ses-EphysMedOn02_task-Rest_acq-StimOff_run-01_ieeg.vhdr...\n",
      "Setting channel info structure...\n",
      "Extracting parameters from /Users/alidzaye/rawdata/sub-008/ses-EphysMedOff01/ieeg/sub-008_ses-EphysMedOff01_task-Rest_acq-StimOff_run-01_ieeg.vhdr...\n",
      "Setting channel info structure...\n",
      "Extracting parameters from /Users/alidzaye/rawdata/sub-008/ses-EphysMedOff01/ieeg/sub-008_ses-EphysMedOff01_task-Rest_acq-StimOff_run-01_ieeg.vhdr...\n",
      "Setting channel info structure...\n",
      "Extracting parameters from /Users/alidzaye/rawdata/sub-008/ses-EphysMedOn01/ieeg/sub-008_ses-EphysMedOn01_task-Rest_acq-StimOff_run-01_ieeg.vhdr...\n",
      "Setting channel info structure...\n",
      "Extracting parameters from /Users/alidzaye/rawdata/sub-008/ses-EphysMedOn01/ieeg/sub-008_ses-EphysMedOn01_task-Rest_acq-StimOff_run-01_ieeg.vhdr...\n",
      "Setting channel info structure...\n",
      "Extracting parameters from /Users/alidzaye/rawdata/sub-008/ses-EphysMedOn01/ieeg/sub-008_ses-EphysMedOn01_task-Rest_acq-StimOff_run-02_ieeg.vhdr...\n",
      "Setting channel info structure...\n",
      "Extracting parameters from /Users/alidzaye/rawdata/sub-008/ses-EphysMedOn01/ieeg/sub-008_ses-EphysMedOn01_task-Rest_acq-StimOff_run-02_ieeg.vhdr...\n",
      "Setting channel info structure...\n"
     ]
    }
   ],
   "source": [
    "raws=read_files(files)"
   ]
  },
  {
   "cell_type": "code",
   "execution_count": 74,
   "id": "2fb86eab-c33f-488f-9872-c32426cddbde",
   "metadata": {},
   "outputs": [
    {
     "data": {
      "text/html": [
       "\n",
       "\n",
       "<table class=\"table table-hover\">\n",
       "    <tr>\n",
       "        <th>Measurement date</th>\n",
       "<td>Unknown</td>\n",
       "    </tr>\n",
       "    <tr>\n",
       "        <th>Experimenter</th>\n",
       "<td>Unknown</td>\n",
       "    </tr>\n",
       "        <th>Participant</th>\n",
       "<td>Unknown</td>\n",
       "    </tr>\n",
       "    <tr>\n",
       "        <th>Digitized points</th>\n",
       "        <td>Not available</td>\n",
       "    </tr>\n",
       "    <tr>\n",
       "        <th>Good channels</th>\n",
       "        <td>0 magnetometer, 0 gradiometer,\n",
       "            and 13 EEG channels</td>\n",
       "    </tr>\n",
       "    <tr>\n",
       "        <th>Bad channels</th>\n",
       "        <td></td>\n",
       "        \n",
       "    </tr>\n",
       "    <tr>\n",
       "        <th>EOG channels</th>\n",
       "        <td>Not available</td>\n",
       "    </tr>\n",
       "    <tr>\n",
       "        <th>ECG channels</th>\n",
       "        <td>Not available</td>\n",
       "    <tr>\n",
       "        <th>Sampling frequency</th>\n",
       "        <td>5000.00 Hz</td>\n",
       "    </tr>\n",
       "    <tr>\n",
       "        <th>Highpass</th>\n",
       "        <td>0.00 Hz</td>\n",
       "    </tr>\n",
       "     <tr>\n",
       "        <th>Lowpass</th>\n",
       "        <td>2500.00 Hz</td>\n",
       "    </tr>\n",
       "\n",
       "    <tr>\n",
       "        <th>Filenames</th>\n",
       "        <td>sub-001_ses-EphysMedOn02_task-Rest_acq-StimOff_run-01_ieeg.eeg</td>\n",
       "    </tr>\n",
       "    <tr>\n",
       "        <th>Duration</th>\n",
       "        <td>00:03:01 (HH:MM:SS)</td>\n",
       "    </tr>\n",
       "</table>\n"
      ],
      "text/plain": [
       "<RawBrainVision | sub-001_ses-EphysMedOn02_task-Rest_acq-StimOff_run-01_ieeg.eeg, 13 x 907572 (181.5 s), ~18 kB, data not loaded>"
      ]
     },
     "execution_count": 74,
     "metadata": {},
     "output_type": "execute_result"
    }
   ],
   "source": [
    "raws[3]"
   ]
  },
  {
   "cell_type": "code",
   "execution_count": 76,
   "id": "863de031-7f05-46e5-ab78-e5ee5aeed446",
   "metadata": {},
   "outputs": [],
   "source": [
    "files_arr = np.array(files)"
   ]
  },
  {
   "cell_type": "code",
   "execution_count": 96,
   "id": "08958d0e-9026-4829-a0be-8b4dc36bb2d9",
   "metadata": {},
   "outputs": [
    {
     "data": {
      "text/plain": [
       "'/Users/alidzaye/rawdata/sub-002/ses-EphysMedOff01/ieeg/sub-002_ses-EphysMedOff01_task-Rest_acq-StimOff_run-01_ieeg.vhdr'"
      ]
     },
     "execution_count": 96,
     "metadata": {},
     "output_type": "execute_result"
    }
   ],
   "source": [
    "files[4]"
   ]
  },
  {
   "cell_type": "code",
   "execution_count": 27,
   "id": "7df1385f-9596-4f6c-a840-ea1c052008a7",
   "metadata": {},
   "outputs": [],
   "source": [
    "#read the files with mne Bids\n",
    "def read_BIDS_data(PATH_RUN, BIDS_PATH):\n",
    "    \"\"\"Given a run path and bids data path, read the respective data\n",
    "    Parameters\n",
    "    ----------\n",
    "    PATH_RUN : string\n",
    "    BIDS_PATH : string\n",
    "    Returns\n",
    "    -------\n",
    "    raw_arr : mne.io.RawArray\n",
    "    raw_arr_data : np.ndarray\n",
    "    fs : int\n",
    "    line_noise : int\n",
    "    \"\"\"\n",
    "    entities = mne_bids.get_entities_from_fname(PATH_RUN)\n",
    "\n",
    "    bids_path = mne_bids.BIDSPath(\n",
    "            subject=entities[\"subject\"],\n",
    "            session=entities[\"session\"],\n",
    "            task=entities[\"task\"],\n",
    "            run=entities[\"run\"],\n",
    "            acquisition=entities[\"acquisition\"],\n",
    "            datatype=\"ieeg\",\n",
    "            root=BIDS_PATH,\n",
    "                            )\n",
    "\n",
    "    raw_arr = mne_bids.read_raw_bids(bids_path)\n",
    "    return (\n",
    "        raw_arr,\n",
    "        raw_arr.get_data(),\n",
    "        int(np.ceil(raw_arr.info[\"sfreq\"])),\n",
    "        int(raw_arr.info[\"line_freq\"]),),"
   ]
  },
  {
   "cell_type": "code",
   "execution_count": 28,
   "id": "661d34be",
   "metadata": {},
   "outputs": [],
   "source": [
    "PATH_BIDS = r'/Users/alidzaye/rawdata'\n",
    "PATH_RUN = r'/Users/alidzaye/rawdata/sub-003/ses-EphysMedOff01/ieeg/sub-003_ses-EphysMedOff01_task-Rest_acq-StimOff_run-01_ieeg.vhdr'"
   ]
  },
  {
   "cell_type": "code",
   "execution_count": 29,
   "id": "82bc835e-d092-4137-ad25-17a43a056113",
   "metadata": {
    "tags": []
   },
   "outputs": [
    {
     "name": "stdout",
     "output_type": "stream",
     "text": [
      "Extracting parameters from /Users/alidzaye/rawdata/sub-003/ses-EphysMedOff01/ieeg/sub-003_ses-EphysMedOff01_task-Rest_acq-StimOff_run-01_ieeg.vhdr...\n",
      "Setting channel info structure...\n",
      "Reading channel info from /Users/alidzaye/rawdata/sub-003/ses-EphysMedOff01/ieeg/sub-003_ses-EphysMedOff01_task-Rest_acq-StimOff_run-01_channels.tsv.\n",
      "Reading in coordinate system frame Other: None.\n",
      "Reading electrode coords from /Users/alidzaye/rawdata/sub-003/ses-EphysMedOff01/ieeg/sub-003_ses-EphysMedOff01_space-MNI152NLin2009bAsym_electrodes.tsv.\n",
      "The read in electrodes file is: \n",
      " [('name', ['ECOG_L_1_SMC_AT', 'ECOG_L_2_SMC_AT', 'ECOG_L_3_SMC_AT', 'ECOG_L_4_SMC_AT', 'ECOG_L_5_SMC_AT', 'ECOG_L_6_SMC_AT', 'LFP_R_1_STN_MT', 'LFP_R_2_STN_MT', 'LFP_R_3_STN_MT', 'LFP_R_4_STN_MT', 'LFP_L_1_STN_MT', 'LFP_L_2_STN_MT', 'LFP_L_3_STN_MT', 'LFP_L_4_STN_MT']), ('x', ['-23.5', '-25.5', '-27.5', '-28.0', '-28.0', '-28.0', '12.3329', '13.2073', '14.0552', '14.8684', '-10.4793', '-11.157', '-11.798', '-12.4066']), ('y', ['-53.0', '-42.5', '-32.0', '-22.0', '-10.5', '0.5', '-14.1452', '-13.2389', '-12.3317', '-11.4021', '-15.6278', '-14.5562', '-13.483', '-12.3907']), ('z', ['72.5', '72.5', '72.0', '71.0', '68.0', '63.5', '-9.19623', '-7.32322', '-5.43968', '-3.54888', '-8.22072', '-6.39784', '-4.56256', '-2.70754']), ('size', ['12.57', '12.57', '12.57', '12.57', '12.57', '12.57', '6.0', '6.0', '6.0', '6.0', '6.0', '6.0', '6.0', '6.0'])]\n"
     ]
    },
    {
     "name": "stderr",
     "output_type": "stream",
     "text": [
      "<ipython-input-27-cf59c558113f>:27: RuntimeWarning: Did not find any events.tsv associated with sub-003_ses-EphysMedOff01_task-Rest_acq-StimOff_run-01.\n",
      "\n",
      "The search_str was \"/Users/alidzaye/rawdata/sub-003/**/sub-003_ses-EphysMedOff01*events.tsv\"\n",
      "  raw_arr = mne_bids.read_raw_bids(bids_path)\n",
      "<ipython-input-27-cf59c558113f>:27: RuntimeWarning: Defaulting coordinate frame to unknown from coordinate system input Other\n",
      "  raw_arr = mne_bids.read_raw_bids(bids_path)\n",
      "<ipython-input-27-cf59c558113f>:27: RuntimeWarning: Fiducial point nasion not found, assuming identity unknown to head transformation\n",
      "  raw_arr = mne_bids.read_raw_bids(bids_path)\n",
      "<ipython-input-27-cf59c558113f>:27: RuntimeWarning: DigMontage is only a subset of info. There are 2 channel positions not present in the DigMontage. The required channels are:\n",
      "\n",
      "['EEG_Cz_TM', 'EEG_Fz_TM'].\n",
      "\n",
      "Consider using inst.set_channel_types if these are not EEG channels, or use the on_missing parameter if the channel positions are allowed to be unknown in your analyses.\n",
      "  raw_arr = mne_bids.read_raw_bids(bids_path)\n"
     ]
    },
    {
     "ename": "ValueError",
     "evalue": "not enough values to unpack (expected 4, got 1)",
     "output_type": "error",
     "traceback": [
      "\u001b[0;31m---------------------------------------------------------------------------\u001b[0m",
      "\u001b[0;31mValueError\u001b[0m                                Traceback (most recent call last)",
      "\u001b[0;32m<ipython-input-29-f61af10dfceb>\u001b[0m in \u001b[0;36m<module>\u001b[0;34m\u001b[0m\n\u001b[0;32m----> 1\u001b[0;31m \u001b[0mraw\u001b[0m\u001b[0;34m,\u001b[0m \u001b[0mdat\u001b[0m\u001b[0;34m,\u001b[0m \u001b[0msfreq\u001b[0m\u001b[0;34m,\u001b[0m \u001b[0mline_freq\u001b[0m \u001b[0;34m=\u001b[0m \u001b[0mread_BIDS_data\u001b[0m\u001b[0;34m(\u001b[0m\u001b[0mPATH_RUN\u001b[0m\u001b[0;34m,\u001b[0m \u001b[0mPATH_BIDS\u001b[0m\u001b[0;34m)\u001b[0m\u001b[0;34m\u001b[0m\u001b[0;34m\u001b[0m\u001b[0m\n\u001b[0m",
      "\u001b[0;31mValueError\u001b[0m: not enough values to unpack (expected 4, got 1)"
     ]
    }
   ],
   "source": [
    "raw, dat, sfreq, line_freq = read_BIDS_data(PATH_RUN, PATH_BIDS)"
   ]
  },
  {
   "cell_type": "code",
   "execution_count": 128,
   "id": "59531570-091e-42d4-9e00-89581c274b9d",
   "metadata": {},
   "outputs": [
    {
     "data": {
      "text/plain": [
       "[]"
      ]
     },
     "execution_count": 128,
     "metadata": {},
     "output_type": "execute_result"
    }
   ],
   "source": [
    "read_Bids_files."
   ]
  },
  {
   "cell_type": "code",
   "execution_count": 103,
   "id": "f26f98eb-9295-4bf4-97f3-56053446653a",
   "metadata": {},
   "outputs": [
    {
     "data": {
      "text/plain": [
       "['eeg',\n",
       " 'eeg',\n",
       " 'eeg',\n",
       " 'eeg',\n",
       " 'eeg',\n",
       " 'eeg',\n",
       " 'eeg',\n",
       " 'eeg',\n",
       " 'eeg',\n",
       " 'eeg',\n",
       " 'eeg',\n",
       " 'eeg',\n",
       " 'eeg',\n",
       " 'eeg',\n",
       " 'eeg',\n",
       " 'eeg',\n",
       " 'eeg',\n",
       " 'eeg',\n",
       " 'eeg',\n",
       " 'eeg',\n",
       " 'eeg',\n",
       " 'eeg',\n",
       " 'eeg',\n",
       " 'eeg',\n",
       " 'eeg',\n",
       " 'eeg',\n",
       " 'eeg',\n",
       " 'eeg',\n",
       " 'eeg',\n",
       " 'eeg',\n",
       " 'eeg',\n",
       " 'eeg',\n",
       " 'ecog',\n",
       " 'ecog',\n",
       " 'ecog',\n",
       " 'ecog',\n",
       " 'ecog',\n",
       " 'ecog',\n",
       " 'eeg',\n",
       " 'eeg',\n",
       " 'emg',\n",
       " 'emg',\n",
       " 'ecg',\n",
       " 'misc',\n",
       " 'misc',\n",
       " 'misc',\n",
       " 'misc',\n",
       " 'misc',\n",
       " 'misc']"
      ]
     },
     "execution_count": 103,
     "metadata": {},
     "output_type": "execute_result"
    }
   ],
   "source": [
    "raw.get_channel_types()"
   ]
  },
  {
   "cell_type": "code",
   "execution_count": 7,
   "id": "ba78ae0c-f2f1-4867-948e-96e0daf78d25",
   "metadata": {},
   "outputs": [
    {
     "data": {
      "text/plain": [
       "['ecog', 'ecog', 'ecog', 'ecog', 'ecog', 'ecog']"
      ]
     },
     "execution_count": 7,
     "metadata": {},
     "output_type": "execute_result"
    }
   ],
   "source": [
    "raw.pick_types(ecog=True).get_channel_types()"
   ]
  },
  {
   "cell_type": "code",
   "execution_count": 8,
   "id": "7bf8484c-77eb-48d4-8a07-efce8986e51a",
   "metadata": {},
   "outputs": [
    {
     "data": {
      "text/plain": [
       "['ECOG_L_1_SMC_AT',\n",
       " 'ECOG_L_2_SMC_AT',\n",
       " 'ECOG_L_3_SMC_AT',\n",
       " 'ECOG_L_4_SMC_AT',\n",
       " 'ECOG_L_5_SMC_AT',\n",
       " 'ECOG_L_6_SMC_AT']"
      ]
     },
     "execution_count": 8,
     "metadata": {},
     "output_type": "execute_result"
    }
   ],
   "source": [
    "raw.pick_types(ecog=True).ch_names"
   ]
  },
  {
   "cell_type": "code",
   "execution_count": null,
   "id": "f5860c48-ebfc-43a1-ab16-3b681b1881b1",
   "metadata": {},
   "outputs": [],
   "source": []
  }
 ],
 "metadata": {
  "interpreter": {
   "hash": "efb6a49f5c70cc76db4cae760cee230dc3c4429b97b6a4c7e72745cec51302b6"
  },
  "kernelspec": {
   "display_name": "Python 3",
   "language": "python",
   "name": "python3"
  },
  "language_info": {
   "codemirror_mode": {
    "name": "ipython",
    "version": 3
   },
   "file_extension": ".py",
   "mimetype": "text/x-python",
   "name": "python",
   "nbconvert_exporter": "python",
   "pygments_lexer": "ipython3",
   "version": "3.9.4"
  }
 },
 "nbformat": 4,
 "nbformat_minor": 5
}
