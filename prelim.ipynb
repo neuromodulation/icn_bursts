{
 "cells": [
  {
   "cell_type": "code",
   "execution_count": 69,
   "id": "d4d539bf-5609-41b4-a26d-cb8b04355f19",
   "metadata": {},
   "outputs": [],
   "source": [
    "#import libraries and modules\n",
    "import mne\n",
    "import numpy as np\n",
    "import scipy\n",
    "from scipy import stats\n",
    "import pandas as pd\n",
    "import matplotlib\n",
    "import matplotlib.pyplot as plt\n",
    "import seaborn as sns"
   ]
  },
  {
   "cell_type": "code",
   "execution_count": 70,
   "id": "98625ae6",
   "metadata": {},
   "outputs": [
    {
     "name": "stdout",
     "output_type": "stream",
     "text": [
      "Extracting parameters from /Users/alidzaye/Library/CloudStorage/OneDrive-SharedLibraries-Charité-UniversitätsmedizinBerlin/Interventional Cognitive Neuromodulation - Data/BIDS_Berlin_ECOG_LFP/rawdata/sub-003/ses-EcogLfpMedOff01/ieeg/sub-003_ses-EcogLfpMedOff01_task-Rest_acq-StimOff_run-1_ieeg.vhdr...\n",
      "Setting channel info structure...\n",
      "Extracting parameters from /Users/alidzaye/Library/CloudStorage/OneDrive-SharedLibraries-Charité-UniversitätsmedizinBerlin/Interventional Cognitive Neuromodulation - Data/BIDS_Berlin_ECOG_LFP/rawdata/sub-003/ses-EcogLfpMedOff01/ieeg/sub-003_ses-EcogLfpMedOff01_task-Rest_acq-StimOff_run-1_ieeg.vhdr...\n",
      "Setting channel info structure...\n"
     ]
    }
   ],
   "source": [
    "# import data\n",
    "# sub/med_state00/task/stim/run\n",
    "raw = mne.io.read_raw(r'/Users/alidzaye/Library/CloudStorage/OneDrive-SharedLibraries-Charité-UniversitätsmedizinBerlin/Interventional Cognitive Neuromodulation - Data/BIDS_Berlin_ECOG_LFP/rawdata/sub-003/ses-EcogLfpMedOff01/ieeg/sub-003_ses-EcogLfpMedOff01_task-Rest_acq-StimOff_run-1_ieeg.vhdr')\n",
    "raw_on = mne.io.read_raw(r'/Users/alidzaye/Library/CloudStorage/OneDrive-SharedLibraries-Charité-UniversitätsmedizinBerlin/Interventional Cognitive Neuromodulation - Data/BIDS_Berlin_ECOG_LFP/rawdata/sub-003/ses-EcogLfpMedOff01/ieeg/sub-003_ses-EcogLfpMedOff01_task-Rest_acq-StimOff_run-1_ieeg.vhdr')"
   ]
  },
  {
   "cell_type": "code",
   "execution_count": 71,
   "id": "b71c4ef9",
   "metadata": {},
   "outputs": [],
   "source": [
    "# pick ecog channels\n",
    "raw_ecog = raw.copy().pick_channels(raw.ch_names[10:16])\n",
    "raw_ecog_on = raw_on.copy().pick_channels(raw_on.ch_names[8:15])"
   ]
  },
  {
   "cell_type": "code",
   "execution_count": 72,
   "id": "c6961181",
   "metadata": {},
   "outputs": [
    {
     "name": "stdout",
     "output_type": "stream",
     "text": [
      "Reading 0 ... 2536497  =      0.000 ...   619.262 secs...\n",
      "EEG channel type selected for re-referencing\n",
      "Creating RawArray with float64 data, n_channels=5, n_times=2536498\n",
      "    Range : 0 ... 2536497 =      0.000 ...   619.262 secs\n",
      "Ready.\n",
      "Added the following bipolar channels:\n",
      "ECOG_L_1_SMC_BI, ECOG_L_2_SMC_BI, ECOG_L_3_SMC_BI, ECOG_L_4_SMC_BI, ECOG_L_5_SMC_BI\n"
     ]
    }
   ],
   "source": [
    "# use bipolar reference\n",
    "anode = raw_ecog.ch_names[0:5]\n",
    "cathode = raw_ecog.ch_names[1:6]\n",
    "new_ch_names = ['ECOG_L_1_SMC_BI',\n",
    "               'ECOG_L_2_SMC_BI',\n",
    "               'ECOG_L_3_SMC_BI',\n",
    "               'ECOG_L_4_SMC_BI',\n",
    "              'ECOG_L_5_SMC_BI']\n",
    "\n",
    "raw_ecog_bi = mne.set_bipolar_reference(raw_ecog.load_data(), anode=anode,\n",
    "                                        cathode=cathode, ch_name=new_ch_names )"
   ]
  },
  {
   "cell_type": "code",
   "execution_count": 73,
   "id": "e3067147",
   "metadata": {},
   "outputs": [
    {
     "name": "stdout",
     "output_type": "stream",
     "text": [
      "Reading 0 ... 2536497  =      0.000 ...   619.262 secs...\n",
      "EEG channel type selected for re-referencing\n",
      "Creating RawArray with float64 data, n_channels=5, n_times=2536498\n",
      "    Range : 0 ... 2536497 =      0.000 ...   619.262 secs\n",
      "Ready.\n",
      "Added the following bipolar channels:\n",
      "ECOG_L_1_SMC_BI, ECOG_L_2_SMC_BI, ECOG_L_3_SMC_BI, ECOG_L_4_SMC_BI, ECOG_L_5_SMC_BI\n"
     ]
    }
   ],
   "source": [
    "# use bipolar reference ON\n",
    "anode_on = raw_ecog_on.ch_names[0:5]\n",
    "cathode_on = raw_ecog_on.ch_names[1:6]\n",
    "new_ch_names = ['ECOG_L_1_SMC_BI',\n",
    "               'ECOG_L_2_SMC_BI',\n",
    "               'ECOG_L_3_SMC_BI',\n",
    "               'ECOG_L_4_SMC_BI',\n",
    "              'ECOG_L_5_SMC_BI']\n",
    "\n",
    "raw_ecog_bi_on = mne.set_bipolar_reference(raw_ecog_on.load_data(), anode=anode_on,\n",
    "                                        cathode=cathode_on, ch_name=new_ch_names )"
   ]
  },
  {
   "cell_type": "code",
   "execution_count": 74,
   "id": "1a0cb56f-c6ce-4080-975b-4e736db49e04",
   "metadata": {
    "tags": []
   },
   "outputs": [
    {
     "name": "stdout",
     "output_type": "stream",
     "text": [
      "Filtering raw data in 1 contiguous segment\n",
      "Setting up high-pass filter at 3 Hz\n",
      "\n",
      "FIR filter parameters\n",
      "---------------------\n",
      "Designing a one-pass, zero-phase, non-causal highpass filter:\n",
      "- Windowed time-domain design (firwin) method\n",
      "- Hamming window with 0.0194 passband ripple and 53 dB stopband attenuation\n",
      "- Lower passband edge: 3.00\n",
      "- Lower transition bandwidth: 2.00 Hz (-6 dB cutoff frequency: 2.00 Hz)\n",
      "- Filter length: 6759 samples (1.650 sec)\n",
      "\n",
      "Filtering raw data in 1 contiguous segment\n",
      "Setting up high-pass filter at 3 Hz\n",
      "\n",
      "FIR filter parameters\n",
      "---------------------\n",
      "Designing a one-pass, zero-phase, non-causal highpass filter:\n",
      "- Windowed time-domain design (firwin) method\n",
      "- Hamming window with 0.0194 passband ripple and 53 dB stopband attenuation\n",
      "- Lower passband edge: 3.00\n",
      "- Lower transition bandwidth: 2.00 Hz (-6 dB cutoff frequency: 2.00 Hz)\n",
      "- Filter length: 6759 samples (1.650 sec)\n",
      "\n"
     ]
    }
   ],
   "source": [
    "# high pass filtering above 3 Hz\n",
    "raw_ecog_bi_hi = raw_ecog_bi.copy().filter(3, None,)\n",
    "raw_ecog_bi_hi_on = raw_ecog_bi_on.copy().filter(3, None,)"
   ]
  },
  {
   "cell_type": "code",
   "execution_count": 75,
   "id": "ee434a99-c484-4f8a-b3a7-4641fcb0c584",
   "metadata": {
    "tags": []
   },
   "outputs": [
    {
     "name": "stdout",
     "output_type": "stream",
     "text": [
      "Filtering raw data in 1 contiguous segment\n",
      "Setting up low-pass filter at 2.5e+02 Hz\n",
      "\n",
      "FIR filter parameters\n",
      "---------------------\n",
      "Designing a one-pass, zero-phase, non-causal lowpass filter:\n",
      "- Windowed time-domain design (firwin) method\n",
      "- Hamming window with 0.0194 passband ripple and 53 dB stopband attenuation\n",
      "- Upper passband edge: 250.00 Hz\n",
      "- Upper transition bandwidth: 62.50 Hz (-6 dB cutoff frequency: 281.25 Hz)\n",
      "- Filter length: 217 samples (0.053 sec)\n",
      "\n",
      "Filtering raw data in 1 contiguous segment\n",
      "Setting up low-pass filter at 2.5e+02 Hz\n",
      "\n",
      "FIR filter parameters\n",
      "---------------------\n",
      "Designing a one-pass, zero-phase, non-causal lowpass filter:\n",
      "- Windowed time-domain design (firwin) method\n",
      "- Hamming window with 0.0194 passband ripple and 53 dB stopband attenuation\n",
      "- Upper passband edge: 250.00 Hz\n",
      "- Upper transition bandwidth: 62.50 Hz (-6 dB cutoff frequency: 281.25 Hz)\n",
      "- Filter length: 217 samples (0.053 sec)\n",
      "\n"
     ]
    }
   ],
   "source": [
    "# low pass filtering below 250 Hz\n",
    "raw_ecog_bi_hi_lo = raw_ecog_bi_hi.copy().filter(None, 250)\n",
    "raw_ecog_bi_hi_lo_on = raw_ecog_bi_hi_on.copy().filter(None, 250)"
   ]
  },
  {
   "cell_type": "code",
   "execution_count": 76,
   "id": "c852ef03-bfba-4f63-858b-4b5ac57726d8",
   "metadata": {
    "tags": []
   },
   "outputs": [
    {
     "name": "stdout",
     "output_type": "stream",
     "text": [
      "Setting up band-stop filter\n",
      "\n",
      "FIR filter parameters\n",
      "---------------------\n",
      "Designing a one-pass, zero-phase, non-causal bandstop filter:\n",
      "- Windowed time-domain design (firwin) method\n",
      "- Hamming window with 0.0194 passband ripple and 53 dB stopband attenuation\n",
      "- Lower transition bandwidth: 0.50 Hz\n",
      "- Upper transition bandwidth: 0.50 Hz\n",
      "- Filter length: 27035 samples (6.600 sec)\n",
      "\n",
      "Setting up band-stop filter\n",
      "\n",
      "FIR filter parameters\n",
      "---------------------\n",
      "Designing a one-pass, zero-phase, non-causal bandstop filter:\n",
      "- Windowed time-domain design (firwin) method\n",
      "- Hamming window with 0.0194 passband ripple and 53 dB stopband attenuation\n",
      "- Lower transition bandwidth: 0.50 Hz\n",
      "- Upper transition bandwidth: 0.50 Hz\n",
      "- Filter length: 27035 samples (6.600 sec)\n",
      "\n"
     ]
    }
   ],
   "source": [
    "# bandstop/notch filter 50 Hz\n",
    "raw_ecog_bi_hi_lo_nf = raw_ecog_bi_hi_lo.copy().notch_filter(np.arange(50,251,50), filter_length=\"auto\", phase='zero')\n",
    "raw_ecog_bi_hi_lo_nf_on = raw_ecog_bi_hi_lo_on.copy().notch_filter(np.arange(50,251,50), filter_length=\"auto\", phase='zero')"
   ]
  },
  {
   "cell_type": "code",
   "execution_count": 77,
   "id": "135e0d5b-b8f7-4aca-9796-20681a90e785",
   "metadata": {
    "tags": []
   },
   "outputs": [],
   "source": [
    "#Cropping the last bit of data to ignore artefacts at the end\n",
    "raw_ecog_cropped_bi = raw_ecog_bi_hi_lo_nf.copy().crop(tmax=618)\n",
    "raw_ecog_cropped_bi_on = raw_ecog_bi_hi_lo_nf_on.copy().crop(tmax=420)"
   ]
  },
  {
   "cell_type": "code",
   "execution_count": 78,
   "id": "0441471c-5c2d-43aa-8357-5e4407ecefbe",
   "metadata": {},
   "outputs": [],
   "source": [
    "#Downsample Data to 250Hz for faster processing\n",
    "raw_ecog_cropped_dow_bi = raw_ecog_cropped_bi.copy().resample(250)\n",
    "raw_ecog_cropped_dow_bi_on = raw_ecog_cropped_bi_on.copy().resample(250)"
   ]
  },
  {
   "cell_type": "code",
   "execution_count": 79,
   "id": "bb14ec5d-a529-45f8-b38a-1f198a93dcdf",
   "metadata": {},
   "outputs": [],
   "source": [
    "# get the signal and time array of the data with numpy\n",
    "signals_array_bi, time_array_bi = raw_ecog_cropped_dow_bi[:, :]\n",
    "signals_array_on, time_array_on = raw_ecog_cropped_dow_bi_on[:, :]"
   ]
  },
  {
   "cell_type": "code",
   "execution_count": 80,
   "id": "2835757b-1bec-49d7-a399-9dccfab8e414",
   "metadata": {
    "tags": []
   },
   "outputs": [],
   "source": [
    "# get the data with the function\n",
    "signal_bi = raw_ecog_cropped_dow_bi.copy().get_data()\n",
    "signal_bi_on = raw_ecog_cropped_dow_bi_on.copy().get_data()"
   ]
  },
  {
   "cell_type": "code",
   "execution_count": 81,
   "id": "d8f74ab2-38f3-4e48-8663-9f6d17b51399",
   "metadata": {},
   "outputs": [],
   "source": [
    "#z-score the data\n",
    "stand_raw_ecog_cropped_bi = stats.zscore(signal_bi, axis=1)\n",
    "stand_raw_ecog_cropped_bi_on = stats.zscore(signal_bi_on, axis=1)"
   ]
  },
  {
   "cell_type": "code",
   "execution_count": 82,
   "id": "e5e6c4f3-9b60-4c9c-870a-8c6c974b88a9",
   "metadata": {},
   "outputs": [],
   "source": [
    "#Time Frequency estimation \n",
    "freqs = np.arange(1,100)\n",
    "power = mne.decoding.TimeFrequency(freqs, sfreq=250, method='morlet', n_cycles=10, output='power', )\n",
    "run_TF_bi = power.transform(stand_raw_ecog_cropped_bi)"
   ]
  },
  {
   "cell_type": "code",
   "execution_count": 83,
   "id": "aa44e4dc",
   "metadata": {},
   "outputs": [],
   "source": [
    "#Time Frequency estimation ON\n",
    "freqs_on = np.arange(1,100)\n",
    "power_bi_on = mne.decoding.TimeFrequency(freqs, sfreq=250, method='morlet', n_cycles=10, output='power', )\n",
    "run_TF_bi_on = power_bi_on.transform(stand_raw_ecog_cropped_bi_on)"
   ]
  },
  {
   "cell_type": "markdown",
   "id": "fe1c2db4-2fb9-4558-a1b6-7d875f6ece19",
   "metadata": {},
   "source": [
    "## Beta bands of the ecog channels\n",
    "### low beta(13-20Hz), high beta (20-35Hz), full beta (13-35Hz)"
   ]
  },
  {
   "cell_type": "code",
   "execution_count": 84,
   "id": "d412e835-85e8-4ce5-9cff-e445d3b2f377",
   "metadata": {},
   "outputs": [],
   "source": [
    "low_beta_1_bi = run_TF_bi[0, 12:20,:]\n",
    "high_beta_1_bi = run_TF_bi[0, 19:35,:]\n",
    "full_beta_1_bi = run_TF_bi[0, 12:35,:]"
   ]
  },
  {
   "cell_type": "code",
   "execution_count": 85,
   "id": "998da14b-87d1-4085-86f3-69f1a258fe09",
   "metadata": {},
   "outputs": [],
   "source": [
    "low_beta_2_bi = run_TF_bi[1, 12:20,:]\n",
    "high_beta_2_bi = run_TF_bi[1, 19:35,:]\n",
    "full_beta_2_bi = run_TF_bi[1, 12:35,:]"
   ]
  },
  {
   "cell_type": "code",
   "execution_count": 86,
   "id": "2bd65e60-58ba-47f4-8611-2424ad723d7e",
   "metadata": {},
   "outputs": [],
   "source": [
    "low_beta_3_bi = run_TF_bi[2, 12:20,:]\n",
    "high_beta_3_bi = run_TF_bi[2, 19:35,:]\n",
    "full_beta_3_bi = run_TF_bi[2, 12:35,:]"
   ]
  },
  {
   "cell_type": "code",
   "execution_count": 87,
   "id": "45d05c01-638e-45ff-bd6e-a15eae6e2956",
   "metadata": {},
   "outputs": [],
   "source": [
    "low_beta_4_bi = run_TF_bi[3, 12:20,:]\n",
    "high_beta_4_bi = run_TF_bi[3, 19:35,:]\n",
    "full_beta_4_bi = run_TF_bi[3, 12:35,:]"
   ]
  },
  {
   "cell_type": "code",
   "execution_count": 88,
   "id": "cca3a9ae-350d-42d4-bde8-6ba95e7d1d6e",
   "metadata": {},
   "outputs": [],
   "source": [
    "low_beta_5_bi = run_TF_bi[4, 12:20,:]\n",
    "high_beta_5_bi = run_TF_bi[4, 19:35,:]\n",
    "full_beta_5_bi = run_TF_bi[4, 12:35,:]"
   ]
  },
  {
   "cell_type": "code",
   "execution_count": 89,
   "id": "edc2a6ec",
   "metadata": {},
   "outputs": [],
   "source": [
    "low_beta_1_bi_on = run_TF_bi_on[0, 12:20,:]\n",
    "high_beta_1_bi_on = run_TF_bi_on[0, 19:35,:]\n",
    "full_beta_1_bi_on = run_TF_bi_on[0, 12:35,:]\n",
    "\n",
    "low_beta_2_bi_on = run_TF_bi_on[1, 12:20,:]\n",
    "high_beta_2_bi_on = run_TF_bi_on[1, 19:35,:]\n",
    "full_beta_2_bi_on = run_TF_bi_on[1, 12:35,:]\n",
    "\n",
    "low_beta_3_bi_on = run_TF_bi_on[2, 12:20,:]\n",
    "high_beta_3_bi_on = run_TF_bi_on[2, 19:35,:]\n",
    "full_beta_3_bi_on = run_TF_bi_on[2, 12:35,:]\n",
    "\n",
    "low_beta_4_bi_on = run_TF_bi_on[3, 12:20,:]\n",
    "high_beta_4_bi_on = run_TF_bi_on[3, 19:35,:]\n",
    "full_beta_4_bi_on = run_TF_bi_on[3, 12:35,:]\n",
    "\n",
    "low_beta_5_bi_on = run_TF_bi_on[4, 12:20,:]\n",
    "high_beta_5_bi_on = run_TF_bi_on[4, 19:35,:]\n",
    "full_beta_5_bi_on = run_TF_bi_on[4, 12:35,:]"
   ]
  },
  {
   "cell_type": "markdown",
   "id": "f1ff22b5-e956-43f7-8191-138e573f859b",
   "metadata": {},
   "source": [
    "## Averaging power in all beta bands in all ecog channel"
   ]
  },
  {
   "cell_type": "code",
   "execution_count": 90,
   "id": "6441740d-61b4-4cd4-89ec-fe63b75aaba8",
   "metadata": {},
   "outputs": [],
   "source": [
    "low_beta_1_averp_bi = np.mean(low_beta_1_bi, axis=0)\n",
    "high_beta_1_averp_bi = np.mean(high_beta_1_bi, axis=0)\n",
    "full_beta_1_averp_bi = np.mean(full_beta_1_bi, axis=0)"
   ]
  },
  {
   "cell_type": "code",
   "execution_count": 91,
   "id": "a901a71d-39cc-400c-bc17-891cc5f0b80f",
   "metadata": {},
   "outputs": [],
   "source": [
    "low_beta_2_averp_bi = np.mean(low_beta_2_bi, axis=0)\n",
    "high_beta_2_averp_bi = np.mean(high_beta_2_bi, axis=0)\n",
    "full_beta_2_averp_bi = np.mean(full_beta_2_bi, axis=0)"
   ]
  },
  {
   "cell_type": "code",
   "execution_count": 92,
   "id": "72d0c09e-ed87-49eb-95dd-3838c6406fc0",
   "metadata": {},
   "outputs": [],
   "source": [
    "low_beta_3_averp_bi = np.mean(low_beta_3_bi, axis=0)\n",
    "high_beta_3_averp_bi = np.mean(high_beta_3_bi, axis=0)\n",
    "full_beta_3_averp_bi = np.mean(full_beta_3_bi, axis=0)"
   ]
  },
  {
   "cell_type": "code",
   "execution_count": 93,
   "id": "29fb7aac-d1a7-4bf8-af1d-18416fec57ee",
   "metadata": {},
   "outputs": [],
   "source": [
    "low_beta_4_averp_bi = np.mean(low_beta_4_bi, axis=0)\n",
    "high_beta_4_averp_bi = np.mean(high_beta_4_bi, axis=0)\n",
    "full_beta_4_averp_bi = np.mean(full_beta_4_bi, axis=0)"
   ]
  },
  {
   "cell_type": "code",
   "execution_count": 94,
   "id": "159b5819-ab76-4ecf-9511-5c53ae042c50",
   "metadata": {},
   "outputs": [],
   "source": [
    "low_beta_5_averp_bi = np.mean(low_beta_5_bi, axis=0)\n",
    "high_beta_5_averp_bi = np.mean(high_beta_5_bi, axis=0)\n",
    "full_beta_5_averp_bi = np.mean(full_beta_5_bi, axis=0)"
   ]
  },
  {
   "cell_type": "code",
   "execution_count": 95,
   "id": "326d15da",
   "metadata": {},
   "outputs": [],
   "source": [
    "low_beta_1_averp_bi_on = np.mean(low_beta_1_bi_on, axis=0)\n",
    "high_beta_1_averp_bi_on = np.mean(high_beta_1_bi_on, axis=0)\n",
    "full_beta_1_averp_bi_on = np.mean(full_beta_1_bi_on, axis=0)\n",
    "\n",
    "low_beta_2_averp_bi_on = np.mean(low_beta_2_bi_on, axis=0)\n",
    "high_beta_2_averp_bi_on = np.mean(high_beta_2_bi_on, axis=0)\n",
    "full_beta_2_averp_bi_on = np.mean(full_beta_2_bi_on, axis=0)\n",
    "\n",
    "low_beta_3_averp_bi_on = np.mean(low_beta_3_bi_on, axis=0)\n",
    "high_beta_3_averp_bi_on = np.mean(high_beta_3_bi_on, axis=0)\n",
    "full_beta_3_averp_bi_on = np.mean(full_beta_3_bi_on, axis=0)\n",
    "\n",
    "low_beta_4_averp_bi_on = np.mean(low_beta_4_bi_on, axis=0)\n",
    "high_beta_4_averp_bi_on = np.mean(high_beta_4_bi_on, axis=0)\n",
    "full_beta_4_averp_bi_on = np.mean(full_beta_4_bi_on, axis=0)\n",
    "\n",
    "low_beta_5_averp_bi_on = np.mean(low_beta_5_bi_on, axis=0)\n",
    "high_beta_5_averp_bi_on = np.mean(high_beta_5_bi_on, axis=0)\n",
    "full_beta_5_averp_bi_on = np.mean(full_beta_5_bi_on, axis=0)"
   ]
  },
  {
   "cell_type": "markdown",
   "id": "d4772fde-9499-48ed-b10e-bf1f79918dc1",
   "metadata": {},
   "source": [
    "## Z-Scored averaged beta traces"
   ]
  },
  {
   "cell_type": "code",
   "execution_count": 96,
   "id": "280f38ea-31d9-4306-9f66-5bd593ae4e3c",
   "metadata": {},
   "outputs": [],
   "source": [
    "low_beta_1_averp_norm_bi = stats.zscore(low_beta_1_averp_bi, axis=0)\n",
    "high_beta_1_averp_norm_bi = stats.zscore(high_beta_1_averp_bi, axis=0)\n",
    "full_beta_1_averp_norm_bi = stats.zscore(high_beta_1_averp_bi, axis=0)\n",
    "\n",
    "low_beta_2_averp_norm_bi = stats.zscore(low_beta_2_averp_bi, axis=0)\n",
    "high_beta_2_averp_norm_bi = stats.zscore(high_beta_2_averp_bi, axis=0)\n",
    "full_beta_2_averp_norm_bi = stats.zscore(high_beta_2_averp_bi, axis=0)\n",
    "\n",
    "low_beta_3_averp_norm_bi = stats.zscore(low_beta_3_averp_bi, axis=0)\n",
    "high_beta_3_averp_norm_bi = stats.zscore(high_beta_3_averp_bi, axis=0)\n",
    "full_beta_3_averp_norm_bi = stats.zscore(high_beta_3_averp_bi, axis=0)\n",
    "\n",
    "low_beta_4_averp_norm_bi = stats.zscore(low_beta_4_averp_bi, axis=0)\n",
    "high_beta_4_averp_norm_bi = stats.zscore(high_beta_4_averp_bi, axis=0)\n",
    "full_beta_4_averp_norm_bi = stats.zscore(high_beta_4_averp_bi, axis=0)\n",
    "\n",
    "low_beta_5_averp_norm_bi = stats.zscore(low_beta_5_averp_bi, axis=0)\n",
    "high_beta_5_averp_norm_bi = stats.zscore(high_beta_5_averp_bi, axis=0)\n",
    "full_beta_5_averp_norm_bi = stats.zscore(high_beta_5_averp_bi, axis=0)"
   ]
  },
  {
   "cell_type": "code",
   "execution_count": 97,
   "id": "e055500a",
   "metadata": {},
   "outputs": [],
   "source": [
    "low_beta_1_averp_norm_bi_on = stats.zscore(low_beta_1_averp_bi_on, axis=0)\n",
    "high_beta_1_averp_norm_bi_on = stats.zscore(high_beta_1_averp_bi_on, axis=0)\n",
    "full_beta_1_averp_norm_bi_on = stats.zscore(high_beta_1_averp_bi_on, axis=0)\n",
    "\n",
    "low_beta_2_averp_norm_bi_on = stats.zscore(low_beta_2_averp_bi_on, axis=0)\n",
    "high_beta_2_averp_norm_bi_on = stats.zscore(high_beta_2_averp_bi_on, axis=0)\n",
    "full_beta_2_averp_norm_bi_on = stats.zscore(high_beta_2_averp_bi_on, axis=0)\n",
    "\n",
    "low_beta_3_averp_norm_bi_on = stats.zscore(low_beta_3_averp_bi_on, axis=0)\n",
    "high_beta_3_averp_norm_bi_on = stats.zscore(high_beta_3_averp_bi_on, axis=0)\n",
    "full_beta_3_averp_norm_bi_on = stats.zscore(high_beta_3_averp_bi_on, axis=0)\n",
    "\n",
    "low_beta_4_averp_norm_bi_on = stats.zscore(low_beta_4_averp_bi_on, axis=0)\n",
    "high_beta_4_averp_norm_bi_on = stats.zscore(high_beta_4_averp_bi_on, axis=0)\n",
    "full_beta_4_averp_norm_bi_on = stats.zscore(high_beta_4_averp_bi_on, axis=0)\n",
    "\n",
    "low_beta_5_averp_norm_bi_on = stats.zscore(low_beta_5_averp_bi_on, axis=0)\n",
    "high_beta_5_averp_norm_bi_on = stats.zscore(high_beta_5_averp_bi_on, axis=0)\n",
    "full_beta_5_averp_norm_bi_on = stats.zscore(high_beta_5_averp_bi_on, axis=0)"
   ]
  },
  {
   "cell_type": "markdown",
   "id": "d02335a8",
   "metadata": {},
   "source": [
    "## Threshold"
   ]
  },
  {
   "cell_type": "code",
   "execution_count": 98,
   "id": "5e0a646d-4376-4700-b237-d5504b52a2ab",
   "metadata": {},
   "outputs": [],
   "source": [
    "full_beta_1_thr_raw = np.percentile(full_beta_1_averp_norm_bi, 75)\n",
    "full_beta_2_thr_raw = np.percentile(full_beta_2_averp_norm_bi, 75)\n",
    "full_beta_3_thr_raw = np.percentile(full_beta_3_averp_norm_bi, 75)\n",
    "full_beta_4_thr_raw = np.percentile(full_beta_4_averp_norm_bi, 75)\n",
    "full_beta_5_thr_raw = np.percentile(full_beta_5_averp_norm_bi, 75)\n"
   ]
  },
  {
   "cell_type": "code",
   "execution_count": 99,
   "id": "fa6f53c0",
   "metadata": {},
   "outputs": [],
   "source": [
    "low_beta_1_thr_bi_on = np.percentile(low_beta_1_averp_norm_bi_on, 75)\n",
    "high_beta_1_thr_bi_on = np.percentile(high_beta_1_averp_norm_bi_on, 75)\n",
    "full_beta_1_thr_bi_on = np.percentile(full_beta_1_averp_norm_bi_on, 75)\n",
    "\n",
    "low_beta_2_thr_bi_on = np.percentile(low_beta_2_averp_norm_bi_on, 75)\n",
    "high_beta_2_thr_bi_on = np.percentile(high_beta_2_averp_norm_bi_on, 75)\n",
    "full_beta_2_thr_bi_on = np.percentile(full_beta_2_averp_norm_bi_on, 75)\n",
    "\n",
    "low_beta_3_thr_bi_on = np.percentile(low_beta_3_averp_norm_bi_on, 75)\n",
    "high_beta_3_thr_bi_on = np.percentile(high_beta_3_averp_norm_bi_on, 75)\n",
    "full_beta_3_thr_bi_on = np.percentile(full_beta_3_averp_norm_bi_on, 75)\n",
    "\n",
    "low_beta_4_thr_bi_on = np.percentile(low_beta_4_averp_norm_bi_on, 75)\n",
    "high_beta_4_thr_bi_on = np.percentile(high_beta_4_averp_norm_bi_on, 75)\n",
    "full_beta_4_thr_bi_on = np.percentile(full_beta_4_averp_norm_bi_on, 75)\n",
    "\n",
    "low_beta_5_thr_bi_on = np.percentile(low_beta_5_averp_norm_bi_on, 75)\n",
    "high_beta_5_thr_bi_on = np.percentile(high_beta_5_averp_norm_bi_on, 75)\n",
    "full_beta_5_thr_bi_on = np.percentile(full_beta_5_averp_norm_bi_on, 75)"
   ]
  },
  {
   "cell_type": "markdown",
   "id": "4bbee623-ba59-4d3e-b827-2715fefc036c",
   "metadata": {},
   "source": [
    "## Analysing the duration of beta burst \n"
   ]
  },
  {
   "cell_type": "code",
   "execution_count": 100,
   "id": "1d03f083-4989-4021-bfe6-6169f95505d9",
   "metadata": {},
   "outputs": [],
   "source": [
    "def get_burst_length(beta_averp_norm,beta_thr, sfreq=250):\n",
    "    \"\"\"\n",
    "    Parameter\n",
    "    low_\n",
    "    \"\"\"\n",
    "    deriv = np.diff (beta_averp_norm >= beta_thr) \n",
    "    isburst = False\n",
    "    burst_length = []\n",
    "    burst_start = 0\n",
    "\n",
    "    for index, i in enumerate(deriv):\n",
    "    \n",
    "        #print (index)\n",
    "        #print(i)\n",
    "        if i == True:\n",
    "            #print(\"TRUE\")\n",
    "            if isburst == True:\n",
    "                burst_length.append(index - burst_start)\n",
    "\n",
    "                isburst = False\n",
    "            else:\n",
    "                burst_start = index\n",
    "                isburst = True\n",
    "    burst_length = np.array(burst_length)/sfreq\n",
    "    \n",
    "    return burst_length\n",
    "      "
   ]
  },
  {
   "cell_type": "markdown",
   "id": "ef462cee-f30d-4b11-935f-34646c6dbf83",
   "metadata": {},
   "source": [
    "## burst_length of full beta in all ECOG channels OFF"
   ]
  },
  {
   "cell_type": "code",
   "execution_count": 101,
   "id": "eac378f5-2fa8-4fe2-8b7d-4693a0680d40",
   "metadata": {},
   "outputs": [],
   "source": [
    "\n",
    "\n",
    "burst_length_bi_1 = get_burst_length(full_beta_1_averp_norm_bi,full_beta_1_thr_raw, sfreq = 250)\n",
    "burst_length_bi_2 = get_burst_length(full_beta_2_averp_norm_bi,full_beta_2_thr_raw, sfreq = 250)\n",
    "burst_length_bi_3 = get_burst_length(full_beta_3_averp_norm_bi,full_beta_3_thr_raw, sfreq = 250)\n",
    "burst_length_bi_4 = get_burst_length(full_beta_4_averp_norm_bi,full_beta_4_thr_raw, sfreq = 250)\n",
    "burst_length_bi_5 = get_burst_length(full_beta_5_averp_norm_bi,full_beta_5_thr_raw, sfreq = 250)\n"
   ]
  },
  {
   "cell_type": "markdown",
   "id": "c124e7e9-4bac-485f-add3-46582c05afa9",
   "metadata": {},
   "source": [
    "## burst_length of full beta in all ECOG channels ON"
   ]
  },
  {
   "cell_type": "code",
   "execution_count": 102,
   "id": "6953eb4c-c94d-4346-afed-875ec9c44c54",
   "metadata": {},
   "outputs": [],
   "source": [
    "burst_length_1_bi_on = get_burst_length(full_beta_1_averp_norm_bi_on,full_beta_1_thr_bi_on, sfreq = 250)\n",
    "burst_length_2_bi_on = get_burst_length(full_beta_2_averp_norm_bi_on,full_beta_2_thr_bi_on, sfreq = 250)\n",
    "burst_length_3_bi_on = get_burst_length(full_beta_3_averp_norm_bi_on,full_beta_3_thr_bi_on, sfreq = 250)\n",
    "burst_length_4_bi_on = get_burst_length(full_beta_4_averp_norm_bi_on,full_beta_4_thr_bi_on, sfreq = 250)\n",
    "burst_length_5_bi_on = get_burst_length(full_beta_5_averp_norm_bi_on,full_beta_5_thr_bi_on, sfreq = 250)"
   ]
  },
  {
   "cell_type": "markdown",
   "id": "87e2c30a-6945-47ef-bc89-9bc5944c9da1",
   "metadata": {},
   "source": [
    "## Histogram with range up to 10s"
   ]
  },
  {
   "cell_type": "code",
   "execution_count": 103,
   "id": "d3c9311b-4732-4d1f-b16e-6908e1ca4302",
   "metadata": {},
   "outputs": [],
   "source": [
    "hist_dur_1, bins3 = np.histogram(burst_length_bi_1,density=False, bins=20, range=(0, 2))\n",
    "hist_dur_2, bins3 = np.histogram(burst_length_bi_2,density=False, bins=20, range=(0, 2))\n",
    "hist_dur_3, bins3 = np.histogram(burst_length_bi_3,density=False, bins=20, range=(0, 2))\n",
    "hist_dur_4, bins3 = np.histogram(burst_length_bi_4,density=False, bins=20, range=(0, 2))\n",
    "hist_dur_5, bins3 = np.histogram(burst_length_bi_5,density=False, bins=20, range=(0, 2))\n",
    "\n",
    "hist_dur_1_on, bins3 = np.histogram(burst_length_1_bi_on,density=False, bins=20, range=(0, 2))\n",
    "hist_dur_2_on, bins3 = np.histogram(burst_length_2_bi_on,density=False, bins=20, range=(0, 2))\n",
    "hist_dur_3_on, bins3 = np.histogram(burst_length_3_bi_on,density=False, bins=20, range=(0, 2))\n",
    "hist_dur_4_on, bins3 = np.histogram(burst_length_4_bi_on,density=False, bins=20, range=(0, 2))\n",
    "hist_dur_5_on, bins3 = np.histogram(burst_length_5_bi_on,density=False, bins=20, range=(0, 2))"
   ]
  },
  {
   "cell_type": "markdown",
   "id": "dc454bd4-aed4-4c41-8135-cc377f3d3f3c",
   "metadata": {},
   "source": [
    "## Normed Histogram"
   ]
  },
  {
   "cell_type": "code",
   "execution_count": 104,
   "id": "54109ae2-ef4e-47f4-b00f-9b6b66456950",
   "metadata": {},
   "outputs": [],
   "source": [
    "normed_hist_1 = 100*hist_dur_1 / burst_length_bi_1.shape[0]\n",
    "normed_hist_2 = 100*hist_dur_2/ burst_length_bi_2.shape[0]\n",
    "normed_hist_3= 100*hist_dur_3 / burst_length_bi_3.shape[0]\n",
    "normed_hist_4 = 100*hist_dur_4 / burst_length_bi_4.shape[0]\n",
    "normed_hist_5 = 100*hist_dur_5 / burst_length_bi_5.shape[0]\n",
    "\n",
    "normed_hist_1_on = 100*hist_dur_1_on/ burst_length_1_bi_on.shape[0]\n",
    "normed_hist_2_on = 100*hist_dur_2_on/ burst_length_2_bi_on.shape[0]\n",
    "normed_hist_3_on = 100*hist_dur_3_on / burst_length_3_bi_on.shape[0]\n",
    "normed_hist_4_on = 100*hist_dur_4_on/ burst_length_4_bi_on.shape[0]\n",
    "normed_hist_5_on = 100*hist_dur_5_on/ burst_length_5_bi_on.shape[0]"
   ]
  },
  {
   "cell_type": "markdown",
   "id": "66480a66-51bb-4fd3-ac34-c81dbd85b7c1",
   "metadata": {},
   "source": [
    "## Power Spectral Density"
   ]
  },
  {
   "cell_type": "code",
   "execution_count": 105,
   "id": "0d72dbed-6693-4136-a085-ecb76af1193c",
   "metadata": {},
   "outputs": [],
   "source": [
    "power_spectrum_for_channel_0 = np.nanmean(np.squeeze(run_TF_bi[0,:,:]), axis=1)\n",
    "power_spectrum_for_channel_1 = np.nanmean(np.squeeze(run_TF_bi[1,:,:]), axis=1)\n",
    "power_spectrum_for_channel_2 = np.nanmean(np.squeeze(run_TF_bi[2,:,:]), axis=1)\n",
    "power_spectrum_for_channel_3 = np.nanmean(np.squeeze(run_TF_bi[3,:,:]), axis=1)\n",
    "power_spectrum_for_channel_4 = np.nanmean(np.squeeze(run_TF_bi[4,:,:]), axis=1)\n",
    "\n",
    "power_spectrum_for_channel_0_on = np.nanmean(np.squeeze(run_TF_bi_on[0,:,:]), axis=1)\n",
    "power_spectrum_for_channel_1_on = np.nanmean(np.squeeze(run_TF_bi_on[1,:,:]), axis=1)\n",
    "power_spectrum_for_channel_2_on = np.nanmean(np.squeeze(run_TF_bi_on[2,:,:]), axis=1)\n",
    "power_spectrum_for_channel_3_on = np.nanmean(np.squeeze(run_TF_bi_on[3,:,:]), axis=1)\n",
    "power_spectrum_for_channel_4_on = np.nanmean(np.squeeze(run_TF_bi_on[4,:,:]), axis=1)"
   ]
  },
  {
   "cell_type": "code",
   "execution_count": 106,
   "id": "614c5b76-db22-42a1-a967-6a27d6f47f34",
   "metadata": {},
   "outputs": [],
   "source": [
    "npow_0 = power_spectrum_for_channel_0/np.sum(power_spectrum_for_channel_0[4:45] + power_spectrum_for_channel_0[54:95])\n",
    "npow_1 = power_spectrum_for_channel_1/np.sum(power_spectrum_for_channel_1[4:45] + power_spectrum_for_channel_1[54:95])\n",
    "npow_2 = power_spectrum_for_channel_2/np.sum(power_spectrum_for_channel_2[4:45] + power_spectrum_for_channel_2[54:95])\n",
    "npow_3 = power_spectrum_for_channel_3/np.sum(power_spectrum_for_channel_3[4:45] + power_spectrum_for_channel_3[54:95])\n",
    "npow_4 = power_spectrum_for_channel_4/np.sum(power_spectrum_for_channel_4[4:45] + power_spectrum_for_channel_4[54:95])\n",
    "\n",
    "npow_0_on = power_spectrum_for_channel_0_on/np.sum(power_spectrum_for_channel_0_on[4:45] + power_spectrum_for_channel_0_on[54:95])\n",
    "npow_1_on = power_spectrum_for_channel_1_on/np.sum(power_spectrum_for_channel_1_on[4:45] + power_spectrum_for_channel_1_on[54:95])\n",
    "npow_2_on = power_spectrum_for_channel_2_on/np.sum(power_spectrum_for_channel_2_on[4:45] + power_spectrum_for_channel_2_on[54:95])\n",
    "npow_3_on = power_spectrum_for_channel_3_on/np.sum(power_spectrum_for_channel_3_on[4:45] + power_spectrum_for_channel_3_on[54:95])\n",
    "npow_4_on = power_spectrum_for_channel_4_on/np.sum(power_spectrum_for_channel_4_on[4:45] + power_spectrum_for_channel_4_on[54:95])"
   ]
  },
  {
   "cell_type": "markdown",
   "id": "d6a89a5e",
   "metadata": {},
   "source": [
    "## Normed Histogram of Duration 1B"
   ]
  },
  {
   "cell_type": "code",
   "execution_count": 107,
   "id": "4dc7e9eb",
   "metadata": {},
   "outputs": [],
   "source": [
    "prob_lg_bursts_1=normed_hist_1[np.arange(8,20,1)].sum()\n",
    "prob_lg_bursts_1_on=normed_hist_1_on[np.arange(8,20,1)].sum()\n",
    "\n",
    "prob_lg_bursts_2=normed_hist_2[np.arange(8,20,1)].sum()\n",
    "prob_lg_bursts_2_on=normed_hist_2_on[np.arange(8,20,1)].sum()\n",
    "\n",
    "prob_lg_bursts_3=normed_hist_3[np.arange(8,20,1)].sum()\n",
    "prob_lg_bursts_3_on=normed_hist_3_on[np.arange(8,20,1)].sum()\n",
    "\n",
    "prob_lg_bursts_4=normed_hist_4[np.arange(8,20,1)].sum()\n",
    "prob_lg_bursts_4_on=normed_hist_4_on[np.arange(8,20,1)].sum()\n",
    "\n",
    "prob_lg_bursts_5=normed_hist_5[np.arange(8,20,1)].sum()\n",
    "prob_lg_bursts_5_on=normed_hist_5_on[np.arange(8,20,1)].sum()"
   ]
  },
  {
   "cell_type": "code",
   "execution_count": 108,
   "id": "03e15b43",
   "metadata": {},
   "outputs": [],
   "source": [
    "array_ot_bursts_1 = normed_hist_1[np.arange(0,8)]\n",
    "array_ot_bursts_1_on = normed_hist_1_on[np.arange(0,8)]\n",
    "arr_sh_bursts_1 = np.delete(array_ot_bursts_1,0)\n",
    "arr_sh_bursts_1_on = np.delete(array_ot_bursts_1_on,0)\n",
    "\n",
    "array_ot_bursts_2 = normed_hist_2[np.arange(0,8)]\n",
    "array_ot_bursts_2_on = normed_hist_2_on[np.arange(0,8)]\n",
    "arr_sh_bursts_2 = np.delete(array_ot_bursts_2,0)\n",
    "arr_sh_bursts_2_on = np.delete(array_ot_bursts_2_on,0)\n",
    "\n",
    "array_ot_bursts_3 = normed_hist_3[np.arange(0,8)]\n",
    "array_ot_bursts_3_on = normed_hist_3_on[np.arange(0,8)]\n",
    "arr_sh_bursts_3 = np.delete(array_ot_bursts_3,0)\n",
    "arr_sh_bursts_3_on = np.delete(array_ot_bursts_3_on,0)\n",
    "\n",
    "array_ot_bursts_4 = normed_hist_4[np.arange(0,8)]\n",
    "array_ot_bursts_4_on = normed_hist_4_on[np.arange(0,8)]\n",
    "arr_sh_bursts_4 = np.delete(array_ot_bursts_4,0)\n",
    "arr_sh_bursts_4_on = np.delete(array_ot_bursts_4_on,0)\n",
    "\n",
    "array_ot_bursts_5 = normed_hist_5[np.arange(0,8)]\n",
    "array_ot_bursts_5_on = normed_hist_5_on[np.arange(0,8)]\n",
    "arr_sh_bursts_5 = np.delete(array_ot_bursts_5,0)\n",
    "arr_sh_bursts_5_on = np.delete(array_ot_bursts_5_on,0)"
   ]
  },
  {
   "cell_type": "code",
   "execution_count": 109,
   "id": "15a6b667",
   "metadata": {},
   "outputs": [],
   "source": [
    "burst_prob_dur_1 = np.append(arr_sh_bursts_1,prob_lg_bursts_1)\n",
    "burst_prob_dur_1_on = np.append(arr_sh_bursts_1_on,prob_lg_bursts_1_on)\n",
    "\n",
    "burst_prob_dur_2 = np.append(arr_sh_bursts_2,prob_lg_bursts_2)\n",
    "burst_prob_dur_2_on = np.append(arr_sh_bursts_2_on,prob_lg_bursts_2_on)\n",
    "\n",
    "burst_prob_dur_3 = np.append(arr_sh_bursts_3,prob_lg_bursts_3)\n",
    "burst_prob_dur_3_on = np.append(arr_sh_bursts_3_on,prob_lg_bursts_3_on)\n",
    "\n",
    "burst_prob_dur_4 = np.append(arr_sh_bursts_4,prob_lg_bursts_4)\n",
    "burst_prob_dur_4_on = np.append(arr_sh_bursts_4_on,prob_lg_bursts_4_on)\n",
    "\n",
    "burst_prob_dur_5 = np.append(arr_sh_bursts_5,prob_lg_bursts_5)\n",
    "burst_prob_dur_5_on = np.append(arr_sh_bursts_5_on,prob_lg_bursts_5_on)"
   ]
  },
  {
   "cell_type": "code",
   "execution_count": 110,
   "id": "997f222b",
   "metadata": {},
   "outputs": [],
   "source": [
    "bins_dur=[0.1,0.2,0.3,0.4,0.5,0.6,0.7,'>0.8'] "
   ]
  },
  {
   "cell_type": "code",
   "execution_count": 111,
   "id": "4c2f339d",
   "metadata": {},
   "outputs": [],
   "source": [
    "df_probdur_1 = pd.DataFrame(data=[bins_dur,burst_prob_dur_1]) \n",
    "df_probdur_1_on = pd.DataFrame(data=[bins_dur,burst_prob_dur_1_on]) \n",
    "\n",
    "df_probdur_2 = pd.DataFrame(data=[bins_dur,burst_prob_dur_2]) \n",
    "df_probdur_2_on = pd.DataFrame(data=[bins_dur,burst_prob_dur_2_on]) \n",
    "\n",
    "df_probdur_3 = pd.DataFrame(data=[bins_dur,burst_prob_dur_3]) \n",
    "df_probdur_3_on = pd.DataFrame(data=[bins_dur,burst_prob_dur_3_on]) \n",
    "\n",
    "df_probdur_4 = pd.DataFrame(data=[bins_dur,burst_prob_dur_4]) \n",
    "df_probdur_4_on = pd.DataFrame(data=[bins_dur,burst_prob_dur_4_on]) \n",
    "\n",
    "df_probdur_5 = pd.DataFrame(data=[bins_dur,burst_prob_dur_5]) \n",
    "df_probdur_5_on = pd.DataFrame(data=[bins_dur,burst_prob_dur_5_on]) "
   ]
  },
  {
   "cell_type": "code",
   "execution_count": 112,
   "id": "3002bd25",
   "metadata": {},
   "outputs": [],
   "source": [
    "df_probdur_t_1 =df_probdur_1.T\n",
    "df_probdur_t_1_on =df_probdur_1_on.T\n",
    "\n",
    "df_probdur_t_2 =df_probdur_2.T\n",
    "df_probdur_t_2_on =df_probdur_2_on.T\n",
    "\n",
    "df_probdur_t_3 =df_probdur_3.T\n",
    "df_probdur_t_3_on =df_probdur_3_on.T\n",
    "\n",
    "df_probdur_t_4 =df_probdur_4.T\n",
    "df_probdur_t_4_on =df_probdur_4_on.T\n",
    "\n",
    "df_probdur_t_5 =df_probdur_5.T\n",
    "df_probdur_t_5_on =df_probdur_5_on.T"
   ]
  },
  {
   "cell_type": "code",
   "execution_count": 113,
   "id": "9f96ba11",
   "metadata": {},
   "outputs": [],
   "source": [
    "df_probdur_t_r_1 = df_probdur_t_1.rename(columns={0: \"Burst Duration (s)\",1:'Burst Probability (%)'})\n",
    "df_probdur_t_r_1_on = df_probdur_t_1_on.rename(columns={0: \"Burst Duration (s)\",1:'Burst Probability (%)'})\n",
    "\n",
    "df_probdur_t_r_2 = df_probdur_t_2.rename(columns={0: \"Burst Duration (s)\",1:'Burst Probability (%)'})\n",
    "df_probdur_t_r_2_on = df_probdur_t_2_on.rename(columns={0: \"Burst Duration (s)\",1:'Burst Probability (%)'})\n",
    "\n",
    "df_probdur_t_r_3 = df_probdur_t_3.rename(columns={0: \"Burst Duration (s)\",1:'Burst Probability (%)'})\n",
    "df_probdur_t_r_3_on = df_probdur_t_3_on.rename(columns={0: \"Burst Duration (s)\",1:'Burst Probability (%)'})\n",
    "\n",
    "df_probdur_t_r_4 = df_probdur_t_4.rename(columns={0: \"Burst Duration (s)\",1:'Burst Probability (%)'})\n",
    "df_probdur_t_r_4_on = df_probdur_t_4_on.rename(columns={0: \"Burst Duration (s)\",1:'Burst Probability (%)'})\n",
    "\n",
    "df_probdur_t_r_5 = df_probdur_t_5.rename(columns={0: \"Burst Duration (s)\",1:'Burst Probability (%)'})\n",
    "df_probdur_t_r_5_on = df_probdur_t_5_on.rename(columns={0: \"Burst Duration (s)\",1:'Burst Probability (%)'})"
   ]
  },
  {
   "cell_type": "code",
   "execution_count": 114,
   "id": "37761d1b",
   "metadata": {},
   "outputs": [],
   "source": [
    "df_probdur_t_r_m_1 = df_probdur_t_r_1.assign(Medication = 'OFF')\n",
    "df_probdur_t_r_m_1_on = df_probdur_t_r_1_on.assign(Medication = 'ON')\n",
    "\n",
    "df_probdur_t_r_m_2 = df_probdur_t_r_2.assign(Medication = 'OFF')\n",
    "df_probdur_t_r_m_2_on = df_probdur_t_r_2_on.assign(Medication = 'ON')\n",
    "\n",
    "df_probdur_t_r_m_3 = df_probdur_t_r_3.assign(Medication = 'OFF')\n",
    "df_probdur_t_r_m_3_on = df_probdur_t_r_3_on.assign(Medication = 'ON')\n",
    "\n",
    "df_probdur_t_r_m_4 = df_probdur_t_r_4.assign(Medication = 'OFF')\n",
    "df_probdur_t_r_m_4_on = df_probdur_t_r_4_on.assign(Medication = 'ON')\n",
    "\n",
    "df_probdur_t_r_m_5 = df_probdur_t_r_5.assign(Medication = 'OFF')\n",
    "df_probdur_t_r_m_5_on = df_probdur_t_r_5_on.assign(Medication = 'ON')"
   ]
  },
  {
   "cell_type": "code",
   "execution_count": 115,
   "id": "89d2b440",
   "metadata": {},
   "outputs": [],
   "source": [
    "cdf_probdur_1 = pd.concat([df_probdur_t_r_m_1, df_probdur_t_r_m_1_on])\n",
    "cdf_probdur_2 = pd.concat([df_probdur_t_r_m_2, df_probdur_t_r_m_2_on])\n",
    "cdf_probdur_3 = pd.concat([df_probdur_t_r_m_3, df_probdur_t_r_m_3_on])\n",
    "cdf_probdur_4 = pd.concat([df_probdur_t_r_m_4, df_probdur_t_r_m_4_on])\n",
    "cdf_probdur_5 = pd.concat([df_probdur_t_r_m_5, df_probdur_t_r_m_5_on])"
   ]
  },
  {
   "cell_type": "markdown",
   "id": "752290d6",
   "metadata": {},
   "source": [
    "## Mean Duration 1C"
   ]
  },
  {
   "cell_type": "code",
   "execution_count": 116,
   "id": "98f33a58",
   "metadata": {},
   "outputs": [],
   "source": [
    "df4 = pd.DataFrame(burst_length_bi_4)\n",
    "df4_on = pd.DataFrame(burst_length_4_bi_on) "
   ]
  },
  {
   "cell_type": "code",
   "execution_count": 117,
   "id": "e32725c8",
   "metadata": {},
   "outputs": [],
   "source": [
    "df4_m = df4.assign(Location ='ECOG_L4-L5_SMC_AT',Medication = 'OFF')\n",
    "df4_m_on = df4_on.assign(Location ='ECOG_L4-L5_SMC_AT',Medication = 'ON')"
   ]
  },
  {
   "cell_type": "code",
   "execution_count": 118,
   "id": "edc1b3df",
   "metadata": {},
   "outputs": [],
   "source": [
    "df4_m_r = df4_m.rename(columns={0: \"Burst Duration (s)\"})\n",
    "df4_m_r_on = df4_m_on.rename(columns={0: \"Burst Duration (s)\"})"
   ]
  },
  {
   "cell_type": "code",
   "execution_count": 119,
   "id": "5cf838e5",
   "metadata": {},
   "outputs": [],
   "source": [
    "cdf4 = pd.concat([df4_m_r,df4_m_r_on])"
   ]
  },
  {
   "cell_type": "markdown",
   "id": "5adb133c",
   "metadata": {},
   "source": [
    "# Figure"
   ]
  },
  {
   "cell_type": "code",
   "execution_count": 120,
   "id": "76da243d",
   "metadata": {},
   "outputs": [
    {
     "data": {
      "image/png": "[encoded data removed]",
      "text/plain": [
       "<Figure size 1800x1080 with 3 Axes>"
      ]
     },
     "metadata": {
      "needs_background": "light"
     },
     "output_type": "display_data"
    }
   ],
   "source": [
    "fig,ax = plt.subplots(1,3, figsize=(25,15),)\n",
    "plt.subplot(131)\n",
    "plt.plot(freqs,npow_3,label= 'OFF ',linewidth=4)\n",
    "plt.plot(freqs,npow_3_on,label= 'ON',linewidth=4)\n",
    "plt.xlim(0,60)\n",
    "plt.xlabel('Frequency (Hz)')\n",
    "plt.ylabel('Relative spectral power (au)')\n",
    "plt.legend(title='Medication', fontsize=15,title_fontsize=15)\n",
    "        \n",
    "plt.subplot(132)           \n",
    "alpha_box=0.3\n",
    "sns.barplot(data=cdf_probdur_4, x='Burst Duration (s)', y='Burst Probability (%)', hue='Medication') \n",
    "plt.legend(title='Medication', fontsize=15,title_fontsize=15)\n",
    "\n",
    "\n",
    "plt.subplot(133)\n",
    "alpha_box = 0.4\n",
    "g = sns.boxplot(x='Location', y='Burst Duration (s)', hue='Medication',data=cdf4,         \n",
    "           showfliers=False,meanline=dict(color='r'), showmeans=True,\n",
    "           whiskerprops={'linewidth':2, \"zorder\":10, \"alpha\":alpha_box},\n",
    "           capprops={\"alpha\":alpha_box},\n",
    "           meanprops=dict(linestyle='-.', linewidth=5,color='r'))\n",
    "plt.xlabel('Primary Motor Cortex')\n",
    "plt.legend(title='Medication', fontsize=15,title_fontsize=15,loc='upper right')\n",
    "\n",
    "#for n, ax in enumerate(ax):\n",
    " #    ax.text(-0.1, 1.1, string.ascii_uppercase[n], transform=ax.transAxes, \n",
    "  #         size=30, weight='bold')\n",
    "    \n",
    "sns.despine()"
   ]
  }
 ],
 "metadata": {
  "kernelspec": {
   "display_name": "Python 3",
   "language": "python",
   "name": "python3"
  },
  "language_info": {
   "codemirror_mode": {
    "name": "ipython",
    "version": 3
   },
   "file_extension": ".py",
   "mimetype": "text/x-python",
   "name": "python",
   "nbconvert_exporter": "python",
   "pygments_lexer": "ipython3",
   "version": "3.9.4"
  }
 },
 "nbformat": 4,
 "nbformat_minor": 5
}
