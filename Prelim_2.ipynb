{
 "cells": [
  {
   "cell_type": "code",
   "execution_count": 431,
   "id": "d4d539bf-5609-41b4-a26d-cb8b04355f19",
   "metadata": {},
   "outputs": [],
   "source": [
    "#import libraries and modules\n",
    "import mne\n",
    "import numpy as np\n",
    "import scipy\n",
    "from scipy import stats\n",
    "import matplotlib.pyplot as plt\n",
    "import seaborn as sns\n",
    "import string\n",
    "sns.set(style=\"white\", font_scale=1)"
   ]
  },
  {
   "cell_type": "code",
   "execution_count": null,
   "id": "c9d41e4f-f9f4-4a27-b05e-98e6f28676e2",
   "metadata": {},
   "outputs": [],
   "source": [
    "import mne_bids\n",
    "from bids import BIDSLayout"
   ]
  },
  {
   "cell_type": "code",
   "execution_count": null,
   "id": "2cec765c-b09a-4ef7-9bb1-21c7d7fed731",
   "metadata": {},
   "outputs": [],
   "source": [
    "def get_runs(BIDS_path: str, med_on: bool = True):\n",
    "    \n",
    "    layout = BIDSLayout(BIDS_path)\n",
    "    return layout.get(extension='vhdr',\n",
    "                      task='Rest', acquisition='StimOff', \n",
    "                      session=['EphysMedOn0'+ str(i) if med_on else 'EphysMedOff0'+ str(i) for i in [1,2,3]], \n",
    "                      return_type='filename')"
   ]
  },
  {
   "cell_type": "code",
   "execution_count": null,
   "id": "7c918309-a179-4be0-a53f-25686691f9cf",
   "metadata": {},
   "outputs": [],
   "source": [
    "raw_on = IO.get_runs(PATH_BIDS, med_on = True)\n",
    "raw_off = IO.get_runs(PATH_BIDS, med_on = False)"
   ]
  },
  {
   "cell_type": "code",
   "execution_count": null,
   "id": "b5c01749-9938-421f-bfba-25c9583b230c",
   "metadata": {},
   "outputs": [],
   "source": []
  },
  {
   "cell_type": "markdown",
   "id": "ec0f874b-25f3-473f-9a9b-54b87508990a",
   "metadata": {},
   "source": [
    "## Preprocessing"
   ]
  },
  {
   "cell_type": "code",
   "execution_count": 446,
   "id": "96433908-06b9-49ed-8f96-6391300cbded",
   "metadata": {
    "tags": []
   },
   "outputs": [
    {
     "name": "stdout",
     "output_type": "stream",
     "text": [
      "Extracting parameters from /Users/alidzaye/Library/CloudStorage/OneDrive-SharedLibraries-Charité-UniversitätsmedizinBerlin/Interventional Cognitive Neuromodulation - Data/BIDS_Berlin_ECOG_LFP/rawdata/sub-003/ses-EcogLfpMedOff01/ieeg/sub-003_ses-EcogLfpMedOff01_task-Rest_acq-StimOff_run-1_ieeg.vhdr...\n",
      "Setting channel info structure...\n",
      "Extracting parameters from /Users/alidzaye/Library/CloudStorage/OneDrive-SharedLibraries-Charité-UniversitätsmedizinBerlin/Interventional Cognitive Neuromodulation - Data/BIDS_Berlin_ECOG_LFP/rawdata/sub-003/ses-EcogLfpMedOff01/ieeg/sub-003_ses-EcogLfpMedOff01_task-Rest_acq-StimOff_run-1_ieeg.vhdr...\n",
      "Setting channel info structure...\n"
     ]
    }
   ],
   "source": [
    "raw = mne.io.read_raw(r'/Users/alidzaye/Library/CloudStorage/OneDrive-SharedLibraries-Charité-UniversitätsmedizinBerlin/Interventional Cognitive Neuromodulation - Data/BIDS_Berlin_ECOG_LFP/rawdata/sub-003/ses-EcogLfpMedOff01/ieeg/sub-003_ses-EcogLfpMedOff01_task-Rest_acq-StimOff_run-1_ieeg.vhdr')\n",
    "raw_on = mne.io.read_raw(r'/Users/alidzaye/Library/CloudStorage/OneDrive-SharedLibraries-Charité-UniversitätsmedizinBerlin/Interventional Cognitive Neuromodulation - Data/BIDS_Berlin_ECOG_LFP/rawdata/sub-003/ses-EcogLfpMedOff01/ieeg/sub-003_ses-EcogLfpMedOff01_task-Rest_acq-StimOff_run-1_ieeg.vhdr')"
   ]
  },
  {
   "cell_type": "code",
   "execution_count": 447,
   "id": "22973bb6-b07b-4bb6-8a60-eec5b1a173cd",
   "metadata": {},
   "outputs": [],
   "source": [
    "# pick ecog channels\n",
    "raw_ecog = raw.copy().pick_channels(raw.ch_names[10:16])\n",
    "raw_ecog_on = raw_on.copy().pick_channels(raw_on.ch_names[10:16])"
   ]
  },
  {
   "cell_type": "code",
   "execution_count": 448,
   "id": "d1c14c2a-6b86-4f2b-99b5-4d9271792f48",
   "metadata": {},
   "outputs": [
    {
     "name": "stdout",
     "output_type": "stream",
     "text": [
      "Reading 0 ... 2536497  =      0.000 ...   619.262 secs...\n",
      "EEG channel type selected for re-referencing\n",
      "Creating RawArray with float64 data, n_channels=5, n_times=2536498\n",
      "    Range : 0 ... 2536497 =      0.000 ...   619.262 secs\n",
      "Ready.\n",
      "Added the following bipolar channels:\n",
      "ECOG_L_1_2_SMC_AT, ECOG_L_2_3_SMC_AT, ECOG_L_3_4_SMC_AT, ECOG_L_4_5_SMC_AT, ECOG_L_5_6_SMC_AT\n",
      "EEG channel type selected for re-referencing\n",
      "Creating RawArray with float64 data, n_channels=5, n_times=2536498\n",
      "    Range : 0 ... 2536497 =      0.000 ...   619.262 secs\n",
      "Ready.\n",
      "Added the following bipolar channels:\n",
      "ECOG_L_1_2_SMC_AT, ECOG_L_2_3_SMC_AT, ECOG_L_3_4_SMC_AT, ECOG_L_4_5_SMC_AT, ECOG_L_5_6_SMC_AT\n"
     ]
    }
   ],
   "source": [
    "# use bipolar reference\n",
    "anode = raw_ecog.ch_names[0:5]\n",
    "cathode = raw_ecog.ch_names[1:6]\n",
    "new_ch_names = ['ECOG_L_1_2_SMC_AT',\n",
    "               'ECOG_L_2_3_SMC_AT',\n",
    "               'ECOG_L_3_4_SMC_AT',\n",
    "               'ECOG_L_4_5_SMC_AT',\n",
    "              'ECOG_L_5_6_SMC_AT']\n",
    "\n",
    "raw_ecog_bi = mne.set_bipolar_reference(raw_ecog.load_data(), anode=anode,\n",
    "                                        cathode=cathode, ch_name=new_ch_names )\n",
    "\n",
    "# ON\n",
    "anode_on = raw_ecog_on.ch_names[0:5]\n",
    "cathode_on = raw_ecog_on.ch_names[1:6]\n",
    "new_ch_names = ['ECOG_L_1_2_SMC_AT',\n",
    "               'ECOG_L_2_3_SMC_AT',\n",
    "               'ECOG_L_3_4_SMC_AT',\n",
    "               'ECOG_L_4_5_SMC_AT',\n",
    "              'ECOG_L_5_6_SMC_AT']\n",
    "\n",
    "raw_ecog_bi_on = mne.set_bipolar_reference(raw_ecog.load_data(), anode=anode_on,\n",
    "                                        cathode=cathode_on, ch_name=new_ch_names )"
   ]
  },
  {
   "cell_type": "code",
   "execution_count": 449,
   "id": "656b9f51-9724-41c9-8899-ab0c9e9c6687",
   "metadata": {},
   "outputs": [
    {
     "name": "stdout",
     "output_type": "stream",
     "text": [
      "Filtering raw data in 1 contiguous segment\n",
      "Setting up high-pass filter at 3 Hz\n",
      "\n",
      "FIR filter parameters\n",
      "---------------------\n",
      "Designing a one-pass, zero-phase, non-causal highpass filter:\n",
      "- Windowed time-domain design (firwin) method\n",
      "- Hamming window with 0.0194 passband ripple and 53 dB stopband attenuation\n",
      "- Lower passband edge: 3.00\n",
      "- Lower transition bandwidth: 2.00 Hz (-6 dB cutoff frequency: 2.00 Hz)\n",
      "- Filter length: 6759 samples (1.650 sec)\n",
      "\n",
      "Filtering raw data in 1 contiguous segment\n",
      "Setting up high-pass filter at 3 Hz\n",
      "\n",
      "FIR filter parameters\n",
      "---------------------\n",
      "Designing a one-pass, zero-phase, non-causal highpass filter:\n",
      "- Windowed time-domain design (firwin) method\n",
      "- Hamming window with 0.0194 passband ripple and 53 dB stopband attenuation\n",
      "- Lower passband edge: 3.00\n",
      "- Lower transition bandwidth: 2.00 Hz (-6 dB cutoff frequency: 2.00 Hz)\n",
      "- Filter length: 6759 samples (1.650 sec)\n",
      "\n"
     ]
    }
   ],
   "source": [
    "# high pass filtering above 3 Hz\n",
    "raw_ecog_bi_hi = raw_ecog_bi.copy().filter(3, None,)\n",
    "raw_ecog_bi_hi_on = raw_ecog_bi_on.copy().filter(3, None,)"
   ]
  },
  {
   "cell_type": "code",
   "execution_count": 450,
   "id": "ee434a99-c484-4f8a-b3a7-4641fcb0c584",
   "metadata": {
    "tags": []
   },
   "outputs": [
    {
     "name": "stdout",
     "output_type": "stream",
     "text": [
      "Filtering raw data in 1 contiguous segment\n",
      "Setting up low-pass filter at 2.5e+02 Hz\n",
      "\n",
      "FIR filter parameters\n",
      "---------------------\n",
      "Designing a one-pass, zero-phase, non-causal lowpass filter:\n",
      "- Windowed time-domain design (firwin) method\n",
      "- Hamming window with 0.0194 passband ripple and 53 dB stopband attenuation\n",
      "- Upper passband edge: 250.00 Hz\n",
      "- Upper transition bandwidth: 62.50 Hz (-6 dB cutoff frequency: 281.25 Hz)\n",
      "- Filter length: 217 samples (0.053 sec)\n",
      "\n",
      "Filtering raw data in 1 contiguous segment\n",
      "Setting up low-pass filter at 2.5e+02 Hz\n",
      "\n",
      "FIR filter parameters\n",
      "---------------------\n",
      "Designing a one-pass, zero-phase, non-causal lowpass filter:\n",
      "- Windowed time-domain design (firwin) method\n",
      "- Hamming window with 0.0194 passband ripple and 53 dB stopband attenuation\n",
      "- Upper passband edge: 250.00 Hz\n",
      "- Upper transition bandwidth: 62.50 Hz (-6 dB cutoff frequency: 281.25 Hz)\n",
      "- Filter length: 217 samples (0.053 sec)\n",
      "\n"
     ]
    }
   ],
   "source": [
    "# low pass filtering below 250 Hz\n",
    "raw_ecog_bi_hi_lo = raw_ecog_bi_hi.copy().filter(None, 250)\n",
    "raw_ecog_bi_hi_lo_on = raw_ecog_bi_hi_on.copy().filter(None, 250)"
   ]
  },
  {
   "cell_type": "code",
   "execution_count": 451,
   "id": "c852ef03-bfba-4f63-858b-4b5ac57726d8",
   "metadata": {
    "tags": []
   },
   "outputs": [
    {
     "name": "stdout",
     "output_type": "stream",
     "text": [
      "Setting up band-stop filter\n",
      "\n",
      "FIR filter parameters\n",
      "---------------------\n",
      "Designing a one-pass, zero-phase, non-causal bandstop filter:\n",
      "- Windowed time-domain design (firwin) method\n",
      "- Hamming window with 0.0194 passband ripple and 53 dB stopband attenuation\n",
      "- Lower transition bandwidth: 0.50 Hz\n",
      "- Upper transition bandwidth: 0.50 Hz\n",
      "- Filter length: 27035 samples (6.600 sec)\n",
      "\n",
      "Setting up band-stop filter\n",
      "\n",
      "FIR filter parameters\n",
      "---------------------\n",
      "Designing a one-pass, zero-phase, non-causal bandstop filter:\n",
      "- Windowed time-domain design (firwin) method\n",
      "- Hamming window with 0.0194 passband ripple and 53 dB stopband attenuation\n",
      "- Lower transition bandwidth: 0.50 Hz\n",
      "- Upper transition bandwidth: 0.50 Hz\n",
      "- Filter length: 27035 samples (6.600 sec)\n",
      "\n"
     ]
    }
   ],
   "source": [
    "# bandstop/notch filter 50 Hz\n",
    "raw_ecog_bi_hi_lo_nf = raw_ecog_bi_hi_lo.copy().notch_filter(np.arange(50,251,50), filter_length=\"auto\", phase='zero')\n",
    "raw_ecog_bi_hi_lo_nf_on = raw_ecog_bi_hi_lo_on.copy().notch_filter(np.arange(50,251,50), filter_length=\"auto\", phase='zero')"
   ]
  },
  {
   "cell_type": "code",
   "execution_count": 452,
   "id": "0fb6e800-30a4-4490-915c-f5e27394d58e",
   "metadata": {},
   "outputs": [],
   "source": [
    "#Cropping\n",
    "raw_ecog_cropped = raw_ecog_bi_hi_lo_nf.copy().crop(tmax=618)\n",
    "raw_ecog_cropped_on = raw_ecog_bi_hi_lo_nf_on.copy().crop(tmax=420)"
   ]
  },
  {
   "cell_type": "code",
   "execution_count": 453,
   "id": "0441471c-5c2d-43aa-8357-5e4407ecefbe",
   "metadata": {},
   "outputs": [],
   "source": [
    "#Downsample Data to 250Hz\n",
    "raw_ecog_cropped_dow = raw_ecog_cropped.copy().resample(250)\n",
    "raw_ecog_cropped_dow_on = raw_ecog_cropped_on.copy().resample(250)"
   ]
  },
  {
   "cell_type": "code",
   "execution_count": 454,
   "id": "2835757b-1bec-49d7-a399-9dccfab8e414",
   "metadata": {
    "tags": []
   },
   "outputs": [],
   "source": [
    "# get signal\n",
    "signal = raw_ecog_cropped_dow.copy().get_data()\n",
    "signal_on = raw_ecog_cropped_dow_on.copy().get_data()"
   ]
  },
  {
   "cell_type": "code",
   "execution_count": 455,
   "id": "d8f74ab2-38f3-4e48-8663-9f6d17b51399",
   "metadata": {},
   "outputs": [],
   "source": [
    "#z-score signal\n",
    "stand_signal = stats.zscore(signal, axis=1)\n",
    "stand_signal_on = stats.zscore(signal_on, axis=1)"
   ]
  },
  {
   "cell_type": "code",
   "execution_count": 456,
   "id": "e5e6c4f3-9b60-4c9c-870a-8c6c974b88a9",
   "metadata": {},
   "outputs": [],
   "source": [
    "#Time Frequency estimation \n",
    "freqs = np.arange(1,100)\n",
    "power = mne.decoding.TimeFrequency(freqs, sfreq=250, method='morlet', n_cycles=10, output='power', )\n",
    "run_TF = power.transform(stand_signal)\n",
    "run_TF_on = power.transform(stand_signal_on)"
   ]
  },
  {
   "cell_type": "markdown",
   "id": "fe1c2db4-2fb9-4558-a1b6-7d875f6ece19",
   "metadata": {},
   "source": [
    "## Beta bands of the ecog channels\n",
    "### low beta(13-20Hz), high beta (20-35Hz), full beta (13-35Hz)"
   ]
  },
  {
   "cell_type": "code",
   "execution_count": 457,
   "id": "43983e0e-1d1a-4ac9-8f04-be5983de0384",
   "metadata": {},
   "outputs": [],
   "source": [
    "low_beta_1 = run_TF[0, 12:20,:]\n",
    "high_beta_1 = run_TF[0, 19:35,:]\n",
    "full_beta_1 = run_TF[0, 12:35,:]\n",
    "\n",
    "low_beta_2 = run_TF[1, 12:20,:]\n",
    "high_beta_2 = run_TF[1, 19:35,:]\n",
    "full_beta_2 = run_TF[1, 12:35,:]\n",
    "\n",
    "low_beta_3 = run_TF[2, 12:20,:]\n",
    "high_beta_3 = run_TF[2, 19:35,:]\n",
    "full_beta_3 = run_TF[2, 12:35,:]\n",
    "\n",
    "low_beta_4 = run_TF[3, 12:20,:]\n",
    "high_beta_4 = run_TF[3, 19:35,:]\n",
    "full_beta_4 = run_TF[3, 12:35,:]\n",
    "\n",
    "low_beta_5 = run_TF[4, 12:20,:]\n",
    "high_beta_5 = run_TF[4, 19:35,:]\n",
    "full_beta_5 = run_TF[4, 12:35,:]\n",
    "\n",
    "low_beta_1_on = run_TF_on[0, 12:20,:]\n",
    "high_beta_1_on = run_TF_on[0, 19:35,:]\n",
    "full_beta_1_on = run_TF_on[0, 12:35,:]\n",
    "\n",
    "low_beta_2_on = run_TF_on[1, 12:20,:]\n",
    "high_beta_2_on = run_TF_on[1, 19:35,:]\n",
    "full_beta_2_on = run_TF_on[1, 12:35,:]\n",
    "\n",
    "low_beta_3_on = run_TF_on[2, 12:20,:]\n",
    "high_beta_3_on = run_TF_on[2, 19:35,:]\n",
    "full_beta_3_on = run_TF_on[2, 12:35,:]\n",
    "\n",
    "low_beta_4_on = run_TF_on[3, 12:20,:]\n",
    "high_beta_4_on = run_TF_on[3, 19:35,:]\n",
    "full_beta_4_on = run_TF_on[3, 12:35,:]\n",
    "\n",
    "low_beta_5_on = run_TF_on[4, 12:20,:]\n",
    "high_beta_5_on = run_TF_on[4, 19:35,:]\n",
    "full_beta_5_on = run_TF_on[4, 12:35,:]"
   ]
  },
  {
   "cell_type": "markdown",
   "id": "f1ff22b5-e956-43f7-8191-138e573f859b",
   "metadata": {},
   "source": [
    "## Averaging power in all beta bands in all ecog channel"
   ]
  },
  {
   "cell_type": "code",
   "execution_count": 459,
   "id": "3c0f506f-d312-4cdf-83aa-464dd66c81d4",
   "metadata": {},
   "outputs": [],
   "source": [
    "low_beta_1_averp = np.mean(low_beta_1, axis=0)\n",
    "high_beta_1_averp = np.mean(high_beta_1, axis=0)\n",
    "full_beta_1_averp = np.mean(full_beta_1, axis=0)\n",
    "\n",
    "low_beta_2_averp = np.mean(low_beta_2, axis=0)\n",
    "high_beta_2_averp = np.mean(high_beta_2, axis=0)\n",
    "full_beta_2_averp = np.mean(full_beta_2, axis=0)\n",
    "\n",
    "low_beta_3_averp = np.mean(low_beta_3, axis=0)\n",
    "high_beta_3_averp = np.mean(high_beta_3, axis=0)\n",
    "full_beta_3_averp = np.mean(full_beta_3, axis=0)\n",
    "\n",
    "low_beta_4_averp = np.mean(low_beta_4, axis=0)\n",
    "high_beta_4_averp = np.mean(high_beta_4, axis=0)\n",
    "full_beta_4_averp = np.mean(full_beta_4, axis=0)\n",
    "\n",
    "low_beta_5_averp = np.mean(low_beta_5, axis=0)\n",
    "high_beta_5_averp = np.mean(high_beta_5, axis=0)\n",
    "full_beta_5_averp = np.mean(full_beta_5, axis=0)\n",
    "\n",
    "low_beta_1_averp_on = np.mean(low_beta_1_on, axis=0)\n",
    "high_beta_1_averp_on = np.mean(high_beta_1_on, axis=0)\n",
    "full_beta_1_averp_on = np.mean(full_beta_1_on, axis=0)\n",
    "\n",
    "low_beta_2_averp_on = np.mean(low_beta_2_on, axis=0)\n",
    "high_beta_2_averp_on = np.mean(high_beta_2_on, axis=0)\n",
    "full_beta_2_averp_on = np.mean(full_beta_2_on, axis=0)\n",
    "\n",
    "low_beta_3_averp_on = np.mean(low_beta_3_on, axis=0)\n",
    "high_beta_3_averp_on = np.mean(high_beta_3_on, axis=0)\n",
    "full_beta_3_averp_on = np.mean(full_beta_3_on, axis=0)\n",
    "\n",
    "low_beta_4_averp_on = np.mean(low_beta_4_on, axis=0)\n",
    "high_beta_4_averp_on = np.mean(high_beta_4_on, axis=0)\n",
    "full_beta_4_averp_on = np.mean(full_beta_4_on, axis=0)\n",
    "\n",
    "low_beta_5_averp_on = np.mean(low_beta_5_on, axis=0)\n",
    "high_beta_5_averp_on = np.mean(high_beta_5_on, axis=0)\n",
    "full_beta_5_averp_on = np.mean(full_beta_5_on, axis=0)"
   ]
  },
  {
   "cell_type": "markdown",
   "id": "d4772fde-9499-48ed-b10e-bf1f79918dc1",
   "metadata": {},
   "source": [
    "## Z-Scored averaged beta traces"
   ]
  },
  {
   "cell_type": "code",
   "execution_count": 462,
   "id": "280f38ea-31d9-4306-9f66-5bd593ae4e3c",
   "metadata": {},
   "outputs": [],
   "source": [
    "low_beta_1_averp_norm = stats.zscore(low_beta_1_averp, axis=0)\n",
    "high_beta_1_averp_norm = stats.zscore(high_beta_1_averp, axis=0)\n",
    "full_beta_1_averp_norm = stats.zscore(full_beta_1_averp, axis=0)\n",
    "\n",
    "low_beta_2_averp_norm = stats.zscore(low_beta_2_averp, axis=0)\n",
    "high_beta_2_averp_norm = stats.zscore(high_beta_2_averp, axis=0)\n",
    "full_beta_2_averp_norm = stats.zscore(full_beta_2_averp, axis=0)\n",
    "\n",
    "low_beta_3_averp_norm = stats.zscore(low_beta_3_averp, axis=0)\n",
    "high_beta_3_averp_norm = stats.zscore(high_beta_3_averp, axis=0)\n",
    "full_beta_3_averp_norm = stats.zscore(full_beta_3_averp, axis=0)\n",
    "\n",
    "low_beta_4_averp_norm = stats.zscore(low_beta_4_averp, axis=0)\n",
    "high_beta_4_averp_norm = stats.zscore(high_beta_4_averp, axis=0)\n",
    "full_beta_4_averp_norm = stats.zscore(full_beta_4_averp, axis=0)\n",
    "\n",
    "low_beta_5_averp_norm = stats.zscore(low_beta_5_averp, axis=0)\n",
    "high_beta_5_averp_norm = stats.zscore(high_beta_5_averp, axis=0)\n",
    "full_beta_5_averp_norm = stats.zscore(full_beta_5_averp, axis=0)\n",
    "\n",
    "low_beta_1_averp_norm_on = stats.zscore(low_beta_1_averp_on, axis=0)\n",
    "high_beta_1_averp_norm_on = stats.zscore(high_beta_1_averp_on, axis=0)\n",
    "full_beta_1_averp_norm_on = stats.zscore(full_beta_1_averp_on, axis=0)\n",
    "\n",
    "low_beta_2_averp_norm_on = stats.zscore(low_beta_2_averp_on, axis=0)\n",
    "high_beta_2_averp_norm_on = stats.zscore(high_beta_2_averp_on, axis=0)\n",
    "full_beta_2_averp_norm_on = stats.zscore(full_beta_2_averp_on, axis=0)\n",
    "\n",
    "low_beta_3_averp_norm_on = stats.zscore(low_beta_3_averp_on, axis=0)\n",
    "high_beta_3_averp_norm_on = stats.zscore(high_beta_3_averp_on, axis=0)\n",
    "full_beta_3_averp_norm_on = stats.zscore(full_beta_3_averp_on, axis=0)\n",
    "\n",
    "low_beta_4_averp_norm_on = stats.zscore(low_beta_4_averp_on, axis=0)\n",
    "high_beta_4_averp_norm_on = stats.zscore(high_beta_4_averp_on, axis=0)\n",
    "full_beta_4_averp_norm_on = stats.zscore(full_beta_4_averp_on, axis=0)\n",
    "\n",
    "low_beta_5_averp_norm_on = stats.zscore(low_beta_5_averp_on, axis=0)\n",
    "high_beta_5_averp_norm_on = stats.zscore(high_beta_5_averp_on, axis=0)\n",
    "full_beta_5_averp_norm_on = stats.zscore(full_beta_5_averp_on, axis=0)"
   ]
  },
  {
   "cell_type": "markdown",
   "id": "f871a124-3c55-4706-9810-470c76bfab32",
   "metadata": {},
   "source": [
    "## 75th percentile of these vectors "
   ]
  },
  {
   "cell_type": "code",
   "execution_count": 463,
   "id": "ca04817f-20c6-4c0c-849f-a2da7fae7cad",
   "metadata": {},
   "outputs": [],
   "source": [
    "low_beta_1_thr = np.percentile(low_beta_1_averp_norm, 75)\n",
    "high_beta_1_thr = np.percentile(high_beta_1_averp_norm, 75)\n",
    "full_beta_1_thr = np.percentile(full_beta_1_averp_norm, 75)\n",
    "\n",
    "low_beta_2_thr = np.percentile(low_beta_2_averp_norm, 75)\n",
    "high_beta_2_thr = np.percentile(high_beta_2_averp_norm, 75)\n",
    "full_beta_2_thr = np.percentile(full_beta_2_averp_norm, 75)\n",
    "\n",
    "low_beta_3_thr = np.percentile(low_beta_3_averp_norm, 75)\n",
    "high_beta_3_thr = np.percentile(high_beta_3_averp_norm, 75)\n",
    "full_beta_3_thr = np.percentile(full_beta_3_averp_norm, 75)\n",
    "\n",
    "low_beta_4_thr = np.percentile(low_beta_4_averp_norm, 75)\n",
    "high_beta_4_thr = np.percentile(high_beta_4_averp_norm, 75)\n",
    "full_beta_4_thr = np.percentile(full_beta_4_averp_norm, 75)\n",
    "\n",
    "low_beta_5_thr = np.percentile(low_beta_5_averp_norm, 75)\n",
    "high_beta_5_thr = np.percentile(high_beta_5_averp_norm, 75)\n",
    "full_beta_5_thr = np.percentile(full_beta_5_averp_norm, 75)\n",
    "\n",
    "low_beta_1_thr_on = np.percentile(low_beta_1_averp_norm_on, 75)\n",
    "high_beta_1_thr_on = np.percentile(high_beta_1_averp_norm_on, 75)\n",
    "full_beta_1_thr_on = np.percentile(full_beta_1_averp_norm_on, 75)\n",
    "\n",
    "low_beta_2_thr_on = np.percentile(low_beta_2_averp_norm_on, 75)\n",
    "high_beta_2_thr_on = np.percentile(high_beta_2_averp_norm_on, 75)\n",
    "full_beta_2_thr_on = np.percentile(full_beta_2_averp_norm_on, 75)\n",
    "\n",
    "low_beta_3_thr_on = np.percentile(low_beta_3_averp_norm_on, 75)\n",
    "high_beta_3_thr_on = np.percentile(high_beta_3_averp_norm_on, 75)\n",
    "full_beta_3_thr_on = np.percentile(full_beta_3_averp_norm_on, 75)\n",
    "\n",
    "low_beta_4_thr_on = np.percentile(low_beta_4_averp_norm_on, 75)\n",
    "high_beta_4_thr_on = np.percentile(high_beta_4_averp_norm_on, 75)\n",
    "full_beta_4_thr_on = np.percentile(full_beta_4_averp_norm_on, 75)\n",
    "\n",
    "low_beta_5_thr_on = np.percentile(low_beta_5_averp_norm_on, 75)\n",
    "high_beta_5_thr_on = np.percentile(high_beta_5_averp_norm_on, 75)\n",
    "full_beta_5_thr_on = np.percentile(full_beta_5_averp_norm_on, 75)"
   ]
  },
  {
   "cell_type": "markdown",
   "id": "4bbee623-ba59-4d3e-b827-2715fefc036c",
   "metadata": {},
   "source": [
    "# Analysing the duration of beta burst \n"
   ]
  },
  {
   "cell_type": "code",
   "execution_count": 464,
   "id": "1d03f083-4989-4021-bfe6-6169f95505d9",
   "metadata": {},
   "outputs": [],
   "source": [
    "def get_burst_length(beta_averp_norm,beta_thr, sfreq=250):\n",
    "    deriv = np.diff (beta_averp_norm >= beta_thr) \n",
    "    isburst = False\n",
    "    burst_length = []\n",
    "    burst_start = 0\n",
    "\n",
    "    for index, i in enumerate(deriv):\n",
    "        if i == True:\n",
    "            if isburst == True:\n",
    "                burst_length.append(index - burst_start)\n",
    "\n",
    "                isburst = False\n",
    "            else:\n",
    "                burst_start = index\n",
    "                isburst = True\n",
    "    burst_length = np.array(burst_length)/sfreq\n",
    "    \n",
    "    return burst_length   "
   ]
  },
  {
   "cell_type": "markdown",
   "id": "ef462cee-f30d-4b11-935f-34646c6dbf83",
   "metadata": {},
   "source": [
    "## burst_length of full beta in all ECOG channels"
   ]
  },
  {
   "cell_type": "code",
   "execution_count": 507,
   "id": "eac378f5-2fa8-4fe2-8b7d-4693a0680d40",
   "metadata": {},
   "outputs": [],
   "source": [
    "burst_length_1 = get_burst_length(full_beta_1_averp_norm,full_beta_1_thr, sfreq = 250)\n",
    "burst_length_2 = get_burst_length(full_beta_2_averp_norm,full_beta_2_thr, sfreq = 250)\n",
    "burst_length_3 = get_burst_length(full_beta_3_averp_norm,full_beta_3_thr, sfreq = 250)\n",
    "burst_length_4 = get_burst_length(full_beta_4_averp_norm,full_beta_4_thr, sfreq = 250)\n",
    "burst_length_5 = get_burst_length(full_beta_5_averp_norm,full_beta_5_thr, sfreq = 250)\n",
    "\n",
    "burst_length_1_on = get_burst_length(full_beta_1_averp_norm_on,full_beta_1_thr_on, sfreq = 250)\n",
    "burst_length_2_on = get_burst_length(full_beta_2_averp_norm_on,full_beta_2_thr_on, sfreq = 250)\n",
    "burst_length_3_on = get_burst_length(full_beta_3_averp_norm_on,full_beta_3_thr_on, sfreq = 250)\n",
    "burst_length_4_on = get_burst_length(full_beta_4_averp_norm_on,full_beta_4_thr_on, sfreq = 250)\n",
    "burst_length_5_on = get_burst_length(full_beta_5_averp_norm_on,full_beta_5_thr_on, sfreq = 250)"
   ]
  },
  {
   "cell_type": "code",
   "execution_count": 508,
   "id": "2cb04c82-97cd-4835-9e9c-30b2a78d0590",
   "metadata": {},
   "outputs": [],
   "source": [
    "burst_duration_1 = [ i for i in burst_length_1 if i >= 0.1]\n",
    "burst_duration_2 = [ i for i in burst_length_2 if i >= 0.1]\n",
    "burst_duration_3 = [ i for i in burst_length_3 if i >= 0.1]\n",
    "burst_duration_4 = [ i for i in burst_length_4 if i >= 0.1]\n",
    "burst_duration_5 = [ i for i in burst_length_5 if i >= 0.1]\n",
    "\n",
    "burst_duration_1_on = [ i for i in burst_length_1_on if i >= 0.1]\n",
    "burst_duration_2_on = [ i for i in burst_length_2_on if i >= 0.1]\n",
    "burst_duration_3_on = [ i for i in burst_length_3_on if i >= 0.1]\n",
    "burst_duration_4_on = [ i for i in burst_length_4_on if i >= 0.1]\n",
    "burst_duration_5_on = [ i for i in burst_length_5_on if i >= 0.1]"
   ]
  },
  {
   "cell_type": "markdown",
   "id": "87e2c30a-6945-47ef-bc89-9bc5944c9da1",
   "metadata": {},
   "source": [
    "## Histogram of burst duration"
   ]
  },
  {
   "cell_type": "code",
   "execution_count": 509,
   "id": "d3c9311b-4732-4d1f-b16e-6908e1ca4302",
   "metadata": {},
   "outputs": [],
   "source": [
    "hist_dur_1, bins = np.histogram(burst_duration_1,density=False, bins=20, range=(0, 2))\n",
    "hist_dur_2, bins = np.histogram(burst_duration_2,density=False, bins=20, range=(0, 2))\n",
    "hist_dur_3, bins = np.histogram(burst_duration_3,density=False, bins=20, range=(0, 2))\n",
    "hist_dur_4, bins = np.histogram(burst_duration_4,density=False, bins=20, range=(0, 2))\n",
    "hist_dur_5, bins = np.histogram(burst_duration_5,density=False, bins=20, range=(0, 2))\n",
    "\n",
    "hist_dur_1_on, bins = np.histogram(burst_duration_1_on,density=False, bins=20, range=(0, 2))\n",
    "hist_dur_2_on, bins = np.histogram(burst_duration_2_on,density=False, bins=20, range=(0, 2))\n",
    "hist_dur_3_on, bins = np.histogram(burst_duration_3_on,density=False, bins=20, range=(0, 2))\n",
    "hist_dur_4_on, bins = np.histogram(burst_duration_4_on,density=False, bins=20, range=(0, 2))\n",
    "hist_dur_5_on, bins = np.histogram(burst_duration_5_on,density=False, bins=20, range=(0, 2))"
   ]
  },
  {
   "cell_type": "code",
   "execution_count": 511,
   "id": "334ca645-e16b-4187-bc4c-a69cde83f002",
   "metadata": {},
   "outputs": [
    {
     "data": {
      "text/plain": [
       "734"
      ]
     },
     "execution_count": 511,
     "metadata": {},
     "output_type": "execute_result"
    }
   ],
   "source": [
    "burst_length_1.shape[0]"
   ]
  },
  {
   "cell_type": "code",
   "execution_count": 512,
   "id": "0e78f7b9-b3bc-4235-8ab2-befa02fdae77",
   "metadata": {},
   "outputs": [
    {
     "data": {
      "text/plain": [
       "522"
      ]
     },
     "execution_count": 512,
     "metadata": {},
     "output_type": "execute_result"
    }
   ],
   "source": [
    "len(burst_duration_1)"
   ]
  },
  {
   "cell_type": "markdown",
   "id": "9ad447d1-a4f0-4af9-b814-0c305d875264",
   "metadata": {},
   "source": [
    "## Normed Histogram of burst duration"
   ]
  },
  {
   "cell_type": "code",
   "execution_count": 513,
   "id": "fa679b85-7ef0-405b-9d9e-403ae9a1b231",
   "metadata": {},
   "outputs": [],
   "source": [
    "normed_hist_1 = 100*hist_dur_1 / len(burst_duration_1)\n",
    "normed_hist_2 = 100*hist_dur_2 / len(burst_duration_2)\n",
    "normed_hist_3= 100*hist_dur_3 / len(burst_duration_3)\n",
    "normed_hist_4= 100*hist_dur_4 / len(burst_duration_4)\n",
    "normed_hist_5 = 100*hist_dur_5 / len(burst_duration_5)\n",
    "\n",
    "normed_hist_1_on = 100*hist_dur_1_on / len(burst_duration_1_on)\n",
    "normed_hist_2_on = 100*hist_dur_2_on / len(burst_duration_2_on)\n",
    "normed_hist_3_on = 100*hist_dur_3_on / len(burst_duration_3_on)\n",
    "normed_hist_4_on = 100*hist_dur_4_on / len(burst_duration_4_on)\n",
    "normed_hist_5_on = 100*hist_dur_5_on / len(burst_duration_5_on)"
   ]
  },
  {
   "cell_type": "markdown",
   "id": "85a50323-90f1-467a-813c-4f13f4470ee6",
   "metadata": {},
   "source": [
    "# ECOG Biomarker comparison"
   ]
  },
  {
   "cell_type": "markdown",
   "id": "66480a66-51bb-4fd3-ac34-c81dbd85b7c1",
   "metadata": {},
   "source": [
    "## Power Spectral Density | Figure 1A"
   ]
  },
  {
   "cell_type": "code",
   "execution_count": 514,
   "id": "f3047304-489f-4b80-ba73-474519a0e877",
   "metadata": {},
   "outputs": [],
   "source": [
    "power_spectrum_for_channel_0 = np.nanmean(np.squeeze(run_TF[0,:,:]), axis=1)\n",
    "power_spectrum_for_channel_1 = np.nanmean(np.squeeze(run_TF[1,:,:]), axis=1)\n",
    "power_spectrum_for_channel_2 = np.nanmean(np.squeeze(run_TF[2,:,:]), axis=1)\n",
    "power_spectrum_for_channel_3 = np.nanmean(np.squeeze(run_TF[3,:,:]), axis=1)\n",
    "power_spectrum_for_channel_4 = np.nanmean(np.squeeze(run_TF[4,:,:]), axis=1)\n",
    "\n",
    "power_spectrum_for_channel_0_on = np.nanmean(np.squeeze(run_TF_on[0,:,:]), axis=1)\n",
    "power_spectrum_for_channel_1_on = np.nanmean(np.squeeze(run_TF_on[1,:,:]), axis=1)\n",
    "power_spectrum_for_channel_2_on = np.nanmean(np.squeeze(run_TF_on[2,:,:]), axis=1)\n",
    "power_spectrum_for_channel_3_on = np.nanmean(np.squeeze(run_TF_on[3,:,:]), axis=1)\n",
    "power_spectrum_for_channel_4_on = np.nanmean(np.squeeze(run_TF_on[4,:,:]), axis=1)"
   ]
  },
  {
   "cell_type": "code",
   "execution_count": 515,
   "id": "fba98171-4d1c-45a5-9148-de3652147291",
   "metadata": {},
   "outputs": [],
   "source": [
    "npow_0 = power_spectrum_for_channel_0/np.sum(power_spectrum_for_channel_0[4:45] + power_spectrum_for_channel_0[54:95])\n",
    "npow_1 = power_spectrum_for_channel_1/np.sum(power_spectrum_for_channel_1[4:45] + power_spectrum_for_channel_1[54:95])\n",
    "npow_2 = power_spectrum_for_channel_2/np.sum(power_spectrum_for_channel_2[4:45] + power_spectrum_for_channel_2[54:95])\n",
    "npow_3 = power_spectrum_for_channel_3/np.sum(power_spectrum_for_channel_3[4:45] + power_spectrum_for_channel_3[54:95])\n",
    "npow_4 = power_spectrum_for_channel_4/np.sum(power_spectrum_for_channel_4[4:45] + power_spectrum_for_channel_4[54:95])\n",
    "\n",
    "npow_0_on = power_spectrum_for_channel_0_on/np.sum(power_spectrum_for_channel_0_on[4:45] + power_spectrum_for_channel_0_on[54:95])\n",
    "npow_1_on = power_spectrum_for_channel_1_on/np.sum(power_spectrum_for_channel_1_on[4:45] + power_spectrum_for_channel_1_on[54:95])\n",
    "npow_2_on = power_spectrum_for_channel_2_on/np.sum(power_spectrum_for_channel_2_on[4:45] + power_spectrum_for_channel_2_on[54:95])\n",
    "npow_3_on = power_spectrum_for_channel_3_on/np.sum(power_spectrum_for_channel_3_on[4:45] + power_spectrum_for_channel_3_on[54:95])\n",
    "npow_4_on = power_spectrum_for_channel_4_on/np.sum(power_spectrum_for_channel_4_on[4:45] + power_spectrum_for_channel_4_on[54:95])"
   ]
  },
  {
   "cell_type": "markdown",
   "id": "cab6c859-b9f5-4e52-a7a7-ef810208d427",
   "metadata": {},
   "source": [
    "## Normed Histogram of Duration 1B"
   ]
  },
  {
   "cell_type": "code",
   "execution_count": 528,
   "id": "faffe2bb-949e-4b5b-9c42-5eba8f50f37e",
   "metadata": {},
   "outputs": [],
   "source": [
    "prob_lg_bursts_1=normed_hist_1[np.arange(8,20,1)].sum()\n",
    "prob_lg_bursts_1_on=normed_hist_1_on[np.arange(8,20,1)].sum()\n",
    "\n",
    "prob_lg_bursts_2=normed_hist_2[np.arange(8,20,1)].sum()\n",
    "prob_lg_bursts_2_on=normed_hist_2_on[np.arange(8,20,1)].sum()\n",
    "\n",
    "prob_lg_bursts_3=normed_hist_3[np.arange(8,20,1)].sum()\n",
    "prob_lg_bursts_3_on=normed_hist_3_on[np.arange(8,20,1)].sum()\n",
    "\n",
    "prob_lg_bursts_4=normed_hist_4[np.arange(8,20,1)].sum()\n",
    "prob_lg_bursts_4_on=normed_hist_4_on[np.arange(8,20,1)].sum()\n",
    "\n",
    "prob_lg_bursts_5=normed_hist_5[np.arange(8,20,1)].sum()\n",
    "prob_lg_bursts_5_on=normed_hist_5_on[np.arange(8,20,1)].sum()"
   ]
  },
  {
   "cell_type": "code",
   "execution_count": 553,
   "id": "572e9cb2-17a0-421a-94c6-1b633b9eaf21",
   "metadata": {},
   "outputs": [],
   "source": [
    "array_ot_bursts_1 = normed_hist_1[np.arange(0,8)]\n",
    "array_ot_bursts_1_on = normed_hist_1_on[np.arange(0,8)]\n",
    "arr_sh_bursts_1 = np.delete(array_ot_bursts_1,0)\n",
    "arr_sh_bursts_1_on = np.delete(array_ot_bursts_1_on,0)\n",
    "\n",
    "array_ot_bursts_2 = normed_hist_2[np.arange(0,8)]\n",
    "array_ot_bursts_2_on = normed_hist_2_on[np.arange(0,8)]\n",
    "arr_sh_bursts_2 = np.delete(array_ot_bursts_2,0)\n",
    "arr_sh_bursts_2_on = np.delete(array_ot_bursts_2_on,0)\n",
    "\n",
    "array_ot_bursts_3 = normed_hist_3[np.arange(0,8)]\n",
    "array_ot_bursts_3_on = normed_hist_3_on[np.arange(0,8)]\n",
    "arr_sh_bursts_3 = np.delete(array_ot_bursts_3,0)\n",
    "arr_sh_bursts_3_on = np.delete(array_ot_bursts_3_on,0)\n",
    "\n",
    "array_ot_bursts_4 = normed_hist_4[np.arange(0,8)]\n",
    "array_ot_bursts_4_on = normed_hist_4_on[np.arange(0,8)]\n",
    "arr_sh_bursts_4 = np.delete(array_ot_bursts_4,0)\n",
    "arr_sh_bursts_4_on = np.delete(array_ot_bursts_4_on,0)\n",
    "\n",
    "array_ot_bursts_5 = normed_hist_5[np.arange(0,8)]\n",
    "array_ot_bursts_5_on = normed_hist_5_on[np.arange(0,8)]\n",
    "arr_sh_bursts_5 = np.delete(array_ot_bursts_5,0)\n",
    "arr_sh_bursts_5_on = np.delete(array_ot_bursts_5_on,0)"
   ]
  },
  {
   "cell_type": "code",
   "execution_count": 554,
   "id": "4699751e-7f18-404b-a9b0-a55701de1f04",
   "metadata": {},
   "outputs": [
    {
     "data": {
      "text/plain": [
       "array([52.65957447, 23.22695035, 10.9929078 ,  5.67375887,  2.30496454,\n",
       "        2.12765957,  1.24113475])"
      ]
     },
     "execution_count": 554,
     "metadata": {},
     "output_type": "execute_result"
    }
   ],
   "source": [
    "arr_sh_bursts_3"
   ]
  },
  {
   "cell_type": "code",
   "execution_count": 556,
   "id": "b87e99b1-2195-4ecf-88ae-ede970dea5f5",
   "metadata": {},
   "outputs": [],
   "source": [
    "burst_prob_dur_1 = np.append(arr_sh_bursts_1,prob_lg_bursts_1)\n",
    "burst_prob_dur_1_on = np.append(arr_sh_bursts_1_on,prob_lg_bursts_1_on)\n",
    "\n",
    "burst_prob_dur_2 = np.append(arr_sh_bursts_2,prob_lg_bursts_2)\n",
    "burst_prob_dur_2_on = np.append(arr_sh_bursts_2_on,prob_lg_bursts_2_on)\n",
    "\n",
    "burst_prob_dur_3 = np.append(arr_sh_bursts_3,prob_lg_bursts_3)\n",
    "burst_prob_dur_3_on = np.append(arr_sh_bursts_3_on,prob_lg_bursts_3_on)\n",
    "\n",
    "burst_prob_dur_4 = np.append(arr_sh_bursts_4,prob_lg_bursts_4)\n",
    "burst_prob_dur_4_on = np.append(arr_sh_bursts_4_on,prob_lg_bursts_4_on)\n",
    "\n",
    "burst_prob_dur_5 = np.append(arr_sh_bursts_5,prob_lg_bursts_5)\n",
    "burst_prob_dur_5_on = np.append(arr_sh_bursts_5_on,prob_lg_bursts_5_on)"
   ]
  },
  {
   "cell_type": "code",
   "execution_count": 557,
   "id": "0f1136cd-623f-467c-9ed3-d901cd502bad",
   "metadata": {},
   "outputs": [],
   "source": [
    "bins_dur=[0.1,0.2,0.3,0.4,0.5,0.6,0.7,'>0.8'] "
   ]
  },
  {
   "cell_type": "code",
   "execution_count": 558,
   "id": "f282e7a0-0aac-436b-ba15-a5d5687598d3",
   "metadata": {},
   "outputs": [],
   "source": [
    "df_probdur_1 = pd.DataFrame(data=[bins_dur,burst_prob_dur_1]) \n",
    "df_probdur_1_on = pd.DataFrame(data=[bins_dur,burst_prob_dur_1_on]) \n",
    "\n",
    "df_probdur_2 = pd.DataFrame(data=[bins_dur,burst_prob_dur_2]) \n",
    "df_probdur_2_on = pd.DataFrame(data=[bins_dur,burst_prob_dur_2_on]) \n",
    "\n",
    "df_probdur_3 = pd.DataFrame(data=[bins_dur,burst_prob_dur_3]) \n",
    "df_probdur_3_on = pd.DataFrame(data=[bins_dur,burst_prob_dur_3_on]) \n",
    "\n",
    "df_probdur_4 = pd.DataFrame(data=[bins_dur,burst_prob_dur_4]) \n",
    "df_probdur_4_on = pd.DataFrame(data=[bins_dur,burst_prob_dur_4_on]) \n",
    "\n",
    "df_probdur_5 = pd.DataFrame(data=[bins_dur,burst_prob_dur_5]) \n",
    "df_probdur_5_on = pd.DataFrame(data=[bins_dur,burst_prob_dur_5_on]) "
   ]
  },
  {
   "cell_type": "code",
   "execution_count": 559,
   "id": "4604c745-0de2-4387-9018-b26ab49b9474",
   "metadata": {},
   "outputs": [],
   "source": [
    "df_probdur_t_1 =df_probdur_1.T\n",
    "df_probdur_t_1_on =df_probdur_1_on.T\n",
    "\n",
    "df_probdur_t_2 =df_probdur_2.T\n",
    "df_probdur_t_2_on =df_probdur_2_on.T\n",
    "\n",
    "df_probdur_t_3 =df_probdur_3.T\n",
    "df_probdur_t_3_on =df_probdur_3_on.T\n",
    "\n",
    "df_probdur_t_4 =df_probdur_4.T\n",
    "df_probdur_t_4_on =df_probdur_4_on.T\n",
    "\n",
    "df_probdur_t_5 =df_probdur_5.T\n",
    "df_probdur_t_5_on =df_probdur_5_on.T"
   ]
  },
  {
   "cell_type": "code",
   "execution_count": 560,
   "id": "d094039c-7d07-474e-b4ff-9d7f5587ec2b",
   "metadata": {},
   "outputs": [],
   "source": [
    "df_probdur_t_r_1 = df_probdur_t_1.rename(columns={0: \"Burst Duration (s)\",1:'Burst Probability (%)'})\n",
    "df_probdur_t_r_1_on = df_probdur_t_1_on.rename(columns={0: \"Burst Duration (s)\",1:'Burst Probability (%)'})\n",
    "\n",
    "df_probdur_t_r_2 = df_probdur_t_2.rename(columns={0: \"Burst Duration (s)\",1:'Burst Probability (%)'})\n",
    "df_probdur_t_r_2_on = df_probdur_t_2_on.rename(columns={0: \"Burst Duration (s)\",1:'Burst Probability (%)'})\n",
    "\n",
    "df_probdur_t_r_3 = df_probdur_t_3.rename(columns={0: \"Burst Duration (s)\",1:'Burst Probability (%)'})\n",
    "df_probdur_t_r_3_on = df_probdur_t_3_on.rename(columns={0: \"Burst Duration (s)\",1:'Burst Probability (%)'})\n",
    "\n",
    "df_probdur_t_r_4 = df_probdur_t_4.rename(columns={0: \"Burst Duration (s)\",1:'Burst Probability (%)'})\n",
    "df_probdur_t_r_4_on = df_probdur_t_4_on.rename(columns={0: \"Burst Duration (s)\",1:'Burst Probability (%)'})\n",
    "\n",
    "df_probdur_t_r_5 = df_probdur_t_5.rename(columns={0: \"Burst Duration (s)\",1:'Burst Probability (%)'})\n",
    "df_probdur_t_r_5_on = df_probdur_t_5_on.rename(columns={0: \"Burst Duration (s)\",1:'Burst Probability (%)'})"
   ]
  },
  {
   "cell_type": "code",
   "execution_count": 561,
   "id": "58a64347-9408-40e4-9c4c-8a2ca9089aa0",
   "metadata": {},
   "outputs": [],
   "source": [
    "df_probdur_t_r_m_1 = df_probdur_t_r_1.assign(Medication = 'OFF')\n",
    "df_probdur_t_r_m_1_on = df_probdur_t_r_1_on.assign(Medication = 'ON')\n",
    "\n",
    "df_probdur_t_r_m_2 = df_probdur_t_r_2.assign(Medication = 'OFF')\n",
    "df_probdur_t_r_m_2_on = df_probdur_t_r_2_on.assign(Medication = 'ON')\n",
    "\n",
    "df_probdur_t_r_m_3 = df_probdur_t_r_3.assign(Medication = 'OFF')\n",
    "df_probdur_t_r_m_3_on = df_probdur_t_r_3_on.assign(Medication = 'ON')\n",
    "\n",
    "df_probdur_t_r_m_4 = df_probdur_t_r_4.assign(Medication = 'OFF')\n",
    "df_probdur_t_r_m_4_on = df_probdur_t_r_4_on.assign(Medication = 'ON')\n",
    "\n",
    "df_probdur_t_r_m_5 = df_probdur_t_r_5.assign(Medication = 'OFF')\n",
    "df_probdur_t_r_m_5_on = df_probdur_t_r_5_on.assign(Medication = 'ON')"
   ]
  },
  {
   "cell_type": "code",
   "execution_count": 562,
   "id": "f4adb817-4677-4da1-85cb-803de4a1b93a",
   "metadata": {},
   "outputs": [],
   "source": [
    "cdf_probdur_1 = pd.concat([df_probdur_t_r_m_1, df_probdur_t_r_m_1_on])\n",
    "cdf_probdur_2 = pd.concat([df_probdur_t_r_m_2, df_probdur_t_r_m_2_on])\n",
    "cdf_probdur_3 = pd.concat([df_probdur_t_r_m_3, df_probdur_t_r_m_3_on])\n",
    "cdf_probdur_4 = pd.concat([df_probdur_t_r_m_4, df_probdur_t_r_m_4_on])\n",
    "cdf_probdur_5 = pd.concat([df_probdur_t_r_m_5, df_probdur_t_r_m_5_on])"
   ]
  },
  {
   "cell_type": "code",
   "execution_count": 563,
   "id": "7d35588a-167b-42a6-a5bc-298bd09ebd45",
   "metadata": {},
   "outputs": [
    {
     "data": {
      "text/html": [
       "<div>\n",
       "<style scoped>\n",
       "    .dataframe tbody tr th:only-of-type {\n",
       "        vertical-align: middle;\n",
       "    }\n",
       "\n",
       "    .dataframe tbody tr th {\n",
       "        vertical-align: top;\n",
       "    }\n",
       "\n",
       "    .dataframe thead th {\n",
       "        text-align: right;\n",
       "    }\n",
       "</style>\n",
       "<table border=\"1\" class=\"dataframe\">\n",
       "  <thead>\n",
       "    <tr style=\"text-align: right;\">\n",
       "      <th></th>\n",
       "      <th>Burst Duration (s)</th>\n",
       "      <th>Burst Probability (%)</th>\n",
       "      <th>Medication</th>\n",
       "    </tr>\n",
       "  </thead>\n",
       "  <tbody>\n",
       "    <tr>\n",
       "      <th>0</th>\n",
       "      <td>0.1</td>\n",
       "      <td>49.192101</td>\n",
       "      <td>OFF</td>\n",
       "    </tr>\n",
       "    <tr>\n",
       "      <th>1</th>\n",
       "      <td>0.2</td>\n",
       "      <td>26.929982</td>\n",
       "      <td>OFF</td>\n",
       "    </tr>\n",
       "    <tr>\n",
       "      <th>2</th>\n",
       "      <td>0.3</td>\n",
       "      <td>8.976661</td>\n",
       "      <td>OFF</td>\n",
       "    </tr>\n",
       "    <tr>\n",
       "      <th>3</th>\n",
       "      <td>0.4</td>\n",
       "      <td>7.360862</td>\n",
       "      <td>OFF</td>\n",
       "    </tr>\n",
       "    <tr>\n",
       "      <th>4</th>\n",
       "      <td>0.5</td>\n",
       "      <td>3.770197</td>\n",
       "      <td>OFF</td>\n",
       "    </tr>\n",
       "    <tr>\n",
       "      <th>5</th>\n",
       "      <td>0.6</td>\n",
       "      <td>1.256732</td>\n",
       "      <td>OFF</td>\n",
       "    </tr>\n",
       "    <tr>\n",
       "      <th>6</th>\n",
       "      <td>0.7</td>\n",
       "      <td>0.5386</td>\n",
       "      <td>OFF</td>\n",
       "    </tr>\n",
       "    <tr>\n",
       "      <th>7</th>\n",
       "      <td>&gt;0.8</td>\n",
       "      <td>1.974865</td>\n",
       "      <td>OFF</td>\n",
       "    </tr>\n",
       "    <tr>\n",
       "      <th>0</th>\n",
       "      <td>0.1</td>\n",
       "      <td>51.546392</td>\n",
       "      <td>ON</td>\n",
       "    </tr>\n",
       "    <tr>\n",
       "      <th>1</th>\n",
       "      <td>0.2</td>\n",
       "      <td>26.030928</td>\n",
       "      <td>ON</td>\n",
       "    </tr>\n",
       "    <tr>\n",
       "      <th>2</th>\n",
       "      <td>0.3</td>\n",
       "      <td>9.278351</td>\n",
       "      <td>ON</td>\n",
       "    </tr>\n",
       "    <tr>\n",
       "      <th>3</th>\n",
       "      <td>0.4</td>\n",
       "      <td>6.185567</td>\n",
       "      <td>ON</td>\n",
       "    </tr>\n",
       "    <tr>\n",
       "      <th>4</th>\n",
       "      <td>0.5</td>\n",
       "      <td>3.608247</td>\n",
       "      <td>ON</td>\n",
       "    </tr>\n",
       "    <tr>\n",
       "      <th>5</th>\n",
       "      <td>0.6</td>\n",
       "      <td>1.546392</td>\n",
       "      <td>ON</td>\n",
       "    </tr>\n",
       "    <tr>\n",
       "      <th>6</th>\n",
       "      <td>0.7</td>\n",
       "      <td>0.257732</td>\n",
       "      <td>ON</td>\n",
       "    </tr>\n",
       "    <tr>\n",
       "      <th>7</th>\n",
       "      <td>&gt;0.8</td>\n",
       "      <td>1.546392</td>\n",
       "      <td>ON</td>\n",
       "    </tr>\n",
       "  </tbody>\n",
       "</table>\n",
       "</div>"
      ],
      "text/plain": [
       "  Burst Duration (s) Burst Probability (%) Medication\n",
       "0                0.1             49.192101        OFF\n",
       "1                0.2             26.929982        OFF\n",
       "2                0.3              8.976661        OFF\n",
       "3                0.4              7.360862        OFF\n",
       "4                0.5              3.770197        OFF\n",
       "5                0.6              1.256732        OFF\n",
       "6                0.7                0.5386        OFF\n",
       "7               >0.8              1.974865        OFF\n",
       "0                0.1             51.546392         ON\n",
       "1                0.2             26.030928         ON\n",
       "2                0.3              9.278351         ON\n",
       "3                0.4              6.185567         ON\n",
       "4                0.5              3.608247         ON\n",
       "5                0.6              1.546392         ON\n",
       "6                0.7              0.257732         ON\n",
       "7               >0.8              1.546392         ON"
      ]
     },
     "execution_count": 563,
     "metadata": {},
     "output_type": "execute_result"
    }
   ],
   "source": [
    "cdf_probdur_4"
   ]
  },
  {
   "cell_type": "markdown",
   "id": "e0db7e2a-5c45-46ef-b282-826ec79480fd",
   "metadata": {},
   "source": [
    "## Mean Duration 1C"
   ]
  },
  {
   "cell_type": "code",
   "execution_count": 583,
   "id": "af349df7-0c44-4512-8f6c-a773029159b5",
   "metadata": {},
   "outputs": [],
   "source": [
    "df4 = pd.DataFrame(burst_duration_4)\n",
    "df4_on = pd.DataFrame(burst_duration_4_on) "
   ]
  },
  {
   "cell_type": "code",
   "execution_count": 584,
   "id": "eed44aea-4c22-492b-b69f-95e8c1300446",
   "metadata": {},
   "outputs": [],
   "source": [
    "df4_m = df4.assign(Location ='ECOG_L4-L5_SMC_AT',Medication = 'OFF')\n",
    "df4_m_on = df4_on.assign(Location ='ECOG_L4-L5_SMC_AT',Medication = 'ON')"
   ]
  },
  {
   "cell_type": "code",
   "execution_count": 585,
   "id": "106eeb37-417b-44fc-bb52-ea080b979e96",
   "metadata": {},
   "outputs": [],
   "source": [
    "df4_m_r = df4_m.rename(columns={0: \"Burst Duration (s)\"})\n",
    "df4_m_r_on = df4_m_on.rename(columns={0: \"Burst Duration (s)\"})"
   ]
  },
  {
   "cell_type": "code",
   "execution_count": 586,
   "id": "a746a863-b57d-49d3-9705-3506ba61b3d1",
   "metadata": {},
   "outputs": [],
   "source": [
    "cdf4 = pd.concat([df4_m_r,df4_m_r_on])"
   ]
  },
  {
   "cell_type": "code",
   "execution_count": 587,
   "id": "a4dedc25-fbee-4bac-94db-606d24860bd5",
   "metadata": {},
   "outputs": [
    {
     "data": {
      "text/html": [
       "<div>\n",
       "<style scoped>\n",
       "    .dataframe tbody tr th:only-of-type {\n",
       "        vertical-align: middle;\n",
       "    }\n",
       "\n",
       "    .dataframe tbody tr th {\n",
       "        vertical-align: top;\n",
       "    }\n",
       "\n",
       "    .dataframe thead th {\n",
       "        text-align: right;\n",
       "    }\n",
       "</style>\n",
       "<table border=\"1\" class=\"dataframe\">\n",
       "  <thead>\n",
       "    <tr style=\"text-align: right;\">\n",
       "      <th></th>\n",
       "      <th>Burst Duration (s)</th>\n",
       "      <th>Location</th>\n",
       "      <th>Medication</th>\n",
       "    </tr>\n",
       "  </thead>\n",
       "  <tbody>\n",
       "    <tr>\n",
       "      <th>0</th>\n",
       "      <td>0.132</td>\n",
       "      <td>ECOG_L4-L5_SMC_AT</td>\n",
       "      <td>OFF</td>\n",
       "    </tr>\n",
       "    <tr>\n",
       "      <th>1</th>\n",
       "      <td>0.968</td>\n",
       "      <td>ECOG_L4-L5_SMC_AT</td>\n",
       "      <td>OFF</td>\n",
       "    </tr>\n",
       "    <tr>\n",
       "      <th>2</th>\n",
       "      <td>0.772</td>\n",
       "      <td>ECOG_L4-L5_SMC_AT</td>\n",
       "      <td>OFF</td>\n",
       "    </tr>\n",
       "    <tr>\n",
       "      <th>3</th>\n",
       "      <td>0.912</td>\n",
       "      <td>ECOG_L4-L5_SMC_AT</td>\n",
       "      <td>OFF</td>\n",
       "    </tr>\n",
       "    <tr>\n",
       "      <th>4</th>\n",
       "      <td>0.268</td>\n",
       "      <td>ECOG_L4-L5_SMC_AT</td>\n",
       "      <td>OFF</td>\n",
       "    </tr>\n",
       "    <tr>\n",
       "      <th>...</th>\n",
       "      <td>...</td>\n",
       "      <td>...</td>\n",
       "      <td>...</td>\n",
       "    </tr>\n",
       "    <tr>\n",
       "      <th>383</th>\n",
       "      <td>0.220</td>\n",
       "      <td>ECOG_L4-L5_SMC_AT</td>\n",
       "      <td>ON</td>\n",
       "    </tr>\n",
       "    <tr>\n",
       "      <th>384</th>\n",
       "      <td>0.180</td>\n",
       "      <td>ECOG_L4-L5_SMC_AT</td>\n",
       "      <td>ON</td>\n",
       "    </tr>\n",
       "    <tr>\n",
       "      <th>385</th>\n",
       "      <td>0.252</td>\n",
       "      <td>ECOG_L4-L5_SMC_AT</td>\n",
       "      <td>ON</td>\n",
       "    </tr>\n",
       "    <tr>\n",
       "      <th>386</th>\n",
       "      <td>0.460</td>\n",
       "      <td>ECOG_L4-L5_SMC_AT</td>\n",
       "      <td>ON</td>\n",
       "    </tr>\n",
       "    <tr>\n",
       "      <th>387</th>\n",
       "      <td>0.224</td>\n",
       "      <td>ECOG_L4-L5_SMC_AT</td>\n",
       "      <td>ON</td>\n",
       "    </tr>\n",
       "  </tbody>\n",
       "</table>\n",
       "<p>945 rows × 3 columns</p>\n",
       "</div>"
      ],
      "text/plain": [
       "     Burst Duration (s)           Location Medication\n",
       "0                 0.132  ECOG_L4-L5_SMC_AT        OFF\n",
       "1                 0.968  ECOG_L4-L5_SMC_AT        OFF\n",
       "2                 0.772  ECOG_L4-L5_SMC_AT        OFF\n",
       "3                 0.912  ECOG_L4-L5_SMC_AT        OFF\n",
       "4                 0.268  ECOG_L4-L5_SMC_AT        OFF\n",
       "..                  ...                ...        ...\n",
       "383               0.220  ECOG_L4-L5_SMC_AT         ON\n",
       "384               0.180  ECOG_L4-L5_SMC_AT         ON\n",
       "385               0.252  ECOG_L4-L5_SMC_AT         ON\n",
       "386               0.460  ECOG_L4-L5_SMC_AT         ON\n",
       "387               0.224  ECOG_L4-L5_SMC_AT         ON\n",
       "\n",
       "[945 rows x 3 columns]"
      ]
     },
     "execution_count": 587,
     "metadata": {},
     "output_type": "execute_result"
    }
   ],
   "source": [
    "cdf4"
   ]
  },
  {
   "cell_type": "markdown",
   "id": "e4ceaa96-c2b6-48cb-818b-e0429ee4fe71",
   "metadata": {},
   "source": [
    "# Figure"
   ]
  },
  {
   "cell_type": "code",
   "execution_count": 588,
   "id": "f2951032-91dc-42e8-941d-e4b7b0d9ba40",
   "metadata": {},
   "outputs": [
    {
     "data": {
      "image/png": "[encoded data removed]",
      "text/plain": [
       "<Figure size 3360x1764 with 3 Axes>"
      ]
     },
     "metadata": {},
     "output_type": "display_data"
    }
   ],
   "source": [
    "fig,ax = plt.subplots(1,3, figsize=(25,15),)\n",
    "plt.subplot(131)\n",
    "plt.plot(freqs,npow_3,label= 'OFF ',linewidth=4)\n",
    "plt.plot(freqs,npow_3_on,label= 'ON',linewidth=4)\n",
    "plt.xlim(0,60)\n",
    "plt.xlabel('Frequency (Hz)')\n",
    "plt.ylabel('Relative spectral power (au)')\n",
    "plt.legend(title='Medication', fontsize=15,title_fontsize=15)\n",
    "        \n",
    "plt.subplot(132)           \n",
    "alpha_box=0.3\n",
    "sns.barplot(data=cdf_probdur_4, x='Burst Duration (s)', y='Burst Probability (%)', hue='Medication') \n",
    "plt.legend(title='Medication', fontsize=15,title_fontsize=15)\n",
    "\n",
    "\n",
    "plt.subplot(133)\n",
    "alpha_box = 0.4\n",
    "g = sns.boxplot(x='Location', y='Burst Duration (s)', hue='Medication',data=cdf4,         \n",
    "           showfliers=False,meanline=dict(color='r'), showmeans=True,\n",
    "           whiskerprops={'linewidth':2, \"zorder\":10, \"alpha\":alpha_box},\n",
    "           capprops={\"alpha\":alpha_box},\n",
    "           meanprops=dict(linestyle='-.', linewidth=5,color='r'))\n",
    "plt.xlabel('Primary Motor Cortex')\n",
    "plt.legend(title='Medication', fontsize=15,title_fontsize=15,loc='upper right')\n",
    "\n",
    "for n, ax in enumerate(ax):\n",
    "     ax.text(-0.1, 1.1, string.ascii_uppercase[n], transform=ax.transAxes, \n",
    "           size=30, weight='bold')\n",
    "    \n",
    "sns.despine()"
   ]
  },
  {
   "cell_type": "code",
   "execution_count": 580,
   "id": "aa3d3752-6597-4ea4-afb3-e7bc478f87d8",
   "metadata": {},
   "outputs": [
    {
     "data": {
      "text/plain": [
       "0.26358364312267657"
      ]
     },
     "execution_count": 580,
     "metadata": {},
     "output_type": "execute_result"
    }
   ],
   "source": [
    "np.mean(burst_duration_5)"
   ]
  },
  {
   "cell_type": "code",
   "execution_count": 581,
   "id": "0148b9da-97c4-433a-af59-b082928cc4ad",
   "metadata": {},
   "outputs": [
    {
     "data": {
      "text/plain": [
       "0.26461538461538464"
      ]
     },
     "execution_count": 581,
     "metadata": {},
     "output_type": "execute_result"
    }
   ],
   "source": [
    "np.mean(burst_duration_5_on)"
   ]
  },
  {
   "cell_type": "code",
   "execution_count": null,
   "id": "e097d75d-0184-444e-acb2-6046545ae475",
   "metadata": {},
   "outputs": [],
   "source": []
  }
 ],
 "metadata": {
  "kernelspec": {
   "display_name": "Python 3",
   "language": "python",
   "name": "python3"
  },
  "language_info": {
   "codemirror_mode": {
    "name": "ipython",
    "version": 3
   },
   "file_extension": ".py",
   "mimetype": "text/x-python",
   "name": "python",
   "nbconvert_exporter": "python",
   "pygments_lexer": "ipython3",
   "version": "3.9.4"
  }
 },
 "nbformat": 4,
 "nbformat_minor": 5
}
